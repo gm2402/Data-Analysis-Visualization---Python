{
 "cells": [
  {
   "cell_type": "code",
   "execution_count": 1,
   "id": "239ca638",
   "metadata": {},
   "outputs": [],
   "source": [
    "import numpy as np\n",
    "import pandas as pd\n",
    "import matplotlib.pyplot as plt\n",
    "import seaborn as sns\n",
    "import warnings\n",
    "warnings.filterwarnings('ignore')\n",
    "%matplotlib inline"
   ]
  },
  {
   "cell_type": "code",
   "execution_count": 2,
   "id": "66bdfeea",
   "metadata": {},
   "outputs": [],
   "source": [
    "df=pd.read_csv('WorldInternetUser.csv',encoding='latin-1')"
   ]
  },
  {
   "cell_type": "code",
   "execution_count": 3,
   "id": "6b83aa5b",
   "metadata": {},
   "outputs": [
    {
     "data": {
      "text/html": [
       "<div>\n",
       "<style scoped>\n",
       "    .dataframe tbody tr th:only-of-type {\n",
       "        vertical-align: middle;\n",
       "    }\n",
       "\n",
       "    .dataframe tbody tr th {\n",
       "        vertical-align: top;\n",
       "    }\n",
       "\n",
       "    .dataframe thead th {\n",
       "        text-align: right;\n",
       "    }\n",
       "</style>\n",
       "<table border=\"1\" class=\"dataframe\">\n",
       "  <thead>\n",
       "    <tr style=\"text-align: right;\">\n",
       "      <th></th>\n",
       "      <th>Country</th>\n",
       "      <th>Region</th>\n",
       "      <th>Population</th>\n",
       "      <th>Internet Users</th>\n",
       "      <th>% of Population</th>\n",
       "    </tr>\n",
       "  </thead>\n",
       "  <tbody>\n",
       "    <tr>\n",
       "      <th>0</th>\n",
       "      <td>_World</td>\n",
       "      <td>NaN</td>\n",
       "      <td>7920539977</td>\n",
       "      <td>5424080321</td>\n",
       "      <td>68.48</td>\n",
       "    </tr>\n",
       "    <tr>\n",
       "      <th>1</th>\n",
       "      <td>Afganistan</td>\n",
       "      <td>Asia</td>\n",
       "      <td>40403518</td>\n",
       "      <td>9237489</td>\n",
       "      <td>22.86</td>\n",
       "    </tr>\n",
       "    <tr>\n",
       "      <th>2</th>\n",
       "      <td>Albania</td>\n",
       "      <td>Europe</td>\n",
       "      <td>2872758</td>\n",
       "      <td>2191467</td>\n",
       "      <td>76.28</td>\n",
       "    </tr>\n",
       "    <tr>\n",
       "      <th>3</th>\n",
       "      <td>Algeria</td>\n",
       "      <td>Africa</td>\n",
       "      <td>45150879</td>\n",
       "      <td>37836425</td>\n",
       "      <td>83.80</td>\n",
       "    </tr>\n",
       "    <tr>\n",
       "      <th>4</th>\n",
       "      <td>American Samoa</td>\n",
       "      <td>Oceania</td>\n",
       "      <td>54995</td>\n",
       "      <td>34800</td>\n",
       "      <td>63.28</td>\n",
       "    </tr>\n",
       "    <tr>\n",
       "      <th>...</th>\n",
       "      <td>...</td>\n",
       "      <td>...</td>\n",
       "      <td>...</td>\n",
       "      <td>...</td>\n",
       "      <td>...</td>\n",
       "    </tr>\n",
       "    <tr>\n",
       "      <th>238</th>\n",
       "      <td>Wallis &amp; Futuna</td>\n",
       "      <td>Oceania</td>\n",
       "      <td>10932</td>\n",
       "      <td>6200</td>\n",
       "      <td>56.71</td>\n",
       "    </tr>\n",
       "    <tr>\n",
       "      <th>239</th>\n",
       "      <td>Western Sahara</td>\n",
       "      <td>Africa</td>\n",
       "      <td>611875</td>\n",
       "      <td>28000</td>\n",
       "      <td>4.58</td>\n",
       "    </tr>\n",
       "    <tr>\n",
       "      <th>240</th>\n",
       "      <td>Yemen</td>\n",
       "      <td>Middle East</td>\n",
       "      <td>30938435</td>\n",
       "      <td>8353377</td>\n",
       "      <td>27.00</td>\n",
       "    </tr>\n",
       "    <tr>\n",
       "      <th>241</th>\n",
       "      <td>Zambia</td>\n",
       "      <td>Africa</td>\n",
       "      <td>18920651</td>\n",
       "      <td>9870427</td>\n",
       "      <td>52.17</td>\n",
       "    </tr>\n",
       "    <tr>\n",
       "      <th>242</th>\n",
       "      <td>Zimbabwe</td>\n",
       "      <td>Africa</td>\n",
       "      <td>15092171</td>\n",
       "      <td>8400000</td>\n",
       "      <td>55.66</td>\n",
       "    </tr>\n",
       "  </tbody>\n",
       "</table>\n",
       "<p>243 rows × 5 columns</p>\n",
       "</div>"
      ],
      "text/plain": [
       "             Country       Region  Population  Internet Users  % of Population\n",
       "0             _World          NaN  7920539977      5424080321            68.48\n",
       "1         Afganistan         Asia    40403518         9237489            22.86\n",
       "2            Albania       Europe     2872758         2191467            76.28\n",
       "3            Algeria       Africa    45150879        37836425            83.80\n",
       "4     American Samoa      Oceania       54995           34800            63.28\n",
       "..               ...          ...         ...             ...              ...\n",
       "238  Wallis & Futuna      Oceania       10932            6200            56.71\n",
       "239   Western Sahara       Africa      611875           28000             4.58\n",
       "240            Yemen  Middle East    30938435         8353377            27.00\n",
       "241           Zambia       Africa    18920651         9870427            52.17\n",
       "242         Zimbabwe       Africa    15092171         8400000            55.66\n",
       "\n",
       "[243 rows x 5 columns]"
      ]
     },
     "execution_count": 3,
     "metadata": {},
     "output_type": "execute_result"
    }
   ],
   "source": [
    "df"
   ]
  },
  {
   "cell_type": "markdown",
   "id": "c998a71c",
   "metadata": {},
   "source": [
    "### The Above data contains 243 rows and 5 columns"
   ]
  },
  {
   "cell_type": "code",
   "execution_count": 4,
   "id": "6f842253",
   "metadata": {},
   "outputs": [
    {
     "name": "stdout",
     "output_type": "stream",
     "text": [
      "<class 'pandas.core.frame.DataFrame'>\n",
      "RangeIndex: 243 entries, 0 to 242\n",
      "Data columns (total 5 columns):\n",
      " #   Column           Non-Null Count  Dtype  \n",
      "---  ------           --------------  -----  \n",
      " 0   Country          243 non-null    object \n",
      " 1   Region           242 non-null    object \n",
      " 2   Population       243 non-null    int64  \n",
      " 3   Internet Users   243 non-null    int64  \n",
      " 4   % of Population  243 non-null    float64\n",
      "dtypes: float64(1), int64(2), object(2)\n",
      "memory usage: 9.6+ KB\n"
     ]
    }
   ],
   "source": [
    "df.info()"
   ]
  },
  {
   "cell_type": "markdown",
   "id": "22a89265",
   "metadata": {},
   "source": [
    "#### This dataset has 3 numerical and 2 categorical column"
   ]
  },
  {
   "cell_type": "code",
   "execution_count": 5,
   "id": "c8e5fe13",
   "metadata": {},
   "outputs": [
    {
     "data": {
      "text/plain": [
       "Country            0.000000\n",
       "Region             0.411523\n",
       "Population         0.000000\n",
       "Internet Users     0.000000\n",
       "% of Population    0.000000\n",
       "dtype: float64"
      ]
     },
     "execution_count": 5,
     "metadata": {},
     "output_type": "execute_result"
    }
   ],
   "source": [
    "df.isnull().sum()/len(df)*100"
   ]
  },
  {
   "cell_type": "markdown",
   "id": "98f2c45d",
   "metadata": {},
   "source": [
    "### The above dataset has only one column containing null values"
   ]
  },
  {
   "cell_type": "code",
   "execution_count": 6,
   "id": "a577ffc5",
   "metadata": {},
   "outputs": [
    {
     "data": {
      "text/html": [
       "<div>\n",
       "<style scoped>\n",
       "    .dataframe tbody tr th:only-of-type {\n",
       "        vertical-align: middle;\n",
       "    }\n",
       "\n",
       "    .dataframe tbody tr th {\n",
       "        vertical-align: top;\n",
       "    }\n",
       "\n",
       "    .dataframe thead th {\n",
       "        text-align: right;\n",
       "    }\n",
       "</style>\n",
       "<table border=\"1\" class=\"dataframe\">\n",
       "  <thead>\n",
       "    <tr style=\"text-align: right;\">\n",
       "      <th></th>\n",
       "      <th>Country</th>\n",
       "      <th>Region</th>\n",
       "      <th>Population</th>\n",
       "      <th>Internet Users</th>\n",
       "      <th>% of Population</th>\n",
       "    </tr>\n",
       "  </thead>\n",
       "  <tbody>\n",
       "    <tr>\n",
       "      <th>0</th>\n",
       "      <td>_World</td>\n",
       "      <td>NaN</td>\n",
       "      <td>7920539977</td>\n",
       "      <td>5424080321</td>\n",
       "      <td>68.48</td>\n",
       "    </tr>\n",
       "    <tr>\n",
       "      <th>1</th>\n",
       "      <td>Afganistan</td>\n",
       "      <td>Asia</td>\n",
       "      <td>40403518</td>\n",
       "      <td>9237489</td>\n",
       "      <td>22.86</td>\n",
       "    </tr>\n",
       "    <tr>\n",
       "      <th>2</th>\n",
       "      <td>Albania</td>\n",
       "      <td>Europe</td>\n",
       "      <td>2872758</td>\n",
       "      <td>2191467</td>\n",
       "      <td>76.28</td>\n",
       "    </tr>\n",
       "    <tr>\n",
       "      <th>3</th>\n",
       "      <td>Algeria</td>\n",
       "      <td>Africa</td>\n",
       "      <td>45150879</td>\n",
       "      <td>37836425</td>\n",
       "      <td>83.80</td>\n",
       "    </tr>\n",
       "    <tr>\n",
       "      <th>4</th>\n",
       "      <td>American Samoa</td>\n",
       "      <td>Oceania</td>\n",
       "      <td>54995</td>\n",
       "      <td>34800</td>\n",
       "      <td>63.28</td>\n",
       "    </tr>\n",
       "    <tr>\n",
       "      <th>...</th>\n",
       "      <td>...</td>\n",
       "      <td>...</td>\n",
       "      <td>...</td>\n",
       "      <td>...</td>\n",
       "      <td>...</td>\n",
       "    </tr>\n",
       "    <tr>\n",
       "      <th>238</th>\n",
       "      <td>Wallis &amp; Futuna</td>\n",
       "      <td>Oceania</td>\n",
       "      <td>10932</td>\n",
       "      <td>6200</td>\n",
       "      <td>56.71</td>\n",
       "    </tr>\n",
       "    <tr>\n",
       "      <th>239</th>\n",
       "      <td>Western Sahara</td>\n",
       "      <td>Africa</td>\n",
       "      <td>611875</td>\n",
       "      <td>28000</td>\n",
       "      <td>4.58</td>\n",
       "    </tr>\n",
       "    <tr>\n",
       "      <th>240</th>\n",
       "      <td>Yemen</td>\n",
       "      <td>Middle East</td>\n",
       "      <td>30938435</td>\n",
       "      <td>8353377</td>\n",
       "      <td>27.00</td>\n",
       "    </tr>\n",
       "    <tr>\n",
       "      <th>241</th>\n",
       "      <td>Zambia</td>\n",
       "      <td>Africa</td>\n",
       "      <td>18920651</td>\n",
       "      <td>9870427</td>\n",
       "      <td>52.17</td>\n",
       "    </tr>\n",
       "    <tr>\n",
       "      <th>242</th>\n",
       "      <td>Zimbabwe</td>\n",
       "      <td>Africa</td>\n",
       "      <td>15092171</td>\n",
       "      <td>8400000</td>\n",
       "      <td>55.66</td>\n",
       "    </tr>\n",
       "  </tbody>\n",
       "</table>\n",
       "<p>243 rows × 5 columns</p>\n",
       "</div>"
      ],
      "text/plain": [
       "             Country       Region  Population  Internet Users  % of Population\n",
       "0             _World          NaN  7920539977      5424080321            68.48\n",
       "1         Afganistan         Asia    40403518         9237489            22.86\n",
       "2            Albania       Europe     2872758         2191467            76.28\n",
       "3            Algeria       Africa    45150879        37836425            83.80\n",
       "4     American Samoa      Oceania       54995           34800            63.28\n",
       "..               ...          ...         ...             ...              ...\n",
       "238  Wallis & Futuna      Oceania       10932            6200            56.71\n",
       "239   Western Sahara       Africa      611875           28000             4.58\n",
       "240            Yemen  Middle East    30938435         8353377            27.00\n",
       "241           Zambia       Africa    18920651         9870427            52.17\n",
       "242         Zimbabwe       Africa    15092171         8400000            55.66\n",
       "\n",
       "[243 rows x 5 columns]"
      ]
     },
     "execution_count": 6,
     "metadata": {},
     "output_type": "execute_result"
    }
   ],
   "source": [
    "df"
   ]
  },
  {
   "cell_type": "code",
   "execution_count": 7,
   "id": "009d77bd",
   "metadata": {},
   "outputs": [
    {
     "data": {
      "text/plain": [
       "0               _World\n",
       "1           Afganistan\n",
       "2              Albania\n",
       "3              Algeria\n",
       "4       American Samoa\n",
       "            ...       \n",
       "238    Wallis & Futuna\n",
       "239     Western Sahara\n",
       "240              Yemen\n",
       "241             Zambia\n",
       "242           Zimbabwe\n",
       "Name: Country, Length: 243, dtype: object"
      ]
     },
     "execution_count": 7,
     "metadata": {},
     "output_type": "execute_result"
    }
   ],
   "source": [
    "df['Country']"
   ]
  },
  {
   "cell_type": "code",
   "execution_count": 8,
   "id": "f5aca212",
   "metadata": {},
   "outputs": [
    {
     "data": {
      "text/plain": [
       "array(['_World', 'Afganistan', 'Albania', 'Algeria', 'American Samoa',\n",
       "       'Andorra', 'Angola', 'Anguilla', 'Antarctica', 'Antigua & Barbuda',\n",
       "       'Argentina', 'Armenia', 'Aruba', 'Australia', 'Austria',\n",
       "       'Azerbaijan', 'Bahamas', 'Bahrain', 'Bangladesh', 'Barbados',\n",
       "       'Belarus', 'Belgium', 'Belize', 'Benin', 'Bermuda', 'Bhutan',\n",
       "       'Bolivia', 'Bonaire, S.E., Saba', 'Bosnia-Herzegovina', 'Botswana',\n",
       "       'Brazil', 'British Virgin Islands', 'Brunei Darussulam',\n",
       "       'Bulgaria', 'Burkina Faso', 'Burundi', 'Cabo Verde', 'Cambodia',\n",
       "       'Cameroon', 'Canada', 'Cayman Islands', 'Central African Rep.',\n",
       "       'Chad', 'Chile', 'China', 'Christmas Island',\n",
       "       'Cocos (Keeling) Is.', 'Colombia', 'Comoros', 'Congo',\n",
       "       'Congo, Dem. Rep.', 'Cook Islands', 'Costa Rica', \"Cote d'Ivoire\",\n",
       "       'Croatia', 'Cuba', 'Curaçao', 'Cyprus', 'Czech Republic',\n",
       "       'Denmark', 'Djibouti', 'Dominica', 'Dominican Republic', 'Ecuador',\n",
       "       'Egypt', 'El Salvador', 'Equatorial Guinea', 'Eritrea', 'Estonia',\n",
       "       'Eswatini', 'Ethiopia', 'Falkland Islands', 'Faroe Islands',\n",
       "       'Fiji', 'Finland', 'France', 'French Guiana', 'French Polynesia',\n",
       "       'Gabon', 'Gambia', 'Georgia', 'Germany', 'Ghana', 'Gibraltar',\n",
       "       'Greece', 'Greenland', 'Grenada', 'Guadeloupe', 'Guam',\n",
       "       'Guatemala', 'Guernsey & Alderney', 'Guinea', 'Guinea-Bissau',\n",
       "       'Guyana', 'Haiti', 'Honduras', 'Hong Kong', 'Hungary', 'Iceland',\n",
       "       'India', 'Indonesia', 'Iran', 'Iraq', 'Ireland', 'Israel', 'Italy',\n",
       "       'Jamaica', 'Japan', 'Jersey', 'Jordan', 'Kazakhstan', 'Kenya',\n",
       "       'Kiribati', 'Korea, North', 'Korea, South', 'Kosovo', 'Kuwait',\n",
       "       'Kyrgystan', 'Laos', 'Latvia', 'Lebanon', 'Lesotho', 'Liberia',\n",
       "       'Libya', 'Liechtenstein', 'Lithuania', 'Luxembourg', 'Macao',\n",
       "       'Madagascar', 'Malawi', 'Malaysia', 'Maldives', 'Mali', 'Malta',\n",
       "       'Man, Isle of', 'Marshall Islands', 'Martinique', 'Mauritania',\n",
       "       'Mauritius', 'Mayotte (FR)', 'Mexico', 'Micronesia', 'Moldova',\n",
       "       'Monaco', 'Mongolia', 'Monserrat', 'Montenegro', 'Morocco',\n",
       "       'Mozambique', 'Myanmar', 'Namibia', 'Nauru', 'Nepal',\n",
       "       'Netherlands', 'New Caledonia', 'New Zealand', 'Nicaragua',\n",
       "       'Niger', 'Nigeria', 'Niue', 'Norfolk Island', 'North Macedonia',\n",
       "       'Northern Marianas', 'Norway', 'Oman', 'Pakistan', 'Palau',\n",
       "       'Palestine', 'Panama', 'Papau New Guinea', 'Paraguay', 'Peru',\n",
       "       'Philippines', 'Poland', 'Portugal', 'Puerto Rico', 'Qatar',\n",
       "       'Reunion (FR)', 'Romania', 'Russia', 'Rwanda', 'Saint Helena (UK)',\n",
       "       'Saint Lucia', 'Samoa', 'San Marino', 'Sao Tome & Principe',\n",
       "       'Saudi Arabia', 'Senegal', 'Serbia', 'Seychelles', 'Sierra Leone',\n",
       "       'Singapore', 'Sint Maarten (NL)', 'Slovakia', 'Slovenia',\n",
       "       'Solomon Islands', 'Somalia', 'South Africa', 'South Sudan',\n",
       "       'Spain', 'Sri Lanka', 'St. Barthélemy (FR)', 'St. Kitts & Nevis',\n",
       "       'St. Martin (FR)', 'St. Pierre & Maquelon',\n",
       "       'St. Vincent & Grenadines', 'Sudan', 'Suriname',\n",
       "       'Svalbard & Jan Mayen', 'Sweden', 'Switzerland', 'Syria', 'Taiwan',\n",
       "       'Tajikistan', 'Tanzania', 'Thailand', 'Timor-Leste', 'Togo',\n",
       "       'Tokelau', 'Tonga', 'Trinidad & Tobago', 'Tunisia', 'Turkey',\n",
       "       'Turkmenistan', 'Turks & Caicos', 'Tuvalu', 'Uganda', 'Ukraine',\n",
       "       'United Arab Emirates', 'United Kingdom', 'United States',\n",
       "       'Uruguay', 'US Virgin Islands', 'Uzbekistan', 'Vanuatu',\n",
       "       'Vatican City State', 'Venezuela', 'Vietnam', 'Wallis & Futuna',\n",
       "       'Western Sahara', 'Yemen', 'Zambia', 'Zimbabwe'], dtype=object)"
      ]
     },
     "execution_count": 8,
     "metadata": {},
     "output_type": "execute_result"
    }
   ],
   "source": [
    "df['Country'].unique()"
   ]
  },
  {
   "cell_type": "code",
   "execution_count": 9,
   "id": "e3494d0d",
   "metadata": {},
   "outputs": [],
   "source": [
    "df['Country']=df['Country'].replace('_World','World')"
   ]
  },
  {
   "cell_type": "code",
   "execution_count": 10,
   "id": "21002875",
   "metadata": {},
   "outputs": [
    {
     "data": {
      "text/plain": [
       "False"
      ]
     },
     "execution_count": 10,
     "metadata": {},
     "output_type": "execute_result"
    }
   ],
   "source": [
    "df['Country'].duplicated().any()"
   ]
  },
  {
   "cell_type": "code",
   "execution_count": 11,
   "id": "dfa01bad",
   "metadata": {},
   "outputs": [
    {
     "data": {
      "text/plain": [
       "array(['World', 'Afganistan', 'Albania', 'Algeria', 'American Samoa',\n",
       "       'Andorra', 'Angola', 'Anguilla', 'Antarctica', 'Antigua & Barbuda',\n",
       "       'Argentina', 'Armenia', 'Aruba', 'Australia', 'Austria',\n",
       "       'Azerbaijan', 'Bahamas', 'Bahrain', 'Bangladesh', 'Barbados',\n",
       "       'Belarus', 'Belgium', 'Belize', 'Benin', 'Bermuda', 'Bhutan',\n",
       "       'Bolivia', 'Bonaire, S.E., Saba', 'Bosnia-Herzegovina', 'Botswana',\n",
       "       'Brazil', 'British Virgin Islands', 'Brunei Darussulam',\n",
       "       'Bulgaria', 'Burkina Faso', 'Burundi', 'Cabo Verde', 'Cambodia',\n",
       "       'Cameroon', 'Canada', 'Cayman Islands', 'Central African Rep.',\n",
       "       'Chad', 'Chile', 'China', 'Christmas Island',\n",
       "       'Cocos (Keeling) Is.', 'Colombia', 'Comoros', 'Congo',\n",
       "       'Congo, Dem. Rep.', 'Cook Islands', 'Costa Rica', \"Cote d'Ivoire\",\n",
       "       'Croatia', 'Cuba', 'Curaçao', 'Cyprus', 'Czech Republic',\n",
       "       'Denmark', 'Djibouti', 'Dominica', 'Dominican Republic', 'Ecuador',\n",
       "       'Egypt', 'El Salvador', 'Equatorial Guinea', 'Eritrea', 'Estonia',\n",
       "       'Eswatini', 'Ethiopia', 'Falkland Islands', 'Faroe Islands',\n",
       "       'Fiji', 'Finland', 'France', 'French Guiana', 'French Polynesia',\n",
       "       'Gabon', 'Gambia', 'Georgia', 'Germany', 'Ghana', 'Gibraltar',\n",
       "       'Greece', 'Greenland', 'Grenada', 'Guadeloupe', 'Guam',\n",
       "       'Guatemala', 'Guernsey & Alderney', 'Guinea', 'Guinea-Bissau',\n",
       "       'Guyana', 'Haiti', 'Honduras', 'Hong Kong', 'Hungary', 'Iceland',\n",
       "       'India', 'Indonesia', 'Iran', 'Iraq', 'Ireland', 'Israel', 'Italy',\n",
       "       'Jamaica', 'Japan', 'Jersey', 'Jordan', 'Kazakhstan', 'Kenya',\n",
       "       'Kiribati', 'Korea, North', 'Korea, South', 'Kosovo', 'Kuwait',\n",
       "       'Kyrgystan', 'Laos', 'Latvia', 'Lebanon', 'Lesotho', 'Liberia',\n",
       "       'Libya', 'Liechtenstein', 'Lithuania', 'Luxembourg', 'Macao',\n",
       "       'Madagascar', 'Malawi', 'Malaysia', 'Maldives', 'Mali', 'Malta',\n",
       "       'Man, Isle of', 'Marshall Islands', 'Martinique', 'Mauritania',\n",
       "       'Mauritius', 'Mayotte (FR)', 'Mexico', 'Micronesia', 'Moldova',\n",
       "       'Monaco', 'Mongolia', 'Monserrat', 'Montenegro', 'Morocco',\n",
       "       'Mozambique', 'Myanmar', 'Namibia', 'Nauru', 'Nepal',\n",
       "       'Netherlands', 'New Caledonia', 'New Zealand', 'Nicaragua',\n",
       "       'Niger', 'Nigeria', 'Niue', 'Norfolk Island', 'North Macedonia',\n",
       "       'Northern Marianas', 'Norway', 'Oman', 'Pakistan', 'Palau',\n",
       "       'Palestine', 'Panama', 'Papau New Guinea', 'Paraguay', 'Peru',\n",
       "       'Philippines', 'Poland', 'Portugal', 'Puerto Rico', 'Qatar',\n",
       "       'Reunion (FR)', 'Romania', 'Russia', 'Rwanda', 'Saint Helena (UK)',\n",
       "       'Saint Lucia', 'Samoa', 'San Marino', 'Sao Tome & Principe',\n",
       "       'Saudi Arabia', 'Senegal', 'Serbia', 'Seychelles', 'Sierra Leone',\n",
       "       'Singapore', 'Sint Maarten (NL)', 'Slovakia', 'Slovenia',\n",
       "       'Solomon Islands', 'Somalia', 'South Africa', 'South Sudan',\n",
       "       'Spain', 'Sri Lanka', 'St. Barthélemy (FR)', 'St. Kitts & Nevis',\n",
       "       'St. Martin (FR)', 'St. Pierre & Maquelon',\n",
       "       'St. Vincent & Grenadines', 'Sudan', 'Suriname',\n",
       "       'Svalbard & Jan Mayen', 'Sweden', 'Switzerland', 'Syria', 'Taiwan',\n",
       "       'Tajikistan', 'Tanzania', 'Thailand', 'Timor-Leste', 'Togo',\n",
       "       'Tokelau', 'Tonga', 'Trinidad & Tobago', 'Tunisia', 'Turkey',\n",
       "       'Turkmenistan', 'Turks & Caicos', 'Tuvalu', 'Uganda', 'Ukraine',\n",
       "       'United Arab Emirates', 'United Kingdom', 'United States',\n",
       "       'Uruguay', 'US Virgin Islands', 'Uzbekistan', 'Vanuatu',\n",
       "       'Vatican City State', 'Venezuela', 'Vietnam', 'Wallis & Futuna',\n",
       "       'Western Sahara', 'Yemen', 'Zambia', 'Zimbabwe'], dtype=object)"
      ]
     },
     "execution_count": 11,
     "metadata": {},
     "output_type": "execute_result"
    }
   ],
   "source": [
    "df['Country'].unique()"
   ]
  },
  {
   "cell_type": "code",
   "execution_count": 12,
   "id": "46452d2a",
   "metadata": {},
   "outputs": [],
   "source": [
    "df.dropna(inplace=True)"
   ]
  },
  {
   "cell_type": "code",
   "execution_count": null,
   "id": "d9b86f97",
   "metadata": {},
   "outputs": [],
   "source": []
  },
  {
   "cell_type": "code",
   "execution_count": 13,
   "id": "2231e2bb",
   "metadata": {},
   "outputs": [],
   "source": [
    "df['Region']=df['Region'].replace(np.nan,'world')"
   ]
  },
  {
   "cell_type": "code",
   "execution_count": 14,
   "id": "70e65faa",
   "metadata": {},
   "outputs": [
    {
     "data": {
      "text/html": [
       "<div>\n",
       "<style scoped>\n",
       "    .dataframe tbody tr th:only-of-type {\n",
       "        vertical-align: middle;\n",
       "    }\n",
       "\n",
       "    .dataframe tbody tr th {\n",
       "        vertical-align: top;\n",
       "    }\n",
       "\n",
       "    .dataframe thead th {\n",
       "        text-align: right;\n",
       "    }\n",
       "</style>\n",
       "<table border=\"1\" class=\"dataframe\">\n",
       "  <thead>\n",
       "    <tr style=\"text-align: right;\">\n",
       "      <th></th>\n",
       "      <th>Country</th>\n",
       "      <th>Region</th>\n",
       "      <th>Population</th>\n",
       "      <th>Internet Users</th>\n",
       "      <th>% of Population</th>\n",
       "    </tr>\n",
       "  </thead>\n",
       "  <tbody>\n",
       "    <tr>\n",
       "      <th>1</th>\n",
       "      <td>Afganistan</td>\n",
       "      <td>Asia</td>\n",
       "      <td>40403518</td>\n",
       "      <td>9237489</td>\n",
       "      <td>22.86</td>\n",
       "    </tr>\n",
       "    <tr>\n",
       "      <th>2</th>\n",
       "      <td>Albania</td>\n",
       "      <td>Europe</td>\n",
       "      <td>2872758</td>\n",
       "      <td>2191467</td>\n",
       "      <td>76.28</td>\n",
       "    </tr>\n",
       "    <tr>\n",
       "      <th>3</th>\n",
       "      <td>Algeria</td>\n",
       "      <td>Africa</td>\n",
       "      <td>45150879</td>\n",
       "      <td>37836425</td>\n",
       "      <td>83.80</td>\n",
       "    </tr>\n",
       "    <tr>\n",
       "      <th>4</th>\n",
       "      <td>American Samoa</td>\n",
       "      <td>Oceania</td>\n",
       "      <td>54995</td>\n",
       "      <td>34800</td>\n",
       "      <td>63.28</td>\n",
       "    </tr>\n",
       "    <tr>\n",
       "      <th>5</th>\n",
       "      <td>Andorra</td>\n",
       "      <td>Europe</td>\n",
       "      <td>77465</td>\n",
       "      <td>73101</td>\n",
       "      <td>94.37</td>\n",
       "    </tr>\n",
       "    <tr>\n",
       "      <th>...</th>\n",
       "      <td>...</td>\n",
       "      <td>...</td>\n",
       "      <td>...</td>\n",
       "      <td>...</td>\n",
       "      <td>...</td>\n",
       "    </tr>\n",
       "    <tr>\n",
       "      <th>238</th>\n",
       "      <td>Wallis &amp; Futuna</td>\n",
       "      <td>Oceania</td>\n",
       "      <td>10932</td>\n",
       "      <td>6200</td>\n",
       "      <td>56.71</td>\n",
       "    </tr>\n",
       "    <tr>\n",
       "      <th>239</th>\n",
       "      <td>Western Sahara</td>\n",
       "      <td>Africa</td>\n",
       "      <td>611875</td>\n",
       "      <td>28000</td>\n",
       "      <td>4.58</td>\n",
       "    </tr>\n",
       "    <tr>\n",
       "      <th>240</th>\n",
       "      <td>Yemen</td>\n",
       "      <td>Middle East</td>\n",
       "      <td>30938435</td>\n",
       "      <td>8353377</td>\n",
       "      <td>27.00</td>\n",
       "    </tr>\n",
       "    <tr>\n",
       "      <th>241</th>\n",
       "      <td>Zambia</td>\n",
       "      <td>Africa</td>\n",
       "      <td>18920651</td>\n",
       "      <td>9870427</td>\n",
       "      <td>52.17</td>\n",
       "    </tr>\n",
       "    <tr>\n",
       "      <th>242</th>\n",
       "      <td>Zimbabwe</td>\n",
       "      <td>Africa</td>\n",
       "      <td>15092171</td>\n",
       "      <td>8400000</td>\n",
       "      <td>55.66</td>\n",
       "    </tr>\n",
       "  </tbody>\n",
       "</table>\n",
       "<p>242 rows × 5 columns</p>\n",
       "</div>"
      ],
      "text/plain": [
       "             Country       Region  Population  Internet Users  % of Population\n",
       "1         Afganistan         Asia    40403518         9237489            22.86\n",
       "2            Albania       Europe     2872758         2191467            76.28\n",
       "3            Algeria       Africa    45150879        37836425            83.80\n",
       "4     American Samoa      Oceania       54995           34800            63.28\n",
       "5            Andorra       Europe       77465           73101            94.37\n",
       "..               ...          ...         ...             ...              ...\n",
       "238  Wallis & Futuna      Oceania       10932            6200            56.71\n",
       "239   Western Sahara       Africa      611875           28000             4.58\n",
       "240            Yemen  Middle East    30938435         8353377            27.00\n",
       "241           Zambia       Africa    18920651         9870427            52.17\n",
       "242         Zimbabwe       Africa    15092171         8400000            55.66\n",
       "\n",
       "[242 rows x 5 columns]"
      ]
     },
     "execution_count": 14,
     "metadata": {},
     "output_type": "execute_result"
    }
   ],
   "source": [
    "df"
   ]
  },
  {
   "cell_type": "code",
   "execution_count": 15,
   "id": "e9560389",
   "metadata": {},
   "outputs": [
    {
     "data": {
      "text/plain": [
       "Country            0\n",
       "Region             0\n",
       "Population         0\n",
       "Internet Users     0\n",
       "% of Population    0\n",
       "dtype: int64"
      ]
     },
     "execution_count": 15,
     "metadata": {},
     "output_type": "execute_result"
    }
   ],
   "source": [
    "df.isnull().sum()"
   ]
  },
  {
   "cell_type": "code",
   "execution_count": 16,
   "id": "a4bac785",
   "metadata": {},
   "outputs": [
    {
     "data": {
      "text/plain": [
       "Index(['Population', 'Internet Users', '% of Population'], dtype='object')"
      ]
     },
     "execution_count": 16,
     "metadata": {},
     "output_type": "execute_result"
    }
   ],
   "source": [
    "num_col=df.select_dtypes(include=['int','float']).columns\n",
    "num_col"
   ]
  },
  {
   "cell_type": "code",
   "execution_count": 17,
   "id": "1ecc8e2a",
   "metadata": {},
   "outputs": [
    {
     "data": {
      "image/png": "[encoded data removed]",
      "text/plain": [
       "<Figure size 720x576 with 3 Axes>"
      ]
     },
     "metadata": {
      "needs_background": "light"
     },
     "output_type": "display_data"
    }
   ],
   "source": [
    "plt.figure(figsize=(10,8))\n",
    "count=1\n",
    "for i in num_col:\n",
    "    plt.subplot(3,1,count)\n",
    "    sns.boxplot(df[i])\n",
    "    count+=1"
   ]
  },
  {
   "cell_type": "code",
   "execution_count": 18,
   "id": "e1351b5b",
   "metadata": {},
   "outputs": [
    {
     "data": {
      "text/plain": [
       "596.0"
      ]
     },
     "execution_count": 18,
     "metadata": {},
     "output_type": "execute_result"
    }
   ],
   "source": [
    "mini=df['Population'].quantile(0)\n",
    "mini"
   ]
  },
  {
   "cell_type": "code",
   "execution_count": 19,
   "id": "ffcb1304",
   "metadata": {},
   "outputs": [],
   "source": [
    "Q1=df['Population'].quantile(0.25)\n",
    "Q2=df['Population'].quantile(0.50)\n",
    "Q3=df['Population'].quantile(0.75)"
   ]
  },
  {
   "cell_type": "code",
   "execution_count": 20,
   "id": "9eeff0bd",
   "metadata": {},
   "outputs": [
    {
     "data": {
      "text/plain": [
       "1448314408.0"
      ]
     },
     "execution_count": 20,
     "metadata": {},
     "output_type": "execute_result"
    }
   ],
   "source": [
    "max=df['Population'].quantile(1)\n",
    "max"
   ]
  },
  {
   "cell_type": "code",
   "execution_count": 21,
   "id": "b8da081f",
   "metadata": {},
   "outputs": [
    {
     "data": {
      "text/plain": [
       "19256000.75"
      ]
     },
     "execution_count": 21,
     "metadata": {},
     "output_type": "execute_result"
    }
   ],
   "source": [
    "IQR=Q3-Q1\n",
    "IQR"
   ]
  },
  {
   "cell_type": "code",
   "execution_count": 22,
   "id": "276d6ae7",
   "metadata": {},
   "outputs": [],
   "source": [
    "LF=Q1-1.5*IQR\n",
    "UF=Q3+1.5*IQR"
   ]
  },
  {
   "cell_type": "code",
   "execution_count": null,
   "id": "6e652006",
   "metadata": {},
   "outputs": [],
   "source": []
  },
  {
   "cell_type": "code",
   "execution_count": 23,
   "id": "49ed4b2b",
   "metadata": {},
   "outputs": [
    {
     "data": {
      "text/html": [
       "<div>\n",
       "<style scoped>\n",
       "    .dataframe tbody tr th:only-of-type {\n",
       "        vertical-align: middle;\n",
       "    }\n",
       "\n",
       "    .dataframe tbody tr th {\n",
       "        vertical-align: top;\n",
       "    }\n",
       "\n",
       "    .dataframe thead th {\n",
       "        text-align: right;\n",
       "    }\n",
       "</style>\n",
       "<table border=\"1\" class=\"dataframe\">\n",
       "  <thead>\n",
       "    <tr style=\"text-align: right;\">\n",
       "      <th></th>\n",
       "      <th>Country</th>\n",
       "      <th>Region</th>\n",
       "      <th>Population</th>\n",
       "      <th>Internet Users</th>\n",
       "      <th>% of Population</th>\n",
       "    </tr>\n",
       "  </thead>\n",
       "  <tbody>\n",
       "    <tr>\n",
       "      <th>18</th>\n",
       "      <td>Bangladesh</td>\n",
       "      <td>Asia</td>\n",
       "      <td>167377329</td>\n",
       "      <td>129180000</td>\n",
       "      <td>77.18</td>\n",
       "    </tr>\n",
       "    <tr>\n",
       "      <th>30</th>\n",
       "      <td>Brazil</td>\n",
       "      <td>America</td>\n",
       "      <td>215016658</td>\n",
       "      <td>178100000</td>\n",
       "      <td>82.83</td>\n",
       "    </tr>\n",
       "    <tr>\n",
       "      <th>44</th>\n",
       "      <td>China</td>\n",
       "      <td>Asia</td>\n",
       "      <td>1448314408</td>\n",
       "      <td>1010740000</td>\n",
       "      <td>69.79</td>\n",
       "    </tr>\n",
       "    <tr>\n",
       "      <th>47</th>\n",
       "      <td>Colombia</td>\n",
       "      <td>America</td>\n",
       "      <td>49464683</td>\n",
       "      <td>43416500</td>\n",
       "      <td>87.77</td>\n",
       "    </tr>\n",
       "    <tr>\n",
       "      <th>50</th>\n",
       "      <td>Congo, Dem. Rep.</td>\n",
       "      <td>Africa</td>\n",
       "      <td>94152930</td>\n",
       "      <td>16355917</td>\n",
       "      <td>17.37</td>\n",
       "    </tr>\n",
       "    <tr>\n",
       "      <th>64</th>\n",
       "      <td>Egypt</td>\n",
       "      <td>Africa</td>\n",
       "      <td>105530371</td>\n",
       "      <td>54741493</td>\n",
       "      <td>51.87</td>\n",
       "    </tr>\n",
       "    <tr>\n",
       "      <th>70</th>\n",
       "      <td>Ethiopia</td>\n",
       "      <td>Africa</td>\n",
       "      <td>119748379</td>\n",
       "      <td>21147255</td>\n",
       "      <td>17.66</td>\n",
       "    </tr>\n",
       "    <tr>\n",
       "      <th>75</th>\n",
       "      <td>France</td>\n",
       "      <td>Europe</td>\n",
       "      <td>65507789</td>\n",
       "      <td>60421689</td>\n",
       "      <td>92.24</td>\n",
       "    </tr>\n",
       "    <tr>\n",
       "      <th>81</th>\n",
       "      <td>Germany</td>\n",
       "      <td>Europe</td>\n",
       "      <td>84219392</td>\n",
       "      <td>79127551</td>\n",
       "      <td>93.95</td>\n",
       "    </tr>\n",
       "    <tr>\n",
       "      <th>99</th>\n",
       "      <td>India</td>\n",
       "      <td>Asia</td>\n",
       "      <td>1402228175</td>\n",
       "      <td>833710000</td>\n",
       "      <td>59.46</td>\n",
       "    </tr>\n",
       "    <tr>\n",
       "      <th>100</th>\n",
       "      <td>Indonesia</td>\n",
       "      <td>Asia</td>\n",
       "      <td>278268685</td>\n",
       "      <td>212354070</td>\n",
       "      <td>76.31</td>\n",
       "    </tr>\n",
       "    <tr>\n",
       "      <th>101</th>\n",
       "      <td>Iran</td>\n",
       "      <td>Middle East</td>\n",
       "      <td>85777708</td>\n",
       "      <td>78086663</td>\n",
       "      <td>91.03</td>\n",
       "    </tr>\n",
       "    <tr>\n",
       "      <th>105</th>\n",
       "      <td>Italy</td>\n",
       "      <td>Europe</td>\n",
       "      <td>60318716</td>\n",
       "      <td>54798299</td>\n",
       "      <td>90.85</td>\n",
       "    </tr>\n",
       "    <tr>\n",
       "      <th>107</th>\n",
       "      <td>Japan</td>\n",
       "      <td>Asia</td>\n",
       "      <td>127202192</td>\n",
       "      <td>118626672</td>\n",
       "      <td>93.26</td>\n",
       "    </tr>\n",
       "    <tr>\n",
       "      <th>111</th>\n",
       "      <td>Kenya</td>\n",
       "      <td>Africa</td>\n",
       "      <td>55752020</td>\n",
       "      <td>46870422</td>\n",
       "      <td>84.07</td>\n",
       "    </tr>\n",
       "    <tr>\n",
       "      <th>114</th>\n",
       "      <td>Korea, South</td>\n",
       "      <td>Asia</td>\n",
       "      <td>51340112</td>\n",
       "      <td>49799909</td>\n",
       "      <td>97.00</td>\n",
       "    </tr>\n",
       "    <tr>\n",
       "      <th>140</th>\n",
       "      <td>Mexico</td>\n",
       "      <td>America</td>\n",
       "      <td>131249817</td>\n",
       "      <td>110400000</td>\n",
       "      <td>84.11</td>\n",
       "    </tr>\n",
       "    <tr>\n",
       "      <th>149</th>\n",
       "      <td>Myanmar</td>\n",
       "      <td>Asia</td>\n",
       "      <td>55003362</td>\n",
       "      <td>28530000</td>\n",
       "      <td>51.87</td>\n",
       "    </tr>\n",
       "    <tr>\n",
       "      <th>158</th>\n",
       "      <td>Nigeria</td>\n",
       "      <td>Africa</td>\n",
       "      <td>211400708</td>\n",
       "      <td>154301195</td>\n",
       "      <td>72.99</td>\n",
       "    </tr>\n",
       "    <tr>\n",
       "      <th>165</th>\n",
       "      <td>Pakistan</td>\n",
       "      <td>Asia</td>\n",
       "      <td>228062544</td>\n",
       "      <td>116000000</td>\n",
       "      <td>50.86</td>\n",
       "    </tr>\n",
       "    <tr>\n",
       "      <th>172</th>\n",
       "      <td>Philippines</td>\n",
       "      <td>Asia</td>\n",
       "      <td>111987776</td>\n",
       "      <td>101900000</td>\n",
       "      <td>90.99</td>\n",
       "    </tr>\n",
       "    <tr>\n",
       "      <th>179</th>\n",
       "      <td>Russia</td>\n",
       "      <td>Europe</td>\n",
       "      <td>146035672</td>\n",
       "      <td>124630000</td>\n",
       "      <td>85.34</td>\n",
       "    </tr>\n",
       "    <tr>\n",
       "      <th>197</th>\n",
       "      <td>South Africa</td>\n",
       "      <td>Africa</td>\n",
       "      <td>60041994</td>\n",
       "      <td>34545165</td>\n",
       "      <td>57.54</td>\n",
       "    </tr>\n",
       "    <tr>\n",
       "      <th>214</th>\n",
       "      <td>Tanzania</td>\n",
       "      <td>Africa</td>\n",
       "      <td>61498437</td>\n",
       "      <td>23142960</td>\n",
       "      <td>37.63</td>\n",
       "    </tr>\n",
       "    <tr>\n",
       "      <th>215</th>\n",
       "      <td>Thailand</td>\n",
       "      <td>Asia</td>\n",
       "      <td>70082569</td>\n",
       "      <td>61900000</td>\n",
       "      <td>88.32</td>\n",
       "    </tr>\n",
       "    <tr>\n",
       "      <th>222</th>\n",
       "      <td>Turkey</td>\n",
       "      <td>Europe</td>\n",
       "      <td>85839173</td>\n",
       "      <td>72500000</td>\n",
       "      <td>84.46</td>\n",
       "    </tr>\n",
       "    <tr>\n",
       "      <th>229</th>\n",
       "      <td>United Kingdom</td>\n",
       "      <td>Europe</td>\n",
       "      <td>68468662</td>\n",
       "      <td>65045228</td>\n",
       "      <td>95.00</td>\n",
       "    </tr>\n",
       "    <tr>\n",
       "      <th>230</th>\n",
       "      <td>United States</td>\n",
       "      <td>America</td>\n",
       "      <td>335226482</td>\n",
       "      <td>312320000</td>\n",
       "      <td>93.17</td>\n",
       "    </tr>\n",
       "    <tr>\n",
       "      <th>237</th>\n",
       "      <td>Vietnam</td>\n",
       "      <td>Asia</td>\n",
       "      <td>98745016</td>\n",
       "      <td>84919500</td>\n",
       "      <td>86.00</td>\n",
       "    </tr>\n",
       "  </tbody>\n",
       "</table>\n",
       "</div>"
      ],
      "text/plain": [
       "              Country       Region  Population  Internet Users  \\\n",
       "18         Bangladesh         Asia   167377329       129180000   \n",
       "30             Brazil      America   215016658       178100000   \n",
       "44              China         Asia  1448314408      1010740000   \n",
       "47           Colombia      America    49464683        43416500   \n",
       "50   Congo, Dem. Rep.       Africa    94152930        16355917   \n",
       "64              Egypt       Africa   105530371        54741493   \n",
       "70           Ethiopia       Africa   119748379        21147255   \n",
       "75             France       Europe    65507789        60421689   \n",
       "81            Germany       Europe    84219392        79127551   \n",
       "99              India         Asia  1402228175       833710000   \n",
       "100         Indonesia         Asia   278268685       212354070   \n",
       "101              Iran  Middle East    85777708        78086663   \n",
       "105             Italy       Europe    60318716        54798299   \n",
       "107             Japan         Asia   127202192       118626672   \n",
       "111             Kenya       Africa    55752020        46870422   \n",
       "114      Korea, South         Asia    51340112        49799909   \n",
       "140            Mexico      America   131249817       110400000   \n",
       "149           Myanmar         Asia    55003362        28530000   \n",
       "158           Nigeria       Africa   211400708       154301195   \n",
       "165          Pakistan         Asia   228062544       116000000   \n",
       "172       Philippines         Asia   111987776       101900000   \n",
       "179            Russia       Europe   146035672       124630000   \n",
       "197      South Africa       Africa    60041994        34545165   \n",
       "214          Tanzania       Africa    61498437        23142960   \n",
       "215          Thailand         Asia    70082569        61900000   \n",
       "222            Turkey       Europe    85839173        72500000   \n",
       "229    United Kingdom       Europe    68468662        65045228   \n",
       "230     United States      America   335226482       312320000   \n",
       "237           Vietnam         Asia    98745016        84919500   \n",
       "\n",
       "     % of Population  \n",
       "18             77.18  \n",
       "30             82.83  \n",
       "44             69.79  \n",
       "47             87.77  \n",
       "50             17.37  \n",
       "64             51.87  \n",
       "70             17.66  \n",
       "75             92.24  \n",
       "81             93.95  \n",
       "99             59.46  \n",
       "100            76.31  \n",
       "101            91.03  \n",
       "105            90.85  \n",
       "107            93.26  \n",
       "111            84.07  \n",
       "114            97.00  \n",
       "140            84.11  \n",
       "149            51.87  \n",
       "158            72.99  \n",
       "165            50.86  \n",
       "172            90.99  \n",
       "179            85.34  \n",
       "197            57.54  \n",
       "214            37.63  \n",
       "215            88.32  \n",
       "222            84.46  \n",
       "229            95.00  \n",
       "230            93.17  \n",
       "237            86.00  "
      ]
     },
     "execution_count": 23,
     "metadata": {},
     "output_type": "execute_result"
    }
   ],
   "source": [
    "df[df['Population']>UF]\n"
   ]
  },
  {
   "cell_type": "code",
   "execution_count": null,
   "id": "e3956009",
   "metadata": {},
   "outputs": [],
   "source": []
  },
  {
   "cell_type": "code",
   "execution_count": null,
   "id": "b8a9c100",
   "metadata": {},
   "outputs": [],
   "source": []
  },
  {
   "cell_type": "code",
   "execution_count": 24,
   "id": "2c846853",
   "metadata": {},
   "outputs": [
    {
     "data": {
      "text/plain": [
       "array(['Asia', 'Europe', 'Africa', 'Oceania', 'America', 'Middle East'],\n",
       "      dtype=object)"
      ]
     },
     "execution_count": 24,
     "metadata": {},
     "output_type": "execute_result"
    }
   ],
   "source": [
    "df['Region'].unique()"
   ]
  },
  {
   "cell_type": "code",
   "execution_count": 25,
   "id": "2f140b71",
   "metadata": {},
   "outputs": [
    {
     "data": {
      "image/png": "[encoded data removed]",
      "text/plain": [
       "<Figure size 864x576 with 1 Axes>"
      ]
     },
     "metadata": {
      "needs_background": "light"
     },
     "output_type": "display_data"
    }
   ],
   "source": [
    "plt.figure(figsize=(12,8))\n",
    "sns.countplot(df['Region'])\n",
    "plt.title('Region')\n",
    "plt.show()"
   ]
  },
  {
   "cell_type": "code",
   "execution_count": 26,
   "id": "853153da",
   "metadata": {
    "scrolled": true
   },
   "outputs": [
    {
     "data": {
      "image/png": "[encoded data removed]",
      "text/plain": [
       "<Figure size 576x432 with 1 Axes>"
      ]
     },
     "metadata": {},
     "output_type": "display_data"
    }
   ],
   "source": [
    "plt.figure(figsize=(8,6))\n",
    "df['Region'].value_counts().plot.pie(shadow=True,autopct='%.2f%%',startangle=90)\n",
    "plt.show()"
   ]
  },
  {
   "cell_type": "code",
   "execution_count": 27,
   "id": "0a70e22f",
   "metadata": {},
   "outputs": [
    {
     "data": {
      "text/plain": [
       "<AxesSubplot:xlabel='Region', ylabel='Count'>"
      ]
     },
     "execution_count": 27,
     "metadata": {},
     "output_type": "execute_result"
    },
    {
     "data": {
      "image/png": "[encoded data removed]",
      "text/plain": [
       "<Figure size 432x288 with 1 Axes>"
      ]
     },
     "metadata": {
      "needs_background": "light"
     },
     "output_type": "display_data"
    }
   ],
   "source": [
    "sns.histplot(df['Region'])"
   ]
  },
  {
   "cell_type": "code",
   "execution_count": null,
   "id": "5f5d6d4a",
   "metadata": {},
   "outputs": [],
   "source": []
  },
  {
   "cell_type": "code",
   "execution_count": null,
   "id": "e946a709",
   "metadata": {},
   "outputs": [],
   "source": []
  },
  {
   "cell_type": "code",
   "execution_count": 28,
   "id": "34856e2f",
   "metadata": {},
   "outputs": [
    {
     "data": {
      "text/plain": [
       "dtype('int64')"
      ]
     },
     "execution_count": 28,
     "metadata": {},
     "output_type": "execute_result"
    }
   ],
   "source": [
    "df['Population'].dtypes"
   ]
  },
  {
   "cell_type": "code",
   "execution_count": null,
   "id": "ee9ef1ae",
   "metadata": {},
   "outputs": [],
   "source": []
  },
  {
   "cell_type": "code",
   "execution_count": null,
   "id": "dbdca528",
   "metadata": {},
   "outputs": [],
   "source": []
  },
  {
   "cell_type": "code",
   "execution_count": 29,
   "id": "0be4b300",
   "metadata": {},
   "outputs": [
    {
     "data": {
      "text/plain": [
       "<AxesSubplot:xlabel='Population', ylabel='Region'>"
      ]
     },
     "execution_count": 29,
     "metadata": {},
     "output_type": "execute_result"
    },
    {
     "data": {
      "image/png": "[encoded data removed]",
      "text/plain": [
       "<Figure size 432x288 with 1 Axes>"
      ]
     },
     "metadata": {
      "needs_background": "light"
     },
     "output_type": "display_data"
    }
   ],
   "source": [
    "sns.scatterplot(df['Population'],df['Region'])"
   ]
  },
  {
   "cell_type": "code",
   "execution_count": null,
   "id": "c4e41628",
   "metadata": {},
   "outputs": [],
   "source": []
  },
  {
   "cell_type": "code",
   "execution_count": 30,
   "id": "1cf522af",
   "metadata": {},
   "outputs": [
    {
     "data": {
      "text/plain": [
       "dtype('int64')"
      ]
     },
     "execution_count": 30,
     "metadata": {},
     "output_type": "execute_result"
    }
   ],
   "source": [
    "df['Internet Users'].dtypes"
   ]
  },
  {
   "cell_type": "code",
   "execution_count": null,
   "id": "d6ae4dca",
   "metadata": {},
   "outputs": [],
   "source": []
  },
  {
   "cell_type": "code",
   "execution_count": 31,
   "id": "e55f6063",
   "metadata": {},
   "outputs": [
    {
     "data": {
      "text/plain": [
       "array([2.2860e+01, 7.6280e+01, 8.3800e+01, 6.3280e+01, 9.4370e+01,\n",
       "       2.5960e+01, 8.9770e+01, 1.0000e+02, 8.0330e+01, 9.1560e+01,\n",
       "       7.7000e+01, 1.0400e+02, 9.0000e+01, 8.8000e+01, 8.5000e+01,\n",
       "       8.7000e+01, 7.7180e+01, 7.9860e+01, 9.2000e+01, 7.4510e+01,\n",
       "       3.0040e+01, 1.0009e+02, 7.4330e+01, 7.4590e+01, 7.8720e+01,\n",
       "       8.7080e+01, 5.1320e+01, 8.2830e+01, 8.1890e+01, 1.1968e+02,\n",
       "       7.0000e+01, 2.1010e+01, 1.2860e+01, 6.2240e+01, 8.1140e+01,\n",
       "       3.3130e+01, 9.7000e+01, 1.1017e+02, 1.1210e+01, 1.3000e+01,\n",
       "       9.7170e+01, 6.9790e+01, 6.5710e+01, 6.9460e+01, 8.7770e+01,\n",
       "       2.5420e+01, 1.6200e+01, 1.7370e+01, 7.4470e+01, 8.5600e+01,\n",
       "       4.4600e+01, 9.3600e+01, 7.4000e+01, 9.1580e+01, 1.0807e+02,\n",
       "       8.6800e+01, 9.7670e+01, 5.4260e+01, 7.1940e+01, 8.7190e+01,\n",
       "       5.1870e+01, 7.4860e+01, 2.4490e+01, 6.8400e+00, 9.6130e+01,\n",
       "       5.6390e+01, 1.7660e+01, 9.8550e+01, 9.8630e+01, 7.5850e+01,\n",
       "       9.4080e+01, 9.2240e+01, 5.2210e+01, 8.1110e+01, 5.9110e+01,\n",
       "       1.7460e+01, 9.1240e+01, 9.3950e+01, 4.5930e+01, 9.7810e+01,\n",
       "       7.8470e+01, 9.1340e+01, 8.1330e+01, 7.2480e+01, 1.0583e+02,\n",
       "       5.8210e+01, 1.8580e+01, 4.3990e+01, 7.2680e+01, 3.5000e+01,\n",
       "       5.4560e+01, 8.8050e+01, 8.9270e+01, 9.9570e+01, 5.9460e+01,\n",
       "       7.6310e+01, 9.1030e+01, 7.4310e+01, 9.0850e+01, 6.8000e+01,\n",
       "       9.3260e+01, 8.3860e+01, 8.3890e+01, 8.6000e+01, 8.4070e+01,\n",
       "       4.9870e+01, 8.0000e-02, 9.0420e+01, 9.9000e+01, 5.4960e+01,\n",
       "       5.7540e+01, 8.4000e+01, 3.1480e+01, 1.4920e+01, 9.4790e+01,\n",
       "       9.7790e+01, 9.5210e+01, 1.0070e+01, 1.3830e+01, 9.3760e+01,\n",
       "       8.0210e+01, 5.9840e+01, 1.0786e+02, 8.3010e+01, 4.1770e+01,\n",
       "       8.0920e+01, 2.0300e+01, 7.2170e+01, 3.8620e+01, 8.4110e+01,\n",
       "       4.8010e+01, 7.6330e+01, 8.9180e+01, 6.8040e+01, 6.8520e+01,\n",
       "       2.0280e+01, 5.2080e+01, 9.3270e+01, 7.2970e+01, 9.5280e+01,\n",
       "       8.2000e+01, 9.3350e+01, 6.3260e+01, 1.3390e+01, 7.2990e+01,\n",
       "       9.0330e+01, 4.5770e+01, 8.1000e+01, 7.7940e+01, 9.8140e+01,\n",
       "       9.5000e+01, 5.0860e+01, 1.0365e+02, 7.5000e+01, 7.7070e+01,\n",
       "       1.1910e+01, 8.4900e+01, 8.7760e+01, 9.0990e+01, 9.1500e+01,\n",
       "       8.8150e+01, 1.1091e+02, 1.0732e+02, 6.7430e+01, 7.8000e+01,\n",
       "       8.5340e+01, 4.5050e+01, 3.7790e+01, 7.7290e+01, 7.0550e+01,\n",
       "       6.0000e+01, 2.8590e+01, 9.8000e+01, 5.6700e+01, 7.2090e+01,\n",
       "       1.2820e+01, 8.9520e+01, 2.4090e+01, 1.2770e+01, 7.9100e+00,\n",
       "       9.3000e+01, 4.1190e+01, 7.1320e+01, 8.5110e+01, 5.0050e+01,\n",
       "       9.0450e+01, 8.1790e+01, 2.9220e+01, 9.7980e+01, 9.7300e+01,\n",
       "       9.6210e+01, 4.6640e+01, 9.4780e+01, 3.0440e+01, 3.7630e+01,\n",
       "       8.8320e+01, 3.7860e+01, 1.1930e+01, 5.7760e+01, 7.4390e+01,\n",
       "       8.1190e+01, 6.8450e+01, 8.4460e+01, 2.5300e+01, 9.3480e+01,\n",
       "       5.3180e+01, 3.9260e+01, 9.4450e+01, 1.2070e+02, 9.3170e+01,\n",
       "       9.3380e+01, 6.4830e+01, 5.0070e+01, 3.8480e+01, 7.2510e+01,\n",
       "       7.8700e+01, 5.6710e+01, 4.5800e+00, 2.7000e+01, 5.2170e+01,\n",
       "       5.5660e+01])"
      ]
     },
     "execution_count": 31,
     "metadata": {},
     "output_type": "execute_result"
    }
   ],
   "source": [
    "df['% of Population'].unique()"
   ]
  },
  {
   "cell_type": "code",
   "execution_count": null,
   "id": "cfa4126b",
   "metadata": {},
   "outputs": [],
   "source": []
  },
  {
   "cell_type": "code",
   "execution_count": 32,
   "id": "88850523",
   "metadata": {},
   "outputs": [
    {
     "data": {
      "text/html": [
       "<div>\n",
       "<style scoped>\n",
       "    .dataframe tbody tr th:only-of-type {\n",
       "        vertical-align: middle;\n",
       "    }\n",
       "\n",
       "    .dataframe tbody tr th {\n",
       "        vertical-align: top;\n",
       "    }\n",
       "\n",
       "    .dataframe thead th {\n",
       "        text-align: right;\n",
       "    }\n",
       "</style>\n",
       "<table border=\"1\" class=\"dataframe\">\n",
       "  <thead>\n",
       "    <tr style=\"text-align: right;\">\n",
       "      <th></th>\n",
       "      <th>Country</th>\n",
       "      <th>Region</th>\n",
       "      <th>Population</th>\n",
       "      <th>Internet Users</th>\n",
       "      <th>% of Population</th>\n",
       "    </tr>\n",
       "  </thead>\n",
       "  <tbody>\n",
       "    <tr>\n",
       "      <th>1</th>\n",
       "      <td>Afganistan</td>\n",
       "      <td>Asia</td>\n",
       "      <td>40403518</td>\n",
       "      <td>9237489</td>\n",
       "      <td>22.86</td>\n",
       "    </tr>\n",
       "    <tr>\n",
       "      <th>2</th>\n",
       "      <td>Albania</td>\n",
       "      <td>Europe</td>\n",
       "      <td>2872758</td>\n",
       "      <td>2191467</td>\n",
       "      <td>76.28</td>\n",
       "    </tr>\n",
       "    <tr>\n",
       "      <th>3</th>\n",
       "      <td>Algeria</td>\n",
       "      <td>Africa</td>\n",
       "      <td>45150879</td>\n",
       "      <td>37836425</td>\n",
       "      <td>83.80</td>\n",
       "    </tr>\n",
       "    <tr>\n",
       "      <th>4</th>\n",
       "      <td>American Samoa</td>\n",
       "      <td>Oceania</td>\n",
       "      <td>54995</td>\n",
       "      <td>34800</td>\n",
       "      <td>63.28</td>\n",
       "    </tr>\n",
       "    <tr>\n",
       "      <th>5</th>\n",
       "      <td>Andorra</td>\n",
       "      <td>Europe</td>\n",
       "      <td>77465</td>\n",
       "      <td>73101</td>\n",
       "      <td>94.37</td>\n",
       "    </tr>\n",
       "    <tr>\n",
       "      <th>...</th>\n",
       "      <td>...</td>\n",
       "      <td>...</td>\n",
       "      <td>...</td>\n",
       "      <td>...</td>\n",
       "      <td>...</td>\n",
       "    </tr>\n",
       "    <tr>\n",
       "      <th>238</th>\n",
       "      <td>Wallis &amp; Futuna</td>\n",
       "      <td>Oceania</td>\n",
       "      <td>10932</td>\n",
       "      <td>6200</td>\n",
       "      <td>56.71</td>\n",
       "    </tr>\n",
       "    <tr>\n",
       "      <th>239</th>\n",
       "      <td>Western Sahara</td>\n",
       "      <td>Africa</td>\n",
       "      <td>611875</td>\n",
       "      <td>28000</td>\n",
       "      <td>4.58</td>\n",
       "    </tr>\n",
       "    <tr>\n",
       "      <th>240</th>\n",
       "      <td>Yemen</td>\n",
       "      <td>Middle East</td>\n",
       "      <td>30938435</td>\n",
       "      <td>8353377</td>\n",
       "      <td>27.00</td>\n",
       "    </tr>\n",
       "    <tr>\n",
       "      <th>241</th>\n",
       "      <td>Zambia</td>\n",
       "      <td>Africa</td>\n",
       "      <td>18920651</td>\n",
       "      <td>9870427</td>\n",
       "      <td>52.17</td>\n",
       "    </tr>\n",
       "    <tr>\n",
       "      <th>242</th>\n",
       "      <td>Zimbabwe</td>\n",
       "      <td>Africa</td>\n",
       "      <td>15092171</td>\n",
       "      <td>8400000</td>\n",
       "      <td>55.66</td>\n",
       "    </tr>\n",
       "  </tbody>\n",
       "</table>\n",
       "<p>242 rows × 5 columns</p>\n",
       "</div>"
      ],
      "text/plain": [
       "             Country       Region  Population  Internet Users  % of Population\n",
       "1         Afganistan         Asia    40403518         9237489            22.86\n",
       "2            Albania       Europe     2872758         2191467            76.28\n",
       "3            Algeria       Africa    45150879        37836425            83.80\n",
       "4     American Samoa      Oceania       54995           34800            63.28\n",
       "5            Andorra       Europe       77465           73101            94.37\n",
       "..               ...          ...         ...             ...              ...\n",
       "238  Wallis & Futuna      Oceania       10932            6200            56.71\n",
       "239   Western Sahara       Africa      611875           28000             4.58\n",
       "240            Yemen  Middle East    30938435         8353377            27.00\n",
       "241           Zambia       Africa    18920651         9870427            52.17\n",
       "242         Zimbabwe       Africa    15092171         8400000            55.66\n",
       "\n",
       "[242 rows x 5 columns]"
      ]
     },
     "execution_count": 32,
     "metadata": {},
     "output_type": "execute_result"
    }
   ],
   "source": [
    "df"
   ]
  },
  {
   "cell_type": "code",
   "execution_count": 33,
   "id": "5011eadb",
   "metadata": {},
   "outputs": [
    {
     "data": {
      "text/plain": [
       "Region\n",
       "Africa         58\n",
       "America        55\n",
       "Asia           35\n",
       "Europe         53\n",
       "Middle East    14\n",
       "Oceania        27\n",
       "Name: Country, dtype: int64"
      ]
     },
     "execution_count": 33,
     "metadata": {},
     "output_type": "execute_result"
    }
   ],
   "source": [
    "df['Country'].groupby(df['Region']).count()"
   ]
  },
  {
   "cell_type": "code",
   "execution_count": 34,
   "id": "f7d816b2",
   "metadata": {},
   "outputs": [
    {
     "data": {
      "text/plain": [
       "<AxesSubplot:ylabel='Country'>"
      ]
     },
     "execution_count": 34,
     "metadata": {},
     "output_type": "execute_result"
    },
    {
     "data": {
      "image/png": "[encoded data removed]",
      "text/plain": [
       "<Figure size 720x576 with 1 Axes>"
      ]
     },
     "metadata": {},
     "output_type": "display_data"
    }
   ],
   "source": [
    "plt.figure(figsize=(10,8))\n",
    "df['Country'].groupby(df['Region']).count().plot.pie(autopct='%.2f%%',startangle=90)"
   ]
  },
  {
   "cell_type": "code",
   "execution_count": null,
   "id": "c03dcde2",
   "metadata": {},
   "outputs": [],
   "source": []
  },
  {
   "cell_type": "code",
   "execution_count": 35,
   "id": "e1c64924",
   "metadata": {},
   "outputs": [
    {
     "data": {
      "text/html": [
       "<div>\n",
       "<style scoped>\n",
       "    .dataframe tbody tr th:only-of-type {\n",
       "        vertical-align: middle;\n",
       "    }\n",
       "\n",
       "    .dataframe tbody tr th {\n",
       "        vertical-align: top;\n",
       "    }\n",
       "\n",
       "    .dataframe thead th {\n",
       "        text-align: right;\n",
       "    }\n",
       "</style>\n",
       "<table border=\"1\" class=\"dataframe\">\n",
       "  <thead>\n",
       "    <tr style=\"text-align: right;\">\n",
       "      <th></th>\n",
       "      <th>Country</th>\n",
       "      <th>Region</th>\n",
       "      <th>Population</th>\n",
       "      <th>Internet Users</th>\n",
       "      <th>% of Population</th>\n",
       "    </tr>\n",
       "  </thead>\n",
       "  <tbody>\n",
       "    <tr>\n",
       "      <th>1</th>\n",
       "      <td>Afganistan</td>\n",
       "      <td>Asia</td>\n",
       "      <td>40403518</td>\n",
       "      <td>9237489</td>\n",
       "      <td>22.86</td>\n",
       "    </tr>\n",
       "    <tr>\n",
       "      <th>2</th>\n",
       "      <td>Albania</td>\n",
       "      <td>Europe</td>\n",
       "      <td>2872758</td>\n",
       "      <td>2191467</td>\n",
       "      <td>76.28</td>\n",
       "    </tr>\n",
       "    <tr>\n",
       "      <th>3</th>\n",
       "      <td>Algeria</td>\n",
       "      <td>Africa</td>\n",
       "      <td>45150879</td>\n",
       "      <td>37836425</td>\n",
       "      <td>83.80</td>\n",
       "    </tr>\n",
       "    <tr>\n",
       "      <th>4</th>\n",
       "      <td>American Samoa</td>\n",
       "      <td>Oceania</td>\n",
       "      <td>54995</td>\n",
       "      <td>34800</td>\n",
       "      <td>63.28</td>\n",
       "    </tr>\n",
       "    <tr>\n",
       "      <th>5</th>\n",
       "      <td>Andorra</td>\n",
       "      <td>Europe</td>\n",
       "      <td>77465</td>\n",
       "      <td>73101</td>\n",
       "      <td>94.37</td>\n",
       "    </tr>\n",
       "    <tr>\n",
       "      <th>...</th>\n",
       "      <td>...</td>\n",
       "      <td>...</td>\n",
       "      <td>...</td>\n",
       "      <td>...</td>\n",
       "      <td>...</td>\n",
       "    </tr>\n",
       "    <tr>\n",
       "      <th>238</th>\n",
       "      <td>Wallis &amp; Futuna</td>\n",
       "      <td>Oceania</td>\n",
       "      <td>10932</td>\n",
       "      <td>6200</td>\n",
       "      <td>56.71</td>\n",
       "    </tr>\n",
       "    <tr>\n",
       "      <th>239</th>\n",
       "      <td>Western Sahara</td>\n",
       "      <td>Africa</td>\n",
       "      <td>611875</td>\n",
       "      <td>28000</td>\n",
       "      <td>4.58</td>\n",
       "    </tr>\n",
       "    <tr>\n",
       "      <th>240</th>\n",
       "      <td>Yemen</td>\n",
       "      <td>Middle East</td>\n",
       "      <td>30938435</td>\n",
       "      <td>8353377</td>\n",
       "      <td>27.00</td>\n",
       "    </tr>\n",
       "    <tr>\n",
       "      <th>241</th>\n",
       "      <td>Zambia</td>\n",
       "      <td>Africa</td>\n",
       "      <td>18920651</td>\n",
       "      <td>9870427</td>\n",
       "      <td>52.17</td>\n",
       "    </tr>\n",
       "    <tr>\n",
       "      <th>242</th>\n",
       "      <td>Zimbabwe</td>\n",
       "      <td>Africa</td>\n",
       "      <td>15092171</td>\n",
       "      <td>8400000</td>\n",
       "      <td>55.66</td>\n",
       "    </tr>\n",
       "  </tbody>\n",
       "</table>\n",
       "<p>242 rows × 5 columns</p>\n",
       "</div>"
      ],
      "text/plain": [
       "             Country       Region  Population  Internet Users  % of Population\n",
       "1         Afganistan         Asia    40403518         9237489            22.86\n",
       "2            Albania       Europe     2872758         2191467            76.28\n",
       "3            Algeria       Africa    45150879        37836425            83.80\n",
       "4     American Samoa      Oceania       54995           34800            63.28\n",
       "5            Andorra       Europe       77465           73101            94.37\n",
       "..               ...          ...         ...             ...              ...\n",
       "238  Wallis & Futuna      Oceania       10932            6200            56.71\n",
       "239   Western Sahara       Africa      611875           28000             4.58\n",
       "240            Yemen  Middle East    30938435         8353377            27.00\n",
       "241           Zambia       Africa    18920651         9870427            52.17\n",
       "242         Zimbabwe       Africa    15092171         8400000            55.66\n",
       "\n",
       "[242 rows x 5 columns]"
      ]
     },
     "execution_count": 35,
     "metadata": {},
     "output_type": "execute_result"
    }
   ],
   "source": [
    "df"
   ]
  },
  {
   "cell_type": "code",
   "execution_count": null,
   "id": "b83d9b9e",
   "metadata": {},
   "outputs": [],
   "source": []
  },
  {
   "cell_type": "code",
   "execution_count": null,
   "id": "8f54beae",
   "metadata": {},
   "outputs": [],
   "source": []
  },
  {
   "cell_type": "code",
   "execution_count": 36,
   "id": "ab7dd870",
   "metadata": {},
   "outputs": [
    {
     "data": {
      "text/plain": [
       "<AxesSubplot:xlabel='Population', ylabel='Region'>"
      ]
     },
     "execution_count": 36,
     "metadata": {},
     "output_type": "execute_result"
    },
    {
     "data": {
      "image/png": "[encoded data removed]",
      "text/plain": [
       "<Figure size 432x288 with 1 Axes>"
      ]
     },
     "metadata": {
      "needs_background": "light"
     },
     "output_type": "display_data"
    }
   ],
   "source": [
    "#sns.set_theme(style=\"darkgrid\",palette='deep')\n",
    "sns.barplot(y=df['Region'],x=df['Population'],ci=False)"
   ]
  },
  {
   "cell_type": "code",
   "execution_count": null,
   "id": "8bdfc8ff",
   "metadata": {},
   "outputs": [],
   "source": []
  },
  {
   "cell_type": "code",
   "execution_count": null,
   "id": "6fa43a30",
   "metadata": {},
   "outputs": [],
   "source": []
  },
  {
   "cell_type": "code",
   "execution_count": null,
   "id": "783af1bf",
   "metadata": {},
   "outputs": [],
   "source": []
  },
  {
   "cell_type": "code",
   "execution_count": 37,
   "id": "dd5ea00a",
   "metadata": {},
   "outputs": [
    {
     "data": {
      "text/html": [
       "<div>\n",
       "<style scoped>\n",
       "    .dataframe tbody tr th:only-of-type {\n",
       "        vertical-align: middle;\n",
       "    }\n",
       "\n",
       "    .dataframe tbody tr th {\n",
       "        vertical-align: top;\n",
       "    }\n",
       "\n",
       "    .dataframe thead th {\n",
       "        text-align: right;\n",
       "    }\n",
       "</style>\n",
       "<table border=\"1\" class=\"dataframe\">\n",
       "  <thead>\n",
       "    <tr style=\"text-align: right;\">\n",
       "      <th></th>\n",
       "      <th>Country</th>\n",
       "      <th>Region</th>\n",
       "      <th>Population</th>\n",
       "      <th>Internet Users</th>\n",
       "      <th>% of Population</th>\n",
       "    </tr>\n",
       "  </thead>\n",
       "  <tbody>\n",
       "    <tr>\n",
       "      <th>1</th>\n",
       "      <td>Afganistan</td>\n",
       "      <td>Asia</td>\n",
       "      <td>40403518</td>\n",
       "      <td>9237489</td>\n",
       "      <td>22.86</td>\n",
       "    </tr>\n",
       "    <tr>\n",
       "      <th>2</th>\n",
       "      <td>Albania</td>\n",
       "      <td>Europe</td>\n",
       "      <td>2872758</td>\n",
       "      <td>2191467</td>\n",
       "      <td>76.28</td>\n",
       "    </tr>\n",
       "    <tr>\n",
       "      <th>3</th>\n",
       "      <td>Algeria</td>\n",
       "      <td>Africa</td>\n",
       "      <td>45150879</td>\n",
       "      <td>37836425</td>\n",
       "      <td>83.80</td>\n",
       "    </tr>\n",
       "    <tr>\n",
       "      <th>4</th>\n",
       "      <td>American Samoa</td>\n",
       "      <td>Oceania</td>\n",
       "      <td>54995</td>\n",
       "      <td>34800</td>\n",
       "      <td>63.28</td>\n",
       "    </tr>\n",
       "    <tr>\n",
       "      <th>5</th>\n",
       "      <td>Andorra</td>\n",
       "      <td>Europe</td>\n",
       "      <td>77465</td>\n",
       "      <td>73101</td>\n",
       "      <td>94.37</td>\n",
       "    </tr>\n",
       "    <tr>\n",
       "      <th>...</th>\n",
       "      <td>...</td>\n",
       "      <td>...</td>\n",
       "      <td>...</td>\n",
       "      <td>...</td>\n",
       "      <td>...</td>\n",
       "    </tr>\n",
       "    <tr>\n",
       "      <th>238</th>\n",
       "      <td>Wallis &amp; Futuna</td>\n",
       "      <td>Oceania</td>\n",
       "      <td>10932</td>\n",
       "      <td>6200</td>\n",
       "      <td>56.71</td>\n",
       "    </tr>\n",
       "    <tr>\n",
       "      <th>239</th>\n",
       "      <td>Western Sahara</td>\n",
       "      <td>Africa</td>\n",
       "      <td>611875</td>\n",
       "      <td>28000</td>\n",
       "      <td>4.58</td>\n",
       "    </tr>\n",
       "    <tr>\n",
       "      <th>240</th>\n",
       "      <td>Yemen</td>\n",
       "      <td>Middle East</td>\n",
       "      <td>30938435</td>\n",
       "      <td>8353377</td>\n",
       "      <td>27.00</td>\n",
       "    </tr>\n",
       "    <tr>\n",
       "      <th>241</th>\n",
       "      <td>Zambia</td>\n",
       "      <td>Africa</td>\n",
       "      <td>18920651</td>\n",
       "      <td>9870427</td>\n",
       "      <td>52.17</td>\n",
       "    </tr>\n",
       "    <tr>\n",
       "      <th>242</th>\n",
       "      <td>Zimbabwe</td>\n",
       "      <td>Africa</td>\n",
       "      <td>15092171</td>\n",
       "      <td>8400000</td>\n",
       "      <td>55.66</td>\n",
       "    </tr>\n",
       "  </tbody>\n",
       "</table>\n",
       "<p>242 rows × 5 columns</p>\n",
       "</div>"
      ],
      "text/plain": [
       "             Country       Region  Population  Internet Users  % of Population\n",
       "1         Afganistan         Asia    40403518         9237489            22.86\n",
       "2            Albania       Europe     2872758         2191467            76.28\n",
       "3            Algeria       Africa    45150879        37836425            83.80\n",
       "4     American Samoa      Oceania       54995           34800            63.28\n",
       "5            Andorra       Europe       77465           73101            94.37\n",
       "..               ...          ...         ...             ...              ...\n",
       "238  Wallis & Futuna      Oceania       10932            6200            56.71\n",
       "239   Western Sahara       Africa      611875           28000             4.58\n",
       "240            Yemen  Middle East    30938435         8353377            27.00\n",
       "241           Zambia       Africa    18920651         9870427            52.17\n",
       "242         Zimbabwe       Africa    15092171         8400000            55.66\n",
       "\n",
       "[242 rows x 5 columns]"
      ]
     },
     "execution_count": 37,
     "metadata": {},
     "output_type": "execute_result"
    }
   ],
   "source": [
    "df"
   ]
  },
  {
   "cell_type": "code",
   "execution_count": 38,
   "id": "96a76bf7",
   "metadata": {},
   "outputs": [
    {
     "data": {
      "image/png": "[encoded data removed]",
      "text/plain": [
       "<Figure size 432x288 with 1 Axes>"
      ]
     },
     "metadata": {
      "needs_background": "light"
     },
     "output_type": "display_data"
    }
   ],
   "source": [
    "sns.scatterplot(df['Population'], df['Internet Users'], data=df)\n",
    "plt.show()"
   ]
  },
  {
   "cell_type": "code",
   "execution_count": 39,
   "id": "5377f08a",
   "metadata": {},
   "outputs": [
    {
     "data": {
      "text/html": [
       "<div>\n",
       "<style scoped>\n",
       "    .dataframe tbody tr th:only-of-type {\n",
       "        vertical-align: middle;\n",
       "    }\n",
       "\n",
       "    .dataframe tbody tr th {\n",
       "        vertical-align: top;\n",
       "    }\n",
       "\n",
       "    .dataframe thead th {\n",
       "        text-align: right;\n",
       "    }\n",
       "</style>\n",
       "<table border=\"1\" class=\"dataframe\">\n",
       "  <thead>\n",
       "    <tr style=\"text-align: right;\">\n",
       "      <th></th>\n",
       "      <th>Country</th>\n",
       "      <th>Region</th>\n",
       "      <th>Population</th>\n",
       "      <th>Internet Users</th>\n",
       "      <th>% of Population</th>\n",
       "    </tr>\n",
       "  </thead>\n",
       "  <tbody>\n",
       "    <tr>\n",
       "      <th>1</th>\n",
       "      <td>Afganistan</td>\n",
       "      <td>Asia</td>\n",
       "      <td>40403518</td>\n",
       "      <td>9237489</td>\n",
       "      <td>22.86</td>\n",
       "    </tr>\n",
       "    <tr>\n",
       "      <th>2</th>\n",
       "      <td>Albania</td>\n",
       "      <td>Europe</td>\n",
       "      <td>2872758</td>\n",
       "      <td>2191467</td>\n",
       "      <td>76.28</td>\n",
       "    </tr>\n",
       "    <tr>\n",
       "      <th>3</th>\n",
       "      <td>Algeria</td>\n",
       "      <td>Africa</td>\n",
       "      <td>45150879</td>\n",
       "      <td>37836425</td>\n",
       "      <td>83.80</td>\n",
       "    </tr>\n",
       "    <tr>\n",
       "      <th>4</th>\n",
       "      <td>American Samoa</td>\n",
       "      <td>Oceania</td>\n",
       "      <td>54995</td>\n",
       "      <td>34800</td>\n",
       "      <td>63.28</td>\n",
       "    </tr>\n",
       "    <tr>\n",
       "      <th>5</th>\n",
       "      <td>Andorra</td>\n",
       "      <td>Europe</td>\n",
       "      <td>77465</td>\n",
       "      <td>73101</td>\n",
       "      <td>94.37</td>\n",
       "    </tr>\n",
       "    <tr>\n",
       "      <th>...</th>\n",
       "      <td>...</td>\n",
       "      <td>...</td>\n",
       "      <td>...</td>\n",
       "      <td>...</td>\n",
       "      <td>...</td>\n",
       "    </tr>\n",
       "    <tr>\n",
       "      <th>238</th>\n",
       "      <td>Wallis &amp; Futuna</td>\n",
       "      <td>Oceania</td>\n",
       "      <td>10932</td>\n",
       "      <td>6200</td>\n",
       "      <td>56.71</td>\n",
       "    </tr>\n",
       "    <tr>\n",
       "      <th>239</th>\n",
       "      <td>Western Sahara</td>\n",
       "      <td>Africa</td>\n",
       "      <td>611875</td>\n",
       "      <td>28000</td>\n",
       "      <td>4.58</td>\n",
       "    </tr>\n",
       "    <tr>\n",
       "      <th>240</th>\n",
       "      <td>Yemen</td>\n",
       "      <td>Middle East</td>\n",
       "      <td>30938435</td>\n",
       "      <td>8353377</td>\n",
       "      <td>27.00</td>\n",
       "    </tr>\n",
       "    <tr>\n",
       "      <th>241</th>\n",
       "      <td>Zambia</td>\n",
       "      <td>Africa</td>\n",
       "      <td>18920651</td>\n",
       "      <td>9870427</td>\n",
       "      <td>52.17</td>\n",
       "    </tr>\n",
       "    <tr>\n",
       "      <th>242</th>\n",
       "      <td>Zimbabwe</td>\n",
       "      <td>Africa</td>\n",
       "      <td>15092171</td>\n",
       "      <td>8400000</td>\n",
       "      <td>55.66</td>\n",
       "    </tr>\n",
       "  </tbody>\n",
       "</table>\n",
       "<p>242 rows × 5 columns</p>\n",
       "</div>"
      ],
      "text/plain": [
       "             Country       Region  Population  Internet Users  % of Population\n",
       "1         Afganistan         Asia    40403518         9237489            22.86\n",
       "2            Albania       Europe     2872758         2191467            76.28\n",
       "3            Algeria       Africa    45150879        37836425            83.80\n",
       "4     American Samoa      Oceania       54995           34800            63.28\n",
       "5            Andorra       Europe       77465           73101            94.37\n",
       "..               ...          ...         ...             ...              ...\n",
       "238  Wallis & Futuna      Oceania       10932            6200            56.71\n",
       "239   Western Sahara       Africa      611875           28000             4.58\n",
       "240            Yemen  Middle East    30938435         8353377            27.00\n",
       "241           Zambia       Africa    18920651         9870427            52.17\n",
       "242         Zimbabwe       Africa    15092171         8400000            55.66\n",
       "\n",
       "[242 rows x 5 columns]"
      ]
     },
     "execution_count": 39,
     "metadata": {},
     "output_type": "execute_result"
    }
   ],
   "source": [
    "df"
   ]
  },
  {
   "cell_type": "code",
   "execution_count": 40,
   "id": "33e93aff",
   "metadata": {},
   "outputs": [
    {
     "data": {
      "text/plain": [
       "Region\n",
       "Africa         58\n",
       "America        55\n",
       "Asia           35\n",
       "Europe         53\n",
       "Middle East    14\n",
       "Oceania        27\n",
       "Name: Country, dtype: int64"
      ]
     },
     "execution_count": 40,
     "metadata": {},
     "output_type": "execute_result"
    }
   ],
   "source": [
    "df['Country'].groupby(df['Region']).count()"
   ]
  },
  {
   "cell_type": "code",
   "execution_count": 41,
   "id": "6441793e",
   "metadata": {},
   "outputs": [
    {
     "data": {
      "text/html": [
       "<div>\n",
       "<style scoped>\n",
       "    .dataframe tbody tr th:only-of-type {\n",
       "        vertical-align: middle;\n",
       "    }\n",
       "\n",
       "    .dataframe tbody tr th {\n",
       "        vertical-align: top;\n",
       "    }\n",
       "\n",
       "    .dataframe thead th {\n",
       "        text-align: right;\n",
       "    }\n",
       "</style>\n",
       "<table border=\"1\" class=\"dataframe\">\n",
       "  <thead>\n",
       "    <tr style=\"text-align: right;\">\n",
       "      <th></th>\n",
       "      <th>Country</th>\n",
       "      <th>Region</th>\n",
       "      <th>Population</th>\n",
       "      <th>Internet Users</th>\n",
       "      <th>% of Population</th>\n",
       "    </tr>\n",
       "  </thead>\n",
       "  <tbody>\n",
       "    <tr>\n",
       "      <th>1</th>\n",
       "      <td>Afganistan</td>\n",
       "      <td>Asia</td>\n",
       "      <td>40403518</td>\n",
       "      <td>9237489</td>\n",
       "      <td>22.86</td>\n",
       "    </tr>\n",
       "    <tr>\n",
       "      <th>2</th>\n",
       "      <td>Albania</td>\n",
       "      <td>Europe</td>\n",
       "      <td>2872758</td>\n",
       "      <td>2191467</td>\n",
       "      <td>76.28</td>\n",
       "    </tr>\n",
       "    <tr>\n",
       "      <th>3</th>\n",
       "      <td>Algeria</td>\n",
       "      <td>Africa</td>\n",
       "      <td>45150879</td>\n",
       "      <td>37836425</td>\n",
       "      <td>83.80</td>\n",
       "    </tr>\n",
       "    <tr>\n",
       "      <th>4</th>\n",
       "      <td>American Samoa</td>\n",
       "      <td>Oceania</td>\n",
       "      <td>54995</td>\n",
       "      <td>34800</td>\n",
       "      <td>63.28</td>\n",
       "    </tr>\n",
       "    <tr>\n",
       "      <th>5</th>\n",
       "      <td>Andorra</td>\n",
       "      <td>Europe</td>\n",
       "      <td>77465</td>\n",
       "      <td>73101</td>\n",
       "      <td>94.37</td>\n",
       "    </tr>\n",
       "    <tr>\n",
       "      <th>...</th>\n",
       "      <td>...</td>\n",
       "      <td>...</td>\n",
       "      <td>...</td>\n",
       "      <td>...</td>\n",
       "      <td>...</td>\n",
       "    </tr>\n",
       "    <tr>\n",
       "      <th>238</th>\n",
       "      <td>Wallis &amp; Futuna</td>\n",
       "      <td>Oceania</td>\n",
       "      <td>10932</td>\n",
       "      <td>6200</td>\n",
       "      <td>56.71</td>\n",
       "    </tr>\n",
       "    <tr>\n",
       "      <th>239</th>\n",
       "      <td>Western Sahara</td>\n",
       "      <td>Africa</td>\n",
       "      <td>611875</td>\n",
       "      <td>28000</td>\n",
       "      <td>4.58</td>\n",
       "    </tr>\n",
       "    <tr>\n",
       "      <th>240</th>\n",
       "      <td>Yemen</td>\n",
       "      <td>Middle East</td>\n",
       "      <td>30938435</td>\n",
       "      <td>8353377</td>\n",
       "      <td>27.00</td>\n",
       "    </tr>\n",
       "    <tr>\n",
       "      <th>241</th>\n",
       "      <td>Zambia</td>\n",
       "      <td>Africa</td>\n",
       "      <td>18920651</td>\n",
       "      <td>9870427</td>\n",
       "      <td>52.17</td>\n",
       "    </tr>\n",
       "    <tr>\n",
       "      <th>242</th>\n",
       "      <td>Zimbabwe</td>\n",
       "      <td>Africa</td>\n",
       "      <td>15092171</td>\n",
       "      <td>8400000</td>\n",
       "      <td>55.66</td>\n",
       "    </tr>\n",
       "  </tbody>\n",
       "</table>\n",
       "<p>242 rows × 5 columns</p>\n",
       "</div>"
      ],
      "text/plain": [
       "             Country       Region  Population  Internet Users  % of Population\n",
       "1         Afganistan         Asia    40403518         9237489            22.86\n",
       "2            Albania       Europe     2872758         2191467            76.28\n",
       "3            Algeria       Africa    45150879        37836425            83.80\n",
       "4     American Samoa      Oceania       54995           34800            63.28\n",
       "5            Andorra       Europe       77465           73101            94.37\n",
       "..               ...          ...         ...             ...              ...\n",
       "238  Wallis & Futuna      Oceania       10932            6200            56.71\n",
       "239   Western Sahara       Africa      611875           28000             4.58\n",
       "240            Yemen  Middle East    30938435         8353377            27.00\n",
       "241           Zambia       Africa    18920651         9870427            52.17\n",
       "242         Zimbabwe       Africa    15092171         8400000            55.66\n",
       "\n",
       "[242 rows x 5 columns]"
      ]
     },
     "execution_count": 41,
     "metadata": {},
     "output_type": "execute_result"
    }
   ],
   "source": [
    "df"
   ]
  },
  {
   "cell_type": "code",
   "execution_count": 42,
   "id": "eeb2342b",
   "metadata": {},
   "outputs": [
    {
     "data": {
      "image/png": "[encoded data removed]",
      "text/plain": [
       "<Figure size 1080x576 with 1 Axes>"
      ]
     },
     "metadata": {
      "needs_background": "light"
     },
     "output_type": "display_data"
    }
   ],
   "source": [
    "df['Population'].plot(figsize=(15,8), marker='o', color='Red')\n",
    "df['Internet Users'].plot(figsize=(15,8), marker='o', color='Blue')\n",
    "plt.title('Population v/s Internet Users')\n",
    "plt.legend(fontsize=15)\n",
    "plt.show()"
   ]
  },
  {
   "cell_type": "code",
   "execution_count": 43,
   "id": "eeac82a2",
   "metadata": {},
   "outputs": [],
   "source": [
    "df.reset_index(drop=True,inplace=True)"
   ]
  },
  {
   "cell_type": "code",
   "execution_count": 44,
   "id": "22b0300b",
   "metadata": {},
   "outputs": [
    {
     "data": {
      "text/html": [
       "<div>\n",
       "<style scoped>\n",
       "    .dataframe tbody tr th:only-of-type {\n",
       "        vertical-align: middle;\n",
       "    }\n",
       "\n",
       "    .dataframe tbody tr th {\n",
       "        vertical-align: top;\n",
       "    }\n",
       "\n",
       "    .dataframe thead th {\n",
       "        text-align: right;\n",
       "    }\n",
       "</style>\n",
       "<table border=\"1\" class=\"dataframe\">\n",
       "  <thead>\n",
       "    <tr style=\"text-align: right;\">\n",
       "      <th></th>\n",
       "      <th>Country</th>\n",
       "      <th>Region</th>\n",
       "      <th>Population</th>\n",
       "      <th>Internet Users</th>\n",
       "      <th>% of Population</th>\n",
       "    </tr>\n",
       "  </thead>\n",
       "  <tbody>\n",
       "    <tr>\n",
       "      <th>0</th>\n",
       "      <td>Afganistan</td>\n",
       "      <td>Asia</td>\n",
       "      <td>40403518</td>\n",
       "      <td>9237489</td>\n",
       "      <td>22.86</td>\n",
       "    </tr>\n",
       "    <tr>\n",
       "      <th>1</th>\n",
       "      <td>Albania</td>\n",
       "      <td>Europe</td>\n",
       "      <td>2872758</td>\n",
       "      <td>2191467</td>\n",
       "      <td>76.28</td>\n",
       "    </tr>\n",
       "    <tr>\n",
       "      <th>2</th>\n",
       "      <td>Algeria</td>\n",
       "      <td>Africa</td>\n",
       "      <td>45150879</td>\n",
       "      <td>37836425</td>\n",
       "      <td>83.80</td>\n",
       "    </tr>\n",
       "    <tr>\n",
       "      <th>3</th>\n",
       "      <td>American Samoa</td>\n",
       "      <td>Oceania</td>\n",
       "      <td>54995</td>\n",
       "      <td>34800</td>\n",
       "      <td>63.28</td>\n",
       "    </tr>\n",
       "    <tr>\n",
       "      <th>4</th>\n",
       "      <td>Andorra</td>\n",
       "      <td>Europe</td>\n",
       "      <td>77465</td>\n",
       "      <td>73101</td>\n",
       "      <td>94.37</td>\n",
       "    </tr>\n",
       "    <tr>\n",
       "      <th>...</th>\n",
       "      <td>...</td>\n",
       "      <td>...</td>\n",
       "      <td>...</td>\n",
       "      <td>...</td>\n",
       "      <td>...</td>\n",
       "    </tr>\n",
       "    <tr>\n",
       "      <th>237</th>\n",
       "      <td>Wallis &amp; Futuna</td>\n",
       "      <td>Oceania</td>\n",
       "      <td>10932</td>\n",
       "      <td>6200</td>\n",
       "      <td>56.71</td>\n",
       "    </tr>\n",
       "    <tr>\n",
       "      <th>238</th>\n",
       "      <td>Western Sahara</td>\n",
       "      <td>Africa</td>\n",
       "      <td>611875</td>\n",
       "      <td>28000</td>\n",
       "      <td>4.58</td>\n",
       "    </tr>\n",
       "    <tr>\n",
       "      <th>239</th>\n",
       "      <td>Yemen</td>\n",
       "      <td>Middle East</td>\n",
       "      <td>30938435</td>\n",
       "      <td>8353377</td>\n",
       "      <td>27.00</td>\n",
       "    </tr>\n",
       "    <tr>\n",
       "      <th>240</th>\n",
       "      <td>Zambia</td>\n",
       "      <td>Africa</td>\n",
       "      <td>18920651</td>\n",
       "      <td>9870427</td>\n",
       "      <td>52.17</td>\n",
       "    </tr>\n",
       "    <tr>\n",
       "      <th>241</th>\n",
       "      <td>Zimbabwe</td>\n",
       "      <td>Africa</td>\n",
       "      <td>15092171</td>\n",
       "      <td>8400000</td>\n",
       "      <td>55.66</td>\n",
       "    </tr>\n",
       "  </tbody>\n",
       "</table>\n",
       "<p>242 rows × 5 columns</p>\n",
       "</div>"
      ],
      "text/plain": [
       "             Country       Region  Population  Internet Users  % of Population\n",
       "0         Afganistan         Asia    40403518         9237489            22.86\n",
       "1            Albania       Europe     2872758         2191467            76.28\n",
       "2            Algeria       Africa    45150879        37836425            83.80\n",
       "3     American Samoa      Oceania       54995           34800            63.28\n",
       "4            Andorra       Europe       77465           73101            94.37\n",
       "..               ...          ...         ...             ...              ...\n",
       "237  Wallis & Futuna      Oceania       10932            6200            56.71\n",
       "238   Western Sahara       Africa      611875           28000             4.58\n",
       "239            Yemen  Middle East    30938435         8353377            27.00\n",
       "240           Zambia       Africa    18920651         9870427            52.17\n",
       "241         Zimbabwe       Africa    15092171         8400000            55.66\n",
       "\n",
       "[242 rows x 5 columns]"
      ]
     },
     "execution_count": 44,
     "metadata": {},
     "output_type": "execute_result"
    }
   ],
   "source": [
    "df"
   ]
  },
  {
   "cell_type": "code",
   "execution_count": 90,
   "id": "b913bdfe",
   "metadata": {},
   "outputs": [
    {
     "data": {
      "image/png": "[encoded data removed]",
      "text/plain": [
       "<Figure size 1080x576 with 1 Axes>"
      ]
     },
     "metadata": {
      "needs_background": "light"
     },
     "output_type": "display_data"
    }
   ],
   "source": [
    "b=df.sort_values('Population',ascending=False).iloc[0:10,0:4].reset_index(drop=True).drop('Region',axis=1)\n",
    "b.plot(figsize=(15,8), marker='o', color=['Blue','Red'])\n",
    "plt.xticks(ticks=np.arange(1,11),labels=list(b['Country']),rotation=90)\n",
    "plt.show()"
   ]
  },
  {
   "cell_type": "code",
   "execution_count": 88,
   "id": "e22047a8",
   "metadata": {},
   "outputs": [
    {
     "data": {
      "image/png": "[encoded data removed]",
      "text/plain": [
       "<Figure size 1080x576 with 1 Axes>"
      ]
     },
     "metadata": {
      "needs_background": "light"
     },
     "output_type": "display_data"
    }
   ],
   "source": [
    "b=df.sort_values('Population').iloc[0:10,0:4].reset_index(drop=True).drop('Region',axis=1)\n",
    "b.plot(figsize=(15,8), marker='o', color=['Blue','Red'])\n",
    "plt.xticks(ticks=np.arange(1,11),labels=list(b['Country']),rotation=90)\n",
    "plt.show()"
   ]
  },
  {
   "cell_type": "code",
   "execution_count": 91,
   "id": "18d1d521",
   "metadata": {},
   "outputs": [
    {
     "data": {
      "text/html": [
       "<div>\n",
       "<style scoped>\n",
       "    .dataframe tbody tr th:only-of-type {\n",
       "        vertical-align: middle;\n",
       "    }\n",
       "\n",
       "    .dataframe tbody tr th {\n",
       "        vertical-align: top;\n",
       "    }\n",
       "\n",
       "    .dataframe thead th {\n",
       "        text-align: right;\n",
       "    }\n",
       "</style>\n",
       "<table border=\"1\" class=\"dataframe\">\n",
       "  <thead>\n",
       "    <tr style=\"text-align: right;\">\n",
       "      <th></th>\n",
       "      <th>Country</th>\n",
       "      <th>Region</th>\n",
       "      <th>Population</th>\n",
       "      <th>Internet Users</th>\n",
       "      <th>% of Population</th>\n",
       "    </tr>\n",
       "  </thead>\n",
       "  <tbody>\n",
       "    <tr>\n",
       "      <th>0</th>\n",
       "      <td>Afganistan</td>\n",
       "      <td>Asia</td>\n",
       "      <td>40403518</td>\n",
       "      <td>9237489</td>\n",
       "      <td>22.86</td>\n",
       "    </tr>\n",
       "    <tr>\n",
       "      <th>1</th>\n",
       "      <td>Albania</td>\n",
       "      <td>Europe</td>\n",
       "      <td>2872758</td>\n",
       "      <td>2191467</td>\n",
       "      <td>76.28</td>\n",
       "    </tr>\n",
       "    <tr>\n",
       "      <th>2</th>\n",
       "      <td>Algeria</td>\n",
       "      <td>Africa</td>\n",
       "      <td>45150879</td>\n",
       "      <td>37836425</td>\n",
       "      <td>83.80</td>\n",
       "    </tr>\n",
       "    <tr>\n",
       "      <th>3</th>\n",
       "      <td>American Samoa</td>\n",
       "      <td>Oceania</td>\n",
       "      <td>54995</td>\n",
       "      <td>34800</td>\n",
       "      <td>63.28</td>\n",
       "    </tr>\n",
       "    <tr>\n",
       "      <th>4</th>\n",
       "      <td>Andorra</td>\n",
       "      <td>Europe</td>\n",
       "      <td>77465</td>\n",
       "      <td>73101</td>\n",
       "      <td>94.37</td>\n",
       "    </tr>\n",
       "    <tr>\n",
       "      <th>...</th>\n",
       "      <td>...</td>\n",
       "      <td>...</td>\n",
       "      <td>...</td>\n",
       "      <td>...</td>\n",
       "      <td>...</td>\n",
       "    </tr>\n",
       "    <tr>\n",
       "      <th>237</th>\n",
       "      <td>Wallis &amp; Futuna</td>\n",
       "      <td>Oceania</td>\n",
       "      <td>10932</td>\n",
       "      <td>6200</td>\n",
       "      <td>56.71</td>\n",
       "    </tr>\n",
       "    <tr>\n",
       "      <th>238</th>\n",
       "      <td>Western Sahara</td>\n",
       "      <td>Africa</td>\n",
       "      <td>611875</td>\n",
       "      <td>28000</td>\n",
       "      <td>4.58</td>\n",
       "    </tr>\n",
       "    <tr>\n",
       "      <th>239</th>\n",
       "      <td>Yemen</td>\n",
       "      <td>Middle East</td>\n",
       "      <td>30938435</td>\n",
       "      <td>8353377</td>\n",
       "      <td>27.00</td>\n",
       "    </tr>\n",
       "    <tr>\n",
       "      <th>240</th>\n",
       "      <td>Zambia</td>\n",
       "      <td>Africa</td>\n",
       "      <td>18920651</td>\n",
       "      <td>9870427</td>\n",
       "      <td>52.17</td>\n",
       "    </tr>\n",
       "    <tr>\n",
       "      <th>241</th>\n",
       "      <td>Zimbabwe</td>\n",
       "      <td>Africa</td>\n",
       "      <td>15092171</td>\n",
       "      <td>8400000</td>\n",
       "      <td>55.66</td>\n",
       "    </tr>\n",
       "  </tbody>\n",
       "</table>\n",
       "<p>242 rows × 5 columns</p>\n",
       "</div>"
      ],
      "text/plain": [
       "             Country       Region  Population  Internet Users  % of Population\n",
       "0         Afganistan         Asia    40403518         9237489            22.86\n",
       "1            Albania       Europe     2872758         2191467            76.28\n",
       "2            Algeria       Africa    45150879        37836425            83.80\n",
       "3     American Samoa      Oceania       54995           34800            63.28\n",
       "4            Andorra       Europe       77465           73101            94.37\n",
       "..               ...          ...         ...             ...              ...\n",
       "237  Wallis & Futuna      Oceania       10932            6200            56.71\n",
       "238   Western Sahara       Africa      611875           28000             4.58\n",
       "239            Yemen  Middle East    30938435         8353377            27.00\n",
       "240           Zambia       Africa    18920651         9870427            52.17\n",
       "241         Zimbabwe       Africa    15092171         8400000            55.66\n",
       "\n",
       "[242 rows x 5 columns]"
      ]
     },
     "execution_count": 91,
     "metadata": {},
     "output_type": "execute_result"
    }
   ],
   "source": [
    "df"
   ]
  },
  {
   "cell_type": "code",
   "execution_count": null,
   "id": "c0f10f47",
   "metadata": {},
   "outputs": [],
   "source": []
  },
  {
   "cell_type": "code",
   "execution_count": 98,
   "id": "064776a4",
   "metadata": {},
   "outputs": [
    {
     "data": {
      "text/plain": [
       "<AxesSubplot:xlabel='Internet Users', ylabel='Region'>"
      ]
     },
     "execution_count": 98,
     "metadata": {},
     "output_type": "execute_result"
    },
    {
     "data": {
      "image/png": "[encoded data removed]",
      "text/plain": [
       "<Figure size 432x288 with 1 Axes>"
      ]
     },
     "metadata": {
      "needs_background": "light"
     },
     "output_type": "display_data"
    }
   ],
   "source": [
    "sns.barplot(y=df['Region'],x=df['Internet Users'],ci=False)"
   ]
  },
  {
   "cell_type": "code",
   "execution_count": null,
   "id": "cea861e8",
   "metadata": {},
   "outputs": [],
   "source": []
  },
  {
   "cell_type": "code",
   "execution_count": 121,
   "id": "aa2a91c3",
   "metadata": {},
   "outputs": [
    {
     "data": {
      "text/plain": [
       "<AxesSubplot:ylabel='Internet Users'>"
      ]
     },
     "execution_count": 121,
     "metadata": {},
     "output_type": "execute_result"
    },
    {
     "data": {
      "image/png": "[encoded data removed]",
      "text/plain": [
       "<Figure size 576x576 with 1 Axes>"
      ]
     },
     "metadata": {},
     "output_type": "display_data"
    }
   ],
   "source": [
    "plt.figure(figsize=(8,8))\n",
    "df['Internet Users'].groupby(df['Region']).count().plot.pie(autopct='%.2f%%',startangle=90)"
   ]
  },
  {
   "cell_type": "code",
   "execution_count": 114,
   "id": "72ad052a",
   "metadata": {},
   "outputs": [
    {
     "data": {
      "text/plain": [
       "2933886678"
      ]
     },
     "execution_count": 114,
     "metadata": {},
     "output_type": "execute_result"
    }
   ],
   "source": [
    "\n",
    "df[df['Region']=='Asia']['Internet Users'].sum()"
   ]
  },
  {
   "cell_type": "code",
   "execution_count": 124,
   "id": "cb282f08",
   "metadata": {},
   "outputs": [
    {
     "data": {
      "text/plain": [
       "<AxesSubplot:ylabel='Internet Users'>"
      ]
     },
     "execution_count": 124,
     "metadata": {},
     "output_type": "execute_result"
    },
    {
     "data": {
      "image/png": "[encoded data removed]",
      "text/plain": [
       "<Figure size 576x576 with 1 Axes>"
      ]
     },
     "metadata": {},
     "output_type": "display_data"
    }
   ],
   "source": [
    "plt.figure(figsize=(8,8))\n",
    "df.groupby('Region')['Internet Users'].sum().plot.pie(autopct='%.2f%%',startangle=90)"
   ]
  },
  {
   "cell_type": "code",
   "execution_count": 141,
   "id": "12e536d9",
   "metadata": {},
   "outputs": [
    {
     "data": {
      "image/png": "[encoded data removed]",
      "text/plain": [
       "<Figure size 720x576 with 1 Axes>"
      ]
     },
     "metadata": {
      "needs_background": "light"
     },
     "output_type": "display_data"
    }
   ],
   "source": [
    "plt.figure(figsize=(10,8))\n",
    "df.groupby('Region')['Internet Users'].sum().plot.bar()\n",
    "plt.show()"
   ]
  },
  {
   "cell_type": "code",
   "execution_count": 154,
   "id": "08f5f914",
   "metadata": {},
   "outputs": [
    {
     "data": {
      "text/plain": [
       "Region\n",
       "Africa          154301195\n",
       "America         312320000\n",
       "Asia           1010740000\n",
       "Europe          124630000\n",
       "Middle East      78086663\n",
       "Oceania          23391152\n",
       "Name: Internet Users, dtype: int64"
      ]
     },
     "execution_count": 154,
     "metadata": {},
     "output_type": "execute_result"
    }
   ],
   "source": [
    "df.groupby('Region')['Internet Users'].max()"
   ]
  },
  {
   "cell_type": "code",
   "execution_count": 169,
   "id": "39211a11",
   "metadata": {},
   "outputs": [
    {
     "data": {
      "text/plain": [
       "Country\n",
       "China            1010740000\n",
       "India             833710000\n",
       "United States     312320000\n",
       "Indonesia         212354070\n",
       "Brazil            178100000\n",
       "Name: Internet Users, dtype: int64"
      ]
     },
     "execution_count": 169,
     "metadata": {},
     "output_type": "execute_result"
    }
   ],
   "source": [
    "df.groupby('Country')['Internet Users'].max().sort_values(ascending=False).head(5)"
   ]
  },
  {
   "cell_type": "code",
   "execution_count": null,
   "id": "af4a87ac",
   "metadata": {},
   "outputs": [],
   "source": []
  },
  {
   "cell_type": "code",
   "execution_count": 146,
   "id": "d867a67e",
   "metadata": {},
   "outputs": [
    {
     "data": {
      "text/html": [
       "<div>\n",
       "<style scoped>\n",
       "    .dataframe tbody tr th:only-of-type {\n",
       "        vertical-align: middle;\n",
       "    }\n",
       "\n",
       "    .dataframe tbody tr th {\n",
       "        vertical-align: top;\n",
       "    }\n",
       "\n",
       "    .dataframe thead th {\n",
       "        text-align: right;\n",
       "    }\n",
       "</style>\n",
       "<table border=\"1\" class=\"dataframe\">\n",
       "  <thead>\n",
       "    <tr style=\"text-align: right;\">\n",
       "      <th></th>\n",
       "      <th>Country</th>\n",
       "      <th>Region</th>\n",
       "      <th>Population</th>\n",
       "      <th>Internet Users</th>\n",
       "      <th>% of Population</th>\n",
       "    </tr>\n",
       "  </thead>\n",
       "  <tbody>\n",
       "    <tr>\n",
       "      <th>0</th>\n",
       "      <td>Afganistan</td>\n",
       "      <td>Asia</td>\n",
       "      <td>40403518</td>\n",
       "      <td>9237489</td>\n",
       "      <td>22.86</td>\n",
       "    </tr>\n",
       "    <tr>\n",
       "      <th>1</th>\n",
       "      <td>Albania</td>\n",
       "      <td>Europe</td>\n",
       "      <td>2872758</td>\n",
       "      <td>2191467</td>\n",
       "      <td>76.28</td>\n",
       "    </tr>\n",
       "    <tr>\n",
       "      <th>2</th>\n",
       "      <td>Algeria</td>\n",
       "      <td>Africa</td>\n",
       "      <td>45150879</td>\n",
       "      <td>37836425</td>\n",
       "      <td>83.80</td>\n",
       "    </tr>\n",
       "    <tr>\n",
       "      <th>3</th>\n",
       "      <td>American Samoa</td>\n",
       "      <td>Oceania</td>\n",
       "      <td>54995</td>\n",
       "      <td>34800</td>\n",
       "      <td>63.28</td>\n",
       "    </tr>\n",
       "    <tr>\n",
       "      <th>4</th>\n",
       "      <td>Andorra</td>\n",
       "      <td>Europe</td>\n",
       "      <td>77465</td>\n",
       "      <td>73101</td>\n",
       "      <td>94.37</td>\n",
       "    </tr>\n",
       "    <tr>\n",
       "      <th>...</th>\n",
       "      <td>...</td>\n",
       "      <td>...</td>\n",
       "      <td>...</td>\n",
       "      <td>...</td>\n",
       "      <td>...</td>\n",
       "    </tr>\n",
       "    <tr>\n",
       "      <th>237</th>\n",
       "      <td>Wallis &amp; Futuna</td>\n",
       "      <td>Oceania</td>\n",
       "      <td>10932</td>\n",
       "      <td>6200</td>\n",
       "      <td>56.71</td>\n",
       "    </tr>\n",
       "    <tr>\n",
       "      <th>238</th>\n",
       "      <td>Western Sahara</td>\n",
       "      <td>Africa</td>\n",
       "      <td>611875</td>\n",
       "      <td>28000</td>\n",
       "      <td>4.58</td>\n",
       "    </tr>\n",
       "    <tr>\n",
       "      <th>239</th>\n",
       "      <td>Yemen</td>\n",
       "      <td>Middle East</td>\n",
       "      <td>30938435</td>\n",
       "      <td>8353377</td>\n",
       "      <td>27.00</td>\n",
       "    </tr>\n",
       "    <tr>\n",
       "      <th>240</th>\n",
       "      <td>Zambia</td>\n",
       "      <td>Africa</td>\n",
       "      <td>18920651</td>\n",
       "      <td>9870427</td>\n",
       "      <td>52.17</td>\n",
       "    </tr>\n",
       "    <tr>\n",
       "      <th>241</th>\n",
       "      <td>Zimbabwe</td>\n",
       "      <td>Africa</td>\n",
       "      <td>15092171</td>\n",
       "      <td>8400000</td>\n",
       "      <td>55.66</td>\n",
       "    </tr>\n",
       "  </tbody>\n",
       "</table>\n",
       "<p>242 rows × 5 columns</p>\n",
       "</div>"
      ],
      "text/plain": [
       "             Country       Region  Population  Internet Users  % of Population\n",
       "0         Afganistan         Asia    40403518         9237489            22.86\n",
       "1            Albania       Europe     2872758         2191467            76.28\n",
       "2            Algeria       Africa    45150879        37836425            83.80\n",
       "3     American Samoa      Oceania       54995           34800            63.28\n",
       "4            Andorra       Europe       77465           73101            94.37\n",
       "..               ...          ...         ...             ...              ...\n",
       "237  Wallis & Futuna      Oceania       10932            6200            56.71\n",
       "238   Western Sahara       Africa      611875           28000             4.58\n",
       "239            Yemen  Middle East    30938435         8353377            27.00\n",
       "240           Zambia       Africa    18920651         9870427            52.17\n",
       "241         Zimbabwe       Africa    15092171         8400000            55.66\n",
       "\n",
       "[242 rows x 5 columns]"
      ]
     },
     "execution_count": 146,
     "metadata": {},
     "output_type": "execute_result"
    }
   ],
   "source": [
    "df"
   ]
  },
  {
   "cell_type": "code",
   "execution_count": 170,
   "id": "7e74451d",
   "metadata": {},
   "outputs": [
    {
     "data": {
      "text/plain": [
       "0      22.86\n",
       "1      76.28\n",
       "2      83.80\n",
       "3      63.28\n",
       "4      94.37\n",
       "       ...  \n",
       "237    56.71\n",
       "238     4.58\n",
       "239    27.00\n",
       "240    52.17\n",
       "241    55.66\n",
       "Name: % of Population, Length: 242, dtype: float64"
      ]
     },
     "execution_count": 170,
     "metadata": {},
     "output_type": "execute_result"
    }
   ],
   "source": [
    "df['% of Population'].sort"
   ]
  },
  {
   "cell_type": "code",
   "execution_count": 172,
   "id": "85ca1000",
   "metadata": {},
   "outputs": [
    {
     "data": {
      "text/plain": [
       "Country\n",
       "United Arab Emirates    120.70\n",
       "Brunei Darussulam       119.68\n",
       "Puerto Rico             110.91\n",
       "Cayman Islands          110.17\n",
       "Cyprus                  108.07\n",
       "Malta                   107.86\n",
       "Qatar                   107.32\n",
       "Guam                    105.83\n",
       "Aruba                   104.00\n",
       "Palau                   103.65\n",
       "Name: % of Population, dtype: float64"
      ]
     },
     "execution_count": 172,
     "metadata": {},
     "output_type": "execute_result"
    }
   ],
   "source": [
    "df.groupby('Country')['% of Population'].max().sort_values(ascending=False).head(10)"
   ]
  },
  {
   "cell_type": "code",
   "execution_count": null,
   "id": "0064d5af",
   "metadata": {},
   "outputs": [],
   "source": []
  },
  {
   "cell_type": "code",
   "execution_count": 185,
   "id": "c958a3cb",
   "metadata": {},
   "outputs": [
    {
     "data": {
      "text/plain": [
       "Country\n",
       "Korea, North             0.08\n",
       "Western Sahara           4.58\n",
       "Eritrea                  6.84\n",
       "South Sudan              7.91\n",
       "Madagascar              10.07\n",
       "Central African Rep.    11.21\n",
       "Papau New Guinea        11.91\n",
       "Togo                    11.93\n",
       "Somalia                 12.77\n",
       "Sierra Leone            12.82\n",
       "Name: % of Population, dtype: float64"
      ]
     },
     "execution_count": 185,
     "metadata": {},
     "output_type": "execute_result"
    }
   ],
   "source": [
    "df.groupby('Country')['% of Population'].max().sort_values().head(10)"
   ]
  },
  {
   "cell_type": "code",
   "execution_count": null,
   "id": "8f6f1d5d",
   "metadata": {},
   "outputs": [],
   "source": []
  },
  {
   "cell_type": "code",
   "execution_count": null,
   "id": "fb04da74",
   "metadata": {},
   "outputs": [],
   "source": []
  }
 ],
 "metadata": {
  "kernelspec": {
   "display_name": "Python 3 (ipykernel)",
   "language": "python",
   "name": "python3"
  },
  "language_info": {
   "codemirror_mode": {
    "name": "ipython",
    "version": 3
   },
   "file_extension": ".py",
   "mimetype": "text/x-python",
   "name": "python",
   "nbconvert_exporter": "python",
   "pygments_lexer": "ipython3",
   "version": "3.9.12"
  }
 },
 "nbformat": 4,
 "nbformat_minor": 5
}
