{
 "cells": [
  {
   "cell_type": "code",
   "execution_count": 625,
   "id": "ce932db0",
   "metadata": {},
   "outputs": [],
   "source": [
    "import numpy as np\n",
    "import pandas as pd\n",
    "import seaborn as sns\n",
    "import matplotlib.pyplot as plt\n",
    "import warnings\n",
    "warnings.filterwarnings('ignore')\n",
    "%matplotlib inline"
   ]
  },
  {
   "cell_type": "code",
   "execution_count": 626,
   "id": "07b37eb6",
   "metadata": {},
   "outputs": [],
   "source": [
    "df=pd.read_csv(\"Employees.csv\")"
   ]
  },
  {
   "cell_type": "code",
   "execution_count": 627,
   "id": "bd4d32b5",
   "metadata": {},
   "outputs": [
    {
     "data": {
      "text/html": [
       "<div>\n",
       "<style scoped>\n",
       "    .dataframe tbody tr th:only-of-type {\n",
       "        vertical-align: middle;\n",
       "    }\n",
       "\n",
       "    .dataframe tbody tr th {\n",
       "        vertical-align: top;\n",
       "    }\n",
       "\n",
       "    .dataframe thead th {\n",
       "        text-align: right;\n",
       "    }\n",
       "</style>\n",
       "<table border=\"1\" class=\"dataframe\">\n",
       "  <thead>\n",
       "    <tr style=\"text-align: right;\">\n",
       "      <th></th>\n",
       "      <th>Id</th>\n",
       "      <th>Name</th>\n",
       "      <th>Age</th>\n",
       "      <th>Base Pay</th>\n",
       "      <th>OverTime Pay</th>\n",
       "      <th>Benefits</th>\n",
       "      <th>Total Pay benefits</th>\n",
       "      <th>Loan</th>\n",
       "      <th>Department</th>\n",
       "      <th>Duration</th>\n",
       "      <th>Rating</th>\n",
       "      <th>Email</th>\n",
       "      <th>State</th>\n",
       "      <th>Country</th>\n",
       "    </tr>\n",
       "  </thead>\n",
       "  <tbody>\n",
       "    <tr>\n",
       "      <th>0</th>\n",
       "      <td>1</td>\n",
       "      <td>Marcia Stephens</td>\n",
       "      <td>22</td>\n",
       "      <td>120000</td>\n",
       "      <td>60000.0</td>\n",
       "      <td>15000.0</td>\n",
       "      <td>195000.0</td>\n",
       "      <td>No</td>\n",
       "      <td>SDE</td>\n",
       "      <td>7</td>\n",
       "      <td>8.2</td>\n",
       "      <td>['marcia.stephens@reddit.com']</td>\n",
       "      <td>colarado</td>\n",
       "      <td>USA</td>\n",
       "    </tr>\n",
       "    <tr>\n",
       "      <th>1</th>\n",
       "      <td>2</td>\n",
       "      <td>Karen Lopez</td>\n",
       "      <td>22</td>\n",
       "      <td>120000</td>\n",
       "      <td>60000.0</td>\n",
       "      <td>15000.0</td>\n",
       "      <td>195000.0</td>\n",
       "      <td>No</td>\n",
       "      <td>SDE-T</td>\n",
       "      <td>6</td>\n",
       "      <td>9.3</td>\n",
       "      <td>['karen.lopez@gmail.com']</td>\n",
       "      <td>taxes</td>\n",
       "      <td>USA</td>\n",
       "    </tr>\n",
       "    <tr>\n",
       "      <th>2</th>\n",
       "      <td>3</td>\n",
       "      <td>Heather Reilly</td>\n",
       "      <td>22</td>\n",
       "      <td>60000</td>\n",
       "      <td>30000.0</td>\n",
       "      <td>7500.0</td>\n",
       "      <td>97500.0</td>\n",
       "      <td>No</td>\n",
       "      <td>SDE</td>\n",
       "      <td>5</td>\n",
       "      <td>6.6</td>\n",
       "      <td>['heather.reilly@hotmail.com']</td>\n",
       "      <td>NewBrunswick</td>\n",
       "      <td>Canada</td>\n",
       "    </tr>\n",
       "    <tr>\n",
       "      <th>3</th>\n",
       "      <td>4</td>\n",
       "      <td>Cindy Leblanc</td>\n",
       "      <td>32</td>\n",
       "      <td>70000</td>\n",
       "      <td>35000.0</td>\n",
       "      <td>8750.0</td>\n",
       "      <td>113750.0</td>\n",
       "      <td>No</td>\n",
       "      <td>Admin</td>\n",
       "      <td>1</td>\n",
       "      <td>8.0</td>\n",
       "      <td>['cindy.leblanc@hotmail.com']</td>\n",
       "      <td>colarado</td>\n",
       "      <td>USA</td>\n",
       "    </tr>\n",
       "    <tr>\n",
       "      <th>4</th>\n",
       "      <td>5</td>\n",
       "      <td>Colin Richardson</td>\n",
       "      <td>22</td>\n",
       "      <td>120000</td>\n",
       "      <td>60000.0</td>\n",
       "      <td>15000.0</td>\n",
       "      <td>195000.0</td>\n",
       "      <td>Yes</td>\n",
       "      <td>SDE</td>\n",
       "      <td>3</td>\n",
       "      <td>5.7</td>\n",
       "      <td>['colin.richardson@yahoo.com']</td>\n",
       "      <td>altai</td>\n",
       "      <td>Russia</td>\n",
       "    </tr>\n",
       "    <tr>\n",
       "      <th>...</th>\n",
       "      <td>...</td>\n",
       "      <td>...</td>\n",
       "      <td>...</td>\n",
       "      <td>...</td>\n",
       "      <td>...</td>\n",
       "      <td>...</td>\n",
       "      <td>...</td>\n",
       "      <td>...</td>\n",
       "      <td>...</td>\n",
       "      <td>...</td>\n",
       "      <td>...</td>\n",
       "      <td>...</td>\n",
       "      <td>...</td>\n",
       "      <td>...</td>\n",
       "    </tr>\n",
       "    <tr>\n",
       "      <th>995</th>\n",
       "      <td>996</td>\n",
       "      <td>Douglas English</td>\n",
       "      <td>32</td>\n",
       "      <td>110000</td>\n",
       "      <td>55000.0</td>\n",
       "      <td>13750.0</td>\n",
       "      <td>178750.0</td>\n",
       "      <td>No</td>\n",
       "      <td>SDE-T</td>\n",
       "      <td>5</td>\n",
       "      <td>9.3</td>\n",
       "      <td>['douglas.english@hotmail.com']</td>\n",
       "      <td>NewBrunswick</td>\n",
       "      <td>Canada</td>\n",
       "    </tr>\n",
       "    <tr>\n",
       "      <th>996</th>\n",
       "      <td>997</td>\n",
       "      <td>Michael Berger</td>\n",
       "      <td>27</td>\n",
       "      <td>120000</td>\n",
       "      <td>60000.0</td>\n",
       "      <td>15000.0</td>\n",
       "      <td>195000.0</td>\n",
       "      <td>No</td>\n",
       "      <td>SDE</td>\n",
       "      <td>4</td>\n",
       "      <td>9.3</td>\n",
       "      <td>['michael.berger@outlook.com']</td>\n",
       "      <td>chechnya</td>\n",
       "      <td>Russia</td>\n",
       "    </tr>\n",
       "    <tr>\n",
       "      <th>997</th>\n",
       "      <td>998</td>\n",
       "      <td>Theodore Robinson</td>\n",
       "      <td>22</td>\n",
       "      <td>96000</td>\n",
       "      <td>48000.0</td>\n",
       "      <td>12000.0</td>\n",
       "      <td>156000.0</td>\n",
       "      <td>Yes</td>\n",
       "      <td>Hr</td>\n",
       "      <td>3</td>\n",
       "      <td>9.3</td>\n",
       "      <td>['theodore.robinson@reddit.com']</td>\n",
       "      <td>adygea</td>\n",
       "      <td>Russia</td>\n",
       "    </tr>\n",
       "    <tr>\n",
       "      <th>998</th>\n",
       "      <td>999</td>\n",
       "      <td>Cindy Knox</td>\n",
       "      <td>48</td>\n",
       "      <td>80000</td>\n",
       "      <td>40000.0</td>\n",
       "      <td>10000.0</td>\n",
       "      <td>130000.0</td>\n",
       "      <td>Yes</td>\n",
       "      <td>SDE</td>\n",
       "      <td>7</td>\n",
       "      <td>6.6</td>\n",
       "      <td>['cindy.knox@hotmail.com']</td>\n",
       "      <td>Ontario</td>\n",
       "      <td>Canada</td>\n",
       "    </tr>\n",
       "    <tr>\n",
       "      <th>999</th>\n",
       "      <td>1000</td>\n",
       "      <td>Katherine Keith</td>\n",
       "      <td>30</td>\n",
       "      <td>96000</td>\n",
       "      <td>48000.0</td>\n",
       "      <td>12000.0</td>\n",
       "      <td>156000.0</td>\n",
       "      <td>No</td>\n",
       "      <td>SDE</td>\n",
       "      <td>2</td>\n",
       "      <td>8.2</td>\n",
       "      <td>['katherine.keith@hotmail.com']</td>\n",
       "      <td>NewBrunswick</td>\n",
       "      <td>Canada</td>\n",
       "    </tr>\n",
       "  </tbody>\n",
       "</table>\n",
       "<p>1000 rows × 14 columns</p>\n",
       "</div>"
      ],
      "text/plain": [
       "       Id               Name  Age  Base Pay  OverTime Pay  Benefits  \\\n",
       "0       1    Marcia Stephens   22    120000       60000.0   15000.0   \n",
       "1       2        Karen Lopez   22    120000       60000.0   15000.0   \n",
       "2       3     Heather Reilly   22     60000       30000.0    7500.0   \n",
       "3       4      Cindy Leblanc   32     70000       35000.0    8750.0   \n",
       "4       5   Colin Richardson   22    120000       60000.0   15000.0   \n",
       "..    ...                ...  ...       ...           ...       ...   \n",
       "995   996    Douglas English   32    110000       55000.0   13750.0   \n",
       "996   997     Michael Berger   27    120000       60000.0   15000.0   \n",
       "997   998  Theodore Robinson   22     96000       48000.0   12000.0   \n",
       "998   999         Cindy Knox   48     80000       40000.0   10000.0   \n",
       "999  1000    Katherine Keith   30     96000       48000.0   12000.0   \n",
       "\n",
       "     Total Pay benefits Loan Department  Duration  Rating  \\\n",
       "0              195000.0   No        SDE         7     8.2   \n",
       "1              195000.0   No      SDE-T         6     9.3   \n",
       "2               97500.0   No        SDE         5     6.6   \n",
       "3              113750.0   No      Admin         1     8.0   \n",
       "4              195000.0  Yes        SDE         3     5.7   \n",
       "..                  ...  ...        ...       ...     ...   \n",
       "995            178750.0   No      SDE-T         5     9.3   \n",
       "996            195000.0   No        SDE         4     9.3   \n",
       "997            156000.0  Yes         Hr         3     9.3   \n",
       "998            130000.0  Yes        SDE         7     6.6   \n",
       "999            156000.0   No        SDE         2     8.2   \n",
       "\n",
       "                                Email         State Country  \n",
       "0      ['marcia.stephens@reddit.com']      colarado     USA  \n",
       "1           ['karen.lopez@gmail.com']         taxes     USA  \n",
       "2      ['heather.reilly@hotmail.com']  NewBrunswick  Canada  \n",
       "3       ['cindy.leblanc@hotmail.com']      colarado     USA  \n",
       "4      ['colin.richardson@yahoo.com']         altai  Russia  \n",
       "..                                ...           ...     ...  \n",
       "995   ['douglas.english@hotmail.com']  NewBrunswick  Canada  \n",
       "996    ['michael.berger@outlook.com']      chechnya  Russia  \n",
       "997  ['theodore.robinson@reddit.com']        adygea  Russia  \n",
       "998        ['cindy.knox@hotmail.com']       Ontario  Canada  \n",
       "999   ['katherine.keith@hotmail.com']  NewBrunswick  Canada  \n",
       "\n",
       "[1000 rows x 14 columns]"
      ]
     },
     "execution_count": 627,
     "metadata": {},
     "output_type": "execute_result"
    }
   ],
   "source": [
    "df"
   ]
  },
  {
   "cell_type": "code",
   "execution_count": 628,
   "id": "bfc28d41",
   "metadata": {},
   "outputs": [
    {
     "data": {
      "text/plain": [
       "31.836"
      ]
     },
     "execution_count": 628,
     "metadata": {},
     "output_type": "execute_result"
    }
   ],
   "source": [
    "#What is the Average age of employees\n",
    "df['Age'].mean()"
   ]
  },
  {
   "cell_type": "code",
   "execution_count": 629,
   "id": "37beaaec",
   "metadata": {},
   "outputs": [
    {
     "data": {
      "text/plain": [
       "30.0"
      ]
     },
     "execution_count": 629,
     "metadata": {},
     "output_type": "execute_result"
    }
   ],
   "source": [
    "#What is the Median Age of the employees in the oranization\n",
    "df['Age'].median()"
   ]
  },
  {
   "cell_type": "code",
   "execution_count": 630,
   "id": "846ab825",
   "metadata": {},
   "outputs": [
    {
     "data": {
      "text/plain": [
       "31.23076923076923"
      ]
     },
     "execution_count": 630,
     "metadata": {},
     "output_type": "execute_result"
    }
   ],
   "source": [
    "#What is the average age of employees working in accounts department\n",
    "df[df['Department']=='Accounts']['Age'].mean()"
   ]
  },
  {
   "cell_type": "code",
   "execution_count": 631,
   "id": "b39c1ccd",
   "metadata": {},
   "outputs": [
    {
     "data": {
      "text/plain": [
       "31.28846153846154"
      ]
     },
     "execution_count": 631,
     "metadata": {},
     "output_type": "execute_result"
    }
   ],
   "source": [
    "#What is the average age of employees working in HR department\n",
    "df[df['Department']=='Hr']['Age'].mean()"
   ]
  },
  {
   "cell_type": "code",
   "execution_count": 632,
   "id": "0ae58ce9",
   "metadata": {},
   "outputs": [
    {
     "name": "stdout",
     "output_type": "stream",
     "text": [
      "55\n",
      "22\n"
     ]
    }
   ],
   "source": [
    "#what is the max and min age of the employees in the organisation\n",
    "print(df['Age'].max())\n",
    "print(df['Age'].min())"
   ]
  },
  {
   "cell_type": "code",
   "execution_count": 633,
   "id": "3dbf2b44",
   "metadata": {},
   "outputs": [
    {
     "data": {
      "text/plain": [
       "32.14393939393939"
      ]
     },
     "execution_count": 633,
     "metadata": {},
     "output_type": "execute_result"
    }
   ],
   "source": [
    "#What is the average age of employees working in SDE department in USA\n",
    "df[df['Department']=='SDE'][df['Country']=='USA']['Age'].mean()"
   ]
  },
  {
   "cell_type": "code",
   "execution_count": 634,
   "id": "77b04caf",
   "metadata": {},
   "outputs": [
    {
     "data": {
      "text/plain": [
       "32.18181818181818"
      ]
     },
     "execution_count": 634,
     "metadata": {},
     "output_type": "execute_result"
    }
   ],
   "source": [
    "#What is the average age of employees working in Admin department in Canada\n",
    "df[df['Department']=='Admin'][df['Country']=='Canada']['Age'].mean()"
   ]
  },
  {
   "cell_type": "code",
   "execution_count": 635,
   "id": "1729c496",
   "metadata": {},
   "outputs": [
    {
     "data": {
      "text/plain": [
       "15           Megan Chambers\n",
       "35              Erik Sutton\n",
       "42           Michael Cooper\n",
       "97             Frank Taylor\n",
       "124         Harold Johnston\n",
       "132           Audrey Barber\n",
       "173          Kayla Franklin\n",
       "186          Crystal Bryant\n",
       "204          Denise Manning\n",
       "213              Mark Hardy\n",
       "239       Dr. Ryan Mitchell\n",
       "290               Dawn Vega\n",
       "320          Benjamin Brown\n",
       "353    Mr. Nathan Underwood\n",
       "387            Nathan Brown\n",
       "419           Jessica Miles\n",
       "457             Jamie Moody\n",
       "466              Megan Rowe\n",
       "468            Ashley Lopez\n",
       "490            Danny Franco\n",
       "527           Larry Shepard\n",
       "561              John Smith\n",
       "678           Aaron Douglas\n",
       "688           Joseph Spears\n",
       "696          Anthony Barnes\n",
       "711           Hannah Forbes\n",
       "715             Lauren York\n",
       "729             Kara Murphy\n",
       "741             Robert Ball\n",
       "759         Charlotte Ramos\n",
       "772             Austin Cook\n",
       "889            Wendy Norton\n",
       "922            Taylor Garza\n",
       "940             Karen White\n",
       "989             Karen Lucas\n",
       "990            Patrick Lane\n",
       "991       Elizabeth Wheeler\n",
       "Name: Name, dtype: object"
      ]
     },
     "execution_count": 635,
     "metadata": {},
     "output_type": "execute_result"
    }
   ],
   "source": [
    "#what is the name of most senior employee with respect to age?\n",
    "df['Name'][df['Age']==(df['Age'].max())]"
   ]
  },
  {
   "cell_type": "code",
   "execution_count": 636,
   "id": "9804d8ee",
   "metadata": {},
   "outputs": [
    {
     "data": {
      "text/plain": [
       "0      Marcia Stephens\n",
       "9          Steven Lynn\n",
       "16        Steven Hicks\n",
       "28       James Wilkins\n",
       "32         Troy Thomas\n",
       "            ...       \n",
       "964     Joseph Johnson\n",
       "973      Rachel Harris\n",
       "975      Melissa Leach\n",
       "989        Karen Lucas\n",
       "998         Cindy Knox\n",
       "Name: Name, Length: 151, dtype: object"
      ]
     },
     "execution_count": 636,
     "metadata": {},
     "output_type": "execute_result"
    }
   ],
   "source": [
    "#what is the name of most senior employee with respect to Working Duration?\n",
    "df['Name'][df['Duration']==(df['Duration'].max())]"
   ]
  },
  {
   "cell_type": "code",
   "execution_count": 637,
   "id": "7e734253",
   "metadata": {},
   "outputs": [
    {
     "data": {
      "text/plain": [
       "808    96000\n",
       "Name: Base Pay, dtype: int64"
      ]
     },
     "execution_count": 637,
     "metadata": {},
     "output_type": "execute_result"
    }
   ],
   "source": [
    "#What is the salary of the employee whose name is Maria Williams\n",
    "df[df['Name']=='Maria Williams']['Base Pay']"
   ]
  },
  {
   "cell_type": "code",
   "execution_count": 638,
   "id": "c9a21867",
   "metadata": {},
   "outputs": [
    {
     "data": {
      "text/plain": [
       "406    120000\n",
       "Name: Base Pay, dtype: int64"
      ]
     },
     "execution_count": 638,
     "metadata": {},
     "output_type": "execute_result"
    }
   ],
   "source": [
    "#What is the salary of the employee whose name is Virginia Hogan and age is 30\n",
    "df[((df['Name']=='Virginia Hogan')|(df['Age']=='30'))]['Base Pay']"
   ]
  },
  {
   "cell_type": "code",
   "execution_count": 639,
   "id": "c2978e1a",
   "metadata": {},
   "outputs": [
    {
     "data": {
      "text/plain": [
       "array(['SDE', 'SDE-T', 'Admin', 'Logistics', 'Hr', 'Accounts'],\n",
       "      dtype=object)"
      ]
     },
     "execution_count": 639,
     "metadata": {},
     "output_type": "execute_result"
    }
   ],
   "source": [
    "#What are the different departments this organisation has?\n",
    "df['Department'].unique()"
   ]
  },
  {
   "cell_type": "code",
   "execution_count": 640,
   "id": "62c2ac5c",
   "metadata": {},
   "outputs": [
    {
     "data": {
      "text/plain": [
       "SDE          497\n",
       "SDE-T        175\n",
       "Logistics    158\n",
       "Accounts      65\n",
       "Admin         53\n",
       "Hr            52\n",
       "Name: Department, dtype: int64"
      ]
     },
     "execution_count": 640,
     "metadata": {},
     "output_type": "execute_result"
    }
   ],
   "source": [
    "#what are total frequency of the employees with respect to each department?\n",
    "df['Department'].value_counts()"
   ]
  },
  {
   "cell_type": "code",
   "execution_count": 641,
   "id": "3dd3fb66",
   "metadata": {},
   "outputs": [
    {
     "data": {
      "text/plain": [
       "Id                    49.7\n",
       "Name                  49.7\n",
       "Age                   49.7\n",
       "Base Pay              49.7\n",
       "OverTime Pay          49.7\n",
       "Benefits              49.7\n",
       "Total Pay benefits    49.7\n",
       "Loan                  49.7\n",
       "Department            49.7\n",
       "Duration              49.7\n",
       "Rating                49.7\n",
       "Email                 49.7\n",
       "State                 49.7\n",
       "Country               49.7\n",
       "dtype: float64"
      ]
     },
     "execution_count": 641,
     "metadata": {},
     "output_type": "execute_result"
    }
   ],
   "source": [
    "#What percentage of employees work in SDE department\n",
    "((df[df['Department']=='SDE'].count())/df.count())*100"
   ]
  },
  {
   "cell_type": "code",
   "execution_count": 642,
   "id": "669fb9e9",
   "metadata": {},
   "outputs": [
    {
     "data": {
      "text/plain": [
       "Department\n",
       "Accounts     7.750769\n",
       "Admin        8.060377\n",
       "Hr           8.150000\n",
       "Logistics    7.955063\n",
       "SDE          7.894769\n",
       "SDE-T        7.652571\n",
       "Name: Rating, dtype: float64"
      ]
     },
     "execution_count": 642,
     "metadata": {},
     "output_type": "execute_result"
    }
   ],
   "source": [
    "#What is the average rating of an employee with respect to each department\n",
    "df.groupby('Department')['Rating'].mean()"
   ]
  },
  {
   "cell_type": "code",
   "execution_count": 643,
   "id": "0a65fdea",
   "metadata": {},
   "outputs": [
    {
     "data": {
      "text/plain": [
       "Country\n",
       "Canada            94016.064257\n",
       "Russia            93330.612245\n",
       "USA               94153.284672\n",
       "United Kingdom    95068.965517\n",
       "Name: Base Pay, dtype: float64"
      ]
     },
     "execution_count": 643,
     "metadata": {},
     "output_type": "execute_result"
    }
   ],
   "source": [
    "#What is the average salary of an employee with respect to each country\n",
    "df.groupby('Country')['Base Pay'].mean()"
   ]
  },
  {
   "cell_type": "code",
   "execution_count": 659,
   "id": "471eed72",
   "metadata": {},
   "outputs": [
    {
     "ename": "TypeError",
     "evalue": "'DataFrame' object is not callable",
     "output_type": "error",
     "traceback": [
      "\u001b[1;31m---------------------------------------------------------------------------\u001b[0m",
      "\u001b[1;31mTypeError\u001b[0m                                 Traceback (most recent call last)",
      "\u001b[1;32m<ipython-input-659-59f97726192a>\u001b[0m in \u001b[0;36m<module>\u001b[1;34m\u001b[0m\n\u001b[0;32m      1\u001b[0m \u001b[1;31m#What is the average salary of SDE profile with respect to each country\u001b[0m\u001b[1;33m\u001b[0m\u001b[1;33m\u001b[0m\u001b[1;33m\u001b[0m\u001b[0m\n\u001b[1;32m----> 2\u001b[1;33m \u001b[0mdf\u001b[0m\u001b[1;33m[\u001b[0m\u001b[0mdf\u001b[0m\u001b[1;33m[\u001b[0m\u001b[1;34m'Department'\u001b[0m\u001b[1;33m]\u001b[0m\u001b[1;33m==\u001b[0m\u001b[1;34m'SDE'\u001b[0m\u001b[1;33m]\u001b[0m\u001b[1;33m(\u001b[0m\u001b[0mdf\u001b[0m\u001b[1;33m.\u001b[0m\u001b[0mgroupby\u001b[0m\u001b[1;33m(\u001b[0m\u001b[1;34m'Country'\u001b[0m\u001b[1;33m)\u001b[0m\u001b[1;33m)\u001b[0m\u001b[1;33m[\u001b[0m\u001b[1;34m'Base Pay'\u001b[0m\u001b[1;33m]\u001b[0m\u001b[1;33m.\u001b[0m\u001b[0mmean\u001b[0m\u001b[1;33m(\u001b[0m\u001b[1;33m)\u001b[0m\u001b[1;33m\u001b[0m\u001b[1;33m\u001b[0m\u001b[0m\n\u001b[0m",
      "\u001b[1;31mTypeError\u001b[0m: 'DataFrame' object is not callable"
     ]
    }
   ],
   "source": [
    "#What is the average salary of SDE profile with respect to each country\n",
    "df[df['Department']=='SDE'](df.groupby('Country'))['Base Pay'].mean()"
   ]
  },
  {
   "cell_type": "code",
   "execution_count": 664,
   "id": "ca7a0ee3",
   "metadata": {},
   "outputs": [
    {
     "data": {
      "text/plain": [
       "93478.5100286533"
      ]
     },
     "execution_count": 664,
     "metadata": {},
     "output_type": "execute_result"
    }
   ],
   "source": [
    "#What is the average salary of the employee who have taken the loan\n",
    "df[df['Loan']=='Yes']['Base Pay'].mean()"
   ]
  },
  {
   "cell_type": "code",
   "execution_count": 680,
   "id": "0f964055",
   "metadata": {},
   "outputs": [
    {
     "data": {
      "text/plain": [
       "outlook.com']    213\n",
       "hotmail.com']    205\n",
       "yahoo.com']      205\n",
       "gmail.com']      198\n",
       "reddit.com']     179\n",
       "Name: Email, dtype: int64"
      ]
     },
     "execution_count": 680,
     "metadata": {},
     "output_type": "execute_result"
    }
   ],
   "source": [
    "#What are the top 5 domain name used in employees email id\n",
    "df['Email'].str.split('@').str[1].value_counts()"
   ]
  },
  {
   "cell_type": "code",
   "execution_count": null,
   "id": "7a28c68a",
   "metadata": {},
   "outputs": [],
   "source": []
  }
 ],
 "metadata": {
  "kernelspec": {
   "display_name": "Python 3",
   "language": "python",
   "name": "python3"
  },
  "language_info": {
   "codemirror_mode": {
    "name": "ipython",
    "version": 3
   },
   "file_extension": ".py",
   "mimetype": "text/x-python",
   "name": "python",
   "nbconvert_exporter": "python",
   "pygments_lexer": "ipython3",
   "version": "3.8.8"
  }
 },
 "nbformat": 4,
 "nbformat_minor": 5
}
