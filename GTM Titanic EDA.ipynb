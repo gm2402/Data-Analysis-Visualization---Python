{
 "cells": [
  {
   "cell_type": "markdown",
   "metadata": {},
   "source": [
    "#### The RMS Titanic sank in the early morning hours of 15 April 1912 in the North Atlantic Oceanfour days into her maiden voyage from Southampton to New York City. The largest ocean liner in service at the time, when she struck an iceberg at around 23:40 (ship's time) on Sunday, 14 April 1912. Her sinking two hours and forty minutes later at 02:20(ship's time; 05:18 GMT) on Monday,15 April,resulted in the deaths of people.making it one of the deadliest peacetime maritime disasters in history."
   ]
  },
  {
   "cell_type": "markdown",
   "metadata": {},
   "source": [
    "### Gautam Mishra - Titanic EDA"
   ]
  },
  {
   "cell_type": "code",
   "execution_count": 2,
   "metadata": {},
   "outputs": [],
   "source": [
    "import pandas as pd\n",
    "import numpy as np\n",
    "import matplotlib.pyplot as plt\n",
    "import seaborn as sns\n",
    "import warnings\n",
    "warnings.filterwarnings('ignore')\n",
    "%matplotlib inline"
   ]
  },
  {
   "cell_type": "markdown",
   "metadata": {},
   "source": [
    "Numpy-Numerical Python that Deals with numbers.\n",
    "\n",
    "Pandas-Used to analyse data.It has functions for analyzing,cleaning,exploring and manipulating Data.\n",
    "\n",
    "Matplotlib-comprehensive library for creating static, animated, and interactive visualizations.\n",
    "\n",
    "Seaborn-Seaborn is a Python data visualization library based on matplotlib. It provides a high-level\n",
    "interface for drawing attractive and informative statistical graphics.\n",
    "\n",
    "Warnings are provided to warn the developer of situations that aren’t necessarily exceptions\n",
    "and ignore them."
   ]
  },
  {
   "cell_type": "code",
   "execution_count": 3,
   "metadata": {},
   "outputs": [],
   "source": [
    "df=pd.read_csv('titanic.csv')"
   ]
  },
  {
   "cell_type": "markdown",
   "metadata": {},
   "source": [
    "By read_csv() function we are reading the dataset present in 'Titanic.csv' file."
   ]
  },
  {
   "cell_type": "code",
   "execution_count": 4,
   "metadata": {},
   "outputs": [
    {
     "data": {
      "text/html": [
       "<div>\n",
       "<style scoped>\n",
       "    .dataframe tbody tr th:only-of-type {\n",
       "        vertical-align: middle;\n",
       "    }\n",
       "\n",
       "    .dataframe tbody tr th {\n",
       "        vertical-align: top;\n",
       "    }\n",
       "\n",
       "    .dataframe thead th {\n",
       "        text-align: right;\n",
       "    }\n",
       "</style>\n",
       "<table border=\"1\" class=\"dataframe\">\n",
       "  <thead>\n",
       "    <tr style=\"text-align: right;\">\n",
       "      <th></th>\n",
       "      <th>PassengerId</th>\n",
       "      <th>Survived</th>\n",
       "      <th>Pclass</th>\n",
       "      <th>Name</th>\n",
       "      <th>Sex</th>\n",
       "      <th>Age</th>\n",
       "      <th>SibSp</th>\n",
       "      <th>Parch</th>\n",
       "      <th>Ticket</th>\n",
       "      <th>Fare</th>\n",
       "      <th>Cabin</th>\n",
       "      <th>Embarked</th>\n",
       "    </tr>\n",
       "  </thead>\n",
       "  <tbody>\n",
       "    <tr>\n",
       "      <td>0</td>\n",
       "      <td>1</td>\n",
       "      <td>0</td>\n",
       "      <td>3</td>\n",
       "      <td>Braund, Mr. Owen Harris</td>\n",
       "      <td>male</td>\n",
       "      <td>22.0</td>\n",
       "      <td>1</td>\n",
       "      <td>0</td>\n",
       "      <td>A/5 21171</td>\n",
       "      <td>7.2500</td>\n",
       "      <td>NaN</td>\n",
       "      <td>S</td>\n",
       "    </tr>\n",
       "    <tr>\n",
       "      <td>1</td>\n",
       "      <td>2</td>\n",
       "      <td>1</td>\n",
       "      <td>1</td>\n",
       "      <td>Cumings, Mrs. John Bradley (Florence Briggs Th...</td>\n",
       "      <td>female</td>\n",
       "      <td>38.0</td>\n",
       "      <td>1</td>\n",
       "      <td>0</td>\n",
       "      <td>PC 17599</td>\n",
       "      <td>71.2833</td>\n",
       "      <td>C85</td>\n",
       "      <td>C</td>\n",
       "    </tr>\n",
       "    <tr>\n",
       "      <td>2</td>\n",
       "      <td>3</td>\n",
       "      <td>1</td>\n",
       "      <td>3</td>\n",
       "      <td>Heikkinen, Miss. Laina</td>\n",
       "      <td>female</td>\n",
       "      <td>26.0</td>\n",
       "      <td>0</td>\n",
       "      <td>0</td>\n",
       "      <td>STON/O2. 3101282</td>\n",
       "      <td>7.9250</td>\n",
       "      <td>NaN</td>\n",
       "      <td>S</td>\n",
       "    </tr>\n",
       "    <tr>\n",
       "      <td>3</td>\n",
       "      <td>4</td>\n",
       "      <td>1</td>\n",
       "      <td>1</td>\n",
       "      <td>Futrelle, Mrs. Jacques Heath (Lily May Peel)</td>\n",
       "      <td>female</td>\n",
       "      <td>35.0</td>\n",
       "      <td>1</td>\n",
       "      <td>0</td>\n",
       "      <td>113803</td>\n",
       "      <td>53.1000</td>\n",
       "      <td>C123</td>\n",
       "      <td>S</td>\n",
       "    </tr>\n",
       "    <tr>\n",
       "      <td>4</td>\n",
       "      <td>5</td>\n",
       "      <td>0</td>\n",
       "      <td>3</td>\n",
       "      <td>Allen, Mr. William Henry</td>\n",
       "      <td>male</td>\n",
       "      <td>35.0</td>\n",
       "      <td>0</td>\n",
       "      <td>0</td>\n",
       "      <td>373450</td>\n",
       "      <td>8.0500</td>\n",
       "      <td>NaN</td>\n",
       "      <td>S</td>\n",
       "    </tr>\n",
       "    <tr>\n",
       "      <td>...</td>\n",
       "      <td>...</td>\n",
       "      <td>...</td>\n",
       "      <td>...</td>\n",
       "      <td>...</td>\n",
       "      <td>...</td>\n",
       "      <td>...</td>\n",
       "      <td>...</td>\n",
       "      <td>...</td>\n",
       "      <td>...</td>\n",
       "      <td>...</td>\n",
       "      <td>...</td>\n",
       "      <td>...</td>\n",
       "    </tr>\n",
       "    <tr>\n",
       "      <td>886</td>\n",
       "      <td>887</td>\n",
       "      <td>0</td>\n",
       "      <td>2</td>\n",
       "      <td>Montvila, Rev. Juozas</td>\n",
       "      <td>male</td>\n",
       "      <td>27.0</td>\n",
       "      <td>0</td>\n",
       "      <td>0</td>\n",
       "      <td>211536</td>\n",
       "      <td>13.0000</td>\n",
       "      <td>NaN</td>\n",
       "      <td>S</td>\n",
       "    </tr>\n",
       "    <tr>\n",
       "      <td>887</td>\n",
       "      <td>888</td>\n",
       "      <td>1</td>\n",
       "      <td>1</td>\n",
       "      <td>Graham, Miss. Margaret Edith</td>\n",
       "      <td>female</td>\n",
       "      <td>19.0</td>\n",
       "      <td>0</td>\n",
       "      <td>0</td>\n",
       "      <td>112053</td>\n",
       "      <td>30.0000</td>\n",
       "      <td>B42</td>\n",
       "      <td>S</td>\n",
       "    </tr>\n",
       "    <tr>\n",
       "      <td>888</td>\n",
       "      <td>889</td>\n",
       "      <td>0</td>\n",
       "      <td>3</td>\n",
       "      <td>Johnston, Miss. Catherine Helen \"Carrie\"</td>\n",
       "      <td>female</td>\n",
       "      <td>NaN</td>\n",
       "      <td>1</td>\n",
       "      <td>2</td>\n",
       "      <td>W./C. 6607</td>\n",
       "      <td>23.4500</td>\n",
       "      <td>NaN</td>\n",
       "      <td>S</td>\n",
       "    </tr>\n",
       "    <tr>\n",
       "      <td>889</td>\n",
       "      <td>890</td>\n",
       "      <td>1</td>\n",
       "      <td>1</td>\n",
       "      <td>Behr, Mr. Karl Howell</td>\n",
       "      <td>male</td>\n",
       "      <td>26.0</td>\n",
       "      <td>0</td>\n",
       "      <td>0</td>\n",
       "      <td>111369</td>\n",
       "      <td>30.0000</td>\n",
       "      <td>C148</td>\n",
       "      <td>C</td>\n",
       "    </tr>\n",
       "    <tr>\n",
       "      <td>890</td>\n",
       "      <td>891</td>\n",
       "      <td>0</td>\n",
       "      <td>3</td>\n",
       "      <td>Dooley, Mr. Patrick</td>\n",
       "      <td>male</td>\n",
       "      <td>32.0</td>\n",
       "      <td>0</td>\n",
       "      <td>0</td>\n",
       "      <td>370376</td>\n",
       "      <td>7.7500</td>\n",
       "      <td>NaN</td>\n",
       "      <td>Q</td>\n",
       "    </tr>\n",
       "  </tbody>\n",
       "</table>\n",
       "<p>891 rows × 12 columns</p>\n",
       "</div>"
      ],
      "text/plain": [
       "     PassengerId  Survived  Pclass  \\\n",
       "0              1         0       3   \n",
       "1              2         1       1   \n",
       "2              3         1       3   \n",
       "3              4         1       1   \n",
       "4              5         0       3   \n",
       "..           ...       ...     ...   \n",
       "886          887         0       2   \n",
       "887          888         1       1   \n",
       "888          889         0       3   \n",
       "889          890         1       1   \n",
       "890          891         0       3   \n",
       "\n",
       "                                                  Name     Sex   Age  SibSp  \\\n",
       "0                              Braund, Mr. Owen Harris    male  22.0      1   \n",
       "1    Cumings, Mrs. John Bradley (Florence Briggs Th...  female  38.0      1   \n",
       "2                               Heikkinen, Miss. Laina  female  26.0      0   \n",
       "3         Futrelle, Mrs. Jacques Heath (Lily May Peel)  female  35.0      1   \n",
       "4                             Allen, Mr. William Henry    male  35.0      0   \n",
       "..                                                 ...     ...   ...    ...   \n",
       "886                              Montvila, Rev. Juozas    male  27.0      0   \n",
       "887                       Graham, Miss. Margaret Edith  female  19.0      0   \n",
       "888           Johnston, Miss. Catherine Helen \"Carrie\"  female   NaN      1   \n",
       "889                              Behr, Mr. Karl Howell    male  26.0      0   \n",
       "890                                Dooley, Mr. Patrick    male  32.0      0   \n",
       "\n",
       "     Parch            Ticket     Fare Cabin Embarked  \n",
       "0        0         A/5 21171   7.2500   NaN        S  \n",
       "1        0          PC 17599  71.2833   C85        C  \n",
       "2        0  STON/O2. 3101282   7.9250   NaN        S  \n",
       "3        0            113803  53.1000  C123        S  \n",
       "4        0            373450   8.0500   NaN        S  \n",
       "..     ...               ...      ...   ...      ...  \n",
       "886      0            211536  13.0000   NaN        S  \n",
       "887      0            112053  30.0000   B42        S  \n",
       "888      2        W./C. 6607  23.4500   NaN        S  \n",
       "889      0            111369  30.0000  C148        C  \n",
       "890      0            370376   7.7500   NaN        Q  \n",
       "\n",
       "[891 rows x 12 columns]"
      ]
     },
     "execution_count": 4,
     "metadata": {},
     "output_type": "execute_result"
    }
   ],
   "source": [
    "df"
   ]
  },
  {
   "cell_type": "markdown",
   "metadata": {},
   "source": [
    "This Titanic.csv dataset contains the information of people travelling from the ship RMS-Titanic.with 891 rows and 12 columns."
   ]
  },
  {
   "cell_type": "code",
   "execution_count": 5,
   "metadata": {},
   "outputs": [
    {
     "name": "stdout",
     "output_type": "stream",
     "text": [
      "<class 'pandas.core.frame.DataFrame'>\n",
      "RangeIndex: 891 entries, 0 to 890\n",
      "Data columns (total 12 columns):\n",
      "PassengerId    891 non-null int64\n",
      "Survived       891 non-null int64\n",
      "Pclass         891 non-null int64\n",
      "Name           891 non-null object\n",
      "Sex            891 non-null object\n",
      "Age            714 non-null float64\n",
      "SibSp          891 non-null int64\n",
      "Parch          891 non-null int64\n",
      "Ticket         891 non-null object\n",
      "Fare           891 non-null float64\n",
      "Cabin          204 non-null object\n",
      "Embarked       889 non-null object\n",
      "dtypes: float64(2), int64(5), object(5)\n",
      "memory usage: 83.7+ KB\n"
     ]
    }
   ],
   "source": [
    "df.info()"
   ]
  },
  {
   "cell_type": "markdown",
   "metadata": {},
   "source": [
    " This dataset consists 891 rows and 12 columns out of which there are 7 numerical columns and 5 object columns."
   ]
  },
  {
   "cell_type": "code",
   "execution_count": 6,
   "metadata": {},
   "outputs": [
    {
     "data": {
      "text/plain": [
       "PassengerId     0.000000\n",
       "Survived        0.000000\n",
       "Pclass          0.000000\n",
       "Name            0.000000\n",
       "Sex             0.000000\n",
       "Age            19.865320\n",
       "SibSp           0.000000\n",
       "Parch           0.000000\n",
       "Ticket          0.000000\n",
       "Fare            0.000000\n",
       "Cabin          77.104377\n",
       "Embarked        0.224467\n",
       "dtype: float64"
      ]
     },
     "execution_count": 6,
     "metadata": {},
     "output_type": "execute_result"
    }
   ],
   "source": [
    "df.isna().sum()/len(df)*100"
   ]
  },
  {
   "cell_type": "markdown",
   "metadata": {},
   "source": [
    "With the help of isna().sum() function we get the null count of all columns.\n",
    "And by calculating the null value's percentage we get The column 'Cabin' consist null value upto 77% \n",
    "and 'Age' column consists null values upto 19% and 'Embarked' column consist upto 0.22%."
   ]
  },
  {
   "cell_type": "code",
   "execution_count": 7,
   "metadata": {},
   "outputs": [],
   "source": [
    "df.drop('Cabin',axis=1,inplace=True)"
   ]
  },
  {
   "cell_type": "code",
   "execution_count": 8,
   "metadata": {},
   "outputs": [
    {
     "data": {
      "text/html": [
       "<div>\n",
       "<style scoped>\n",
       "    .dataframe tbody tr th:only-of-type {\n",
       "        vertical-align: middle;\n",
       "    }\n",
       "\n",
       "    .dataframe tbody tr th {\n",
       "        vertical-align: top;\n",
       "    }\n",
       "\n",
       "    .dataframe thead th {\n",
       "        text-align: right;\n",
       "    }\n",
       "</style>\n",
       "<table border=\"1\" class=\"dataframe\">\n",
       "  <thead>\n",
       "    <tr style=\"text-align: right;\">\n",
       "      <th></th>\n",
       "      <th>PassengerId</th>\n",
       "      <th>Survived</th>\n",
       "      <th>Pclass</th>\n",
       "      <th>Name</th>\n",
       "      <th>Sex</th>\n",
       "      <th>Age</th>\n",
       "      <th>SibSp</th>\n",
       "      <th>Parch</th>\n",
       "      <th>Ticket</th>\n",
       "      <th>Fare</th>\n",
       "      <th>Embarked</th>\n",
       "    </tr>\n",
       "  </thead>\n",
       "  <tbody>\n",
       "    <tr>\n",
       "      <td>0</td>\n",
       "      <td>1</td>\n",
       "      <td>0</td>\n",
       "      <td>3</td>\n",
       "      <td>Braund, Mr. Owen Harris</td>\n",
       "      <td>male</td>\n",
       "      <td>22.0</td>\n",
       "      <td>1</td>\n",
       "      <td>0</td>\n",
       "      <td>A/5 21171</td>\n",
       "      <td>7.2500</td>\n",
       "      <td>S</td>\n",
       "    </tr>\n",
       "    <tr>\n",
       "      <td>1</td>\n",
       "      <td>2</td>\n",
       "      <td>1</td>\n",
       "      <td>1</td>\n",
       "      <td>Cumings, Mrs. John Bradley (Florence Briggs Th...</td>\n",
       "      <td>female</td>\n",
       "      <td>38.0</td>\n",
       "      <td>1</td>\n",
       "      <td>0</td>\n",
       "      <td>PC 17599</td>\n",
       "      <td>71.2833</td>\n",
       "      <td>C</td>\n",
       "    </tr>\n",
       "    <tr>\n",
       "      <td>2</td>\n",
       "      <td>3</td>\n",
       "      <td>1</td>\n",
       "      <td>3</td>\n",
       "      <td>Heikkinen, Miss. Laina</td>\n",
       "      <td>female</td>\n",
       "      <td>26.0</td>\n",
       "      <td>0</td>\n",
       "      <td>0</td>\n",
       "      <td>STON/O2. 3101282</td>\n",
       "      <td>7.9250</td>\n",
       "      <td>S</td>\n",
       "    </tr>\n",
       "    <tr>\n",
       "      <td>3</td>\n",
       "      <td>4</td>\n",
       "      <td>1</td>\n",
       "      <td>1</td>\n",
       "      <td>Futrelle, Mrs. Jacques Heath (Lily May Peel)</td>\n",
       "      <td>female</td>\n",
       "      <td>35.0</td>\n",
       "      <td>1</td>\n",
       "      <td>0</td>\n",
       "      <td>113803</td>\n",
       "      <td>53.1000</td>\n",
       "      <td>S</td>\n",
       "    </tr>\n",
       "    <tr>\n",
       "      <td>4</td>\n",
       "      <td>5</td>\n",
       "      <td>0</td>\n",
       "      <td>3</td>\n",
       "      <td>Allen, Mr. William Henry</td>\n",
       "      <td>male</td>\n",
       "      <td>35.0</td>\n",
       "      <td>0</td>\n",
       "      <td>0</td>\n",
       "      <td>373450</td>\n",
       "      <td>8.0500</td>\n",
       "      <td>S</td>\n",
       "    </tr>\n",
       "    <tr>\n",
       "      <td>...</td>\n",
       "      <td>...</td>\n",
       "      <td>...</td>\n",
       "      <td>...</td>\n",
       "      <td>...</td>\n",
       "      <td>...</td>\n",
       "      <td>...</td>\n",
       "      <td>...</td>\n",
       "      <td>...</td>\n",
       "      <td>...</td>\n",
       "      <td>...</td>\n",
       "      <td>...</td>\n",
       "    </tr>\n",
       "    <tr>\n",
       "      <td>886</td>\n",
       "      <td>887</td>\n",
       "      <td>0</td>\n",
       "      <td>2</td>\n",
       "      <td>Montvila, Rev. Juozas</td>\n",
       "      <td>male</td>\n",
       "      <td>27.0</td>\n",
       "      <td>0</td>\n",
       "      <td>0</td>\n",
       "      <td>211536</td>\n",
       "      <td>13.0000</td>\n",
       "      <td>S</td>\n",
       "    </tr>\n",
       "    <tr>\n",
       "      <td>887</td>\n",
       "      <td>888</td>\n",
       "      <td>1</td>\n",
       "      <td>1</td>\n",
       "      <td>Graham, Miss. Margaret Edith</td>\n",
       "      <td>female</td>\n",
       "      <td>19.0</td>\n",
       "      <td>0</td>\n",
       "      <td>0</td>\n",
       "      <td>112053</td>\n",
       "      <td>30.0000</td>\n",
       "      <td>S</td>\n",
       "    </tr>\n",
       "    <tr>\n",
       "      <td>888</td>\n",
       "      <td>889</td>\n",
       "      <td>0</td>\n",
       "      <td>3</td>\n",
       "      <td>Johnston, Miss. Catherine Helen \"Carrie\"</td>\n",
       "      <td>female</td>\n",
       "      <td>NaN</td>\n",
       "      <td>1</td>\n",
       "      <td>2</td>\n",
       "      <td>W./C. 6607</td>\n",
       "      <td>23.4500</td>\n",
       "      <td>S</td>\n",
       "    </tr>\n",
       "    <tr>\n",
       "      <td>889</td>\n",
       "      <td>890</td>\n",
       "      <td>1</td>\n",
       "      <td>1</td>\n",
       "      <td>Behr, Mr. Karl Howell</td>\n",
       "      <td>male</td>\n",
       "      <td>26.0</td>\n",
       "      <td>0</td>\n",
       "      <td>0</td>\n",
       "      <td>111369</td>\n",
       "      <td>30.0000</td>\n",
       "      <td>C</td>\n",
       "    </tr>\n",
       "    <tr>\n",
       "      <td>890</td>\n",
       "      <td>891</td>\n",
       "      <td>0</td>\n",
       "      <td>3</td>\n",
       "      <td>Dooley, Mr. Patrick</td>\n",
       "      <td>male</td>\n",
       "      <td>32.0</td>\n",
       "      <td>0</td>\n",
       "      <td>0</td>\n",
       "      <td>370376</td>\n",
       "      <td>7.7500</td>\n",
       "      <td>Q</td>\n",
       "    </tr>\n",
       "  </tbody>\n",
       "</table>\n",
       "<p>891 rows × 11 columns</p>\n",
       "</div>"
      ],
      "text/plain": [
       "     PassengerId  Survived  Pclass  \\\n",
       "0              1         0       3   \n",
       "1              2         1       1   \n",
       "2              3         1       3   \n",
       "3              4         1       1   \n",
       "4              5         0       3   \n",
       "..           ...       ...     ...   \n",
       "886          887         0       2   \n",
       "887          888         1       1   \n",
       "888          889         0       3   \n",
       "889          890         1       1   \n",
       "890          891         0       3   \n",
       "\n",
       "                                                  Name     Sex   Age  SibSp  \\\n",
       "0                              Braund, Mr. Owen Harris    male  22.0      1   \n",
       "1    Cumings, Mrs. John Bradley (Florence Briggs Th...  female  38.0      1   \n",
       "2                               Heikkinen, Miss. Laina  female  26.0      0   \n",
       "3         Futrelle, Mrs. Jacques Heath (Lily May Peel)  female  35.0      1   \n",
       "4                             Allen, Mr. William Henry    male  35.0      0   \n",
       "..                                                 ...     ...   ...    ...   \n",
       "886                              Montvila, Rev. Juozas    male  27.0      0   \n",
       "887                       Graham, Miss. Margaret Edith  female  19.0      0   \n",
       "888           Johnston, Miss. Catherine Helen \"Carrie\"  female   NaN      1   \n",
       "889                              Behr, Mr. Karl Howell    male  26.0      0   \n",
       "890                                Dooley, Mr. Patrick    male  32.0      0   \n",
       "\n",
       "     Parch            Ticket     Fare Embarked  \n",
       "0        0         A/5 21171   7.2500        S  \n",
       "1        0          PC 17599  71.2833        C  \n",
       "2        0  STON/O2. 3101282   7.9250        S  \n",
       "3        0            113803  53.1000        S  \n",
       "4        0            373450   8.0500        S  \n",
       "..     ...               ...      ...      ...  \n",
       "886      0            211536  13.0000        S  \n",
       "887      0            112053  30.0000        S  \n",
       "888      2        W./C. 6607  23.4500        S  \n",
       "889      0            111369  30.0000        C  \n",
       "890      0            370376   7.7500        Q  \n",
       "\n",
       "[891 rows x 11 columns]"
      ]
     },
     "execution_count": 8,
     "metadata": {},
     "output_type": "execute_result"
    }
   ],
   "source": [
    "df"
   ]
  },
  {
   "cell_type": "markdown",
   "metadata": {},
   "source": [
    "As the missing data is more than 40% we can drop that column so we drop the column 'Cabin' present in df."
   ]
  },
  {
   "cell_type": "code",
   "execution_count": 9,
   "metadata": {},
   "outputs": [
    {
     "data": {
      "text/plain": [
       "array([22.  , 38.  , 26.  , 35.  ,   nan, 54.  ,  2.  , 27.  , 14.  ,\n",
       "        4.  , 58.  , 20.  , 39.  , 55.  , 31.  , 34.  , 15.  , 28.  ,\n",
       "        8.  , 19.  , 40.  , 66.  , 42.  , 21.  , 18.  ,  3.  ,  7.  ,\n",
       "       49.  , 29.  , 65.  , 28.5 ,  5.  , 11.  , 45.  , 17.  , 32.  ,\n",
       "       16.  , 25.  ,  0.83, 30.  , 33.  , 23.  , 24.  , 46.  , 59.  ,\n",
       "       71.  , 37.  , 47.  , 14.5 , 70.5 , 32.5 , 12.  ,  9.  , 36.5 ,\n",
       "       51.  , 55.5 , 40.5 , 44.  ,  1.  , 61.  , 56.  , 50.  , 36.  ,\n",
       "       45.5 , 20.5 , 62.  , 41.  , 52.  , 63.  , 23.5 ,  0.92, 43.  ,\n",
       "       60.  , 10.  , 64.  , 13.  , 48.  ,  0.75, 53.  , 57.  , 80.  ,\n",
       "       70.  , 24.5 ,  6.  ,  0.67, 30.5 ,  0.42, 34.5 , 74.  ])"
      ]
     },
     "execution_count": 9,
     "metadata": {},
     "output_type": "execute_result"
    }
   ],
   "source": [
    "df['Age'].unique()"
   ]
  },
  {
   "cell_type": "markdown",
   "metadata": {},
   "source": [
    "The column 'Age' consist null values so we can fill that null value by mean age of passengers travelling on Titanic Ship."
   ]
  },
  {
   "cell_type": "code",
   "execution_count": 10,
   "metadata": {},
   "outputs": [
    {
     "data": {
      "text/plain": [
       "29.69911764705882"
      ]
     },
     "execution_count": 10,
     "metadata": {},
     "output_type": "execute_result"
    }
   ],
   "source": [
    "df['Age'].mean()"
   ]
  },
  {
   "cell_type": "code",
   "execution_count": 11,
   "metadata": {},
   "outputs": [],
   "source": [
    "df['Age']=df['Age'].fillna(df['Age'].mean())"
   ]
  },
  {
   "cell_type": "markdown",
   "metadata": {},
   "source": [
    "We,have filled the missing value of Age column by mean value."
   ]
  },
  {
   "cell_type": "code",
   "execution_count": 12,
   "metadata": {},
   "outputs": [
    {
     "data": {
      "text/plain": [
       "PassengerId    0.000000\n",
       "Survived       0.000000\n",
       "Pclass         0.000000\n",
       "Name           0.000000\n",
       "Sex            0.000000\n",
       "Age            0.000000\n",
       "SibSp          0.000000\n",
       "Parch          0.000000\n",
       "Ticket         0.000000\n",
       "Fare           0.000000\n",
       "Embarked       0.224467\n",
       "dtype: float64"
      ]
     },
     "execution_count": 12,
     "metadata": {},
     "output_type": "execute_result"
    }
   ],
   "source": [
    "df.isna().sum()/len(df)*100"
   ]
  },
  {
   "cell_type": "markdown",
   "metadata": {},
   "source": [
    "The 'Embarked' column consist of null value of 0.2% so we can drop that row containing null value"
   ]
  },
  {
   "cell_type": "code",
   "execution_count": 13,
   "metadata": {},
   "outputs": [],
   "source": [
    "df.dropna(inplace=True)"
   ]
  },
  {
   "cell_type": "code",
   "execution_count": 14,
   "metadata": {},
   "outputs": [
    {
     "data": {
      "text/plain": [
       "PassengerId    0.0\n",
       "Survived       0.0\n",
       "Pclass         0.0\n",
       "Name           0.0\n",
       "Sex            0.0\n",
       "Age            0.0\n",
       "SibSp          0.0\n",
       "Parch          0.0\n",
       "Ticket         0.0\n",
       "Fare           0.0\n",
       "Embarked       0.0\n",
       "dtype: float64"
      ]
     },
     "execution_count": 14,
     "metadata": {},
     "output_type": "execute_result"
    }
   ],
   "source": [
    "df.isna().sum()/len(df)*100"
   ]
  },
  {
   "cell_type": "markdown",
   "metadata": {},
   "source": [
    "Now,our data does not contain any null values."
   ]
  },
  {
   "cell_type": "code",
   "execution_count": 15,
   "metadata": {},
   "outputs": [],
   "source": [
    "df.drop('PassengerId',axis=1,inplace=True)"
   ]
  },
  {
   "cell_type": "markdown",
   "metadata": {},
   "source": [
    "The Column 'PassengerId' consist of Index number so we can drop that column as we our own Index"
   ]
  },
  {
   "cell_type": "code",
   "execution_count": 16,
   "metadata": {},
   "outputs": [],
   "source": [
    "df.reset_index(inplace=True,drop=True)"
   ]
  },
  {
   "cell_type": "code",
   "execution_count": 17,
   "metadata": {},
   "outputs": [
    {
     "data": {
      "text/html": [
       "<div>\n",
       "<style scoped>\n",
       "    .dataframe tbody tr th:only-of-type {\n",
       "        vertical-align: middle;\n",
       "    }\n",
       "\n",
       "    .dataframe tbody tr th {\n",
       "        vertical-align: top;\n",
       "    }\n",
       "\n",
       "    .dataframe thead th {\n",
       "        text-align: right;\n",
       "    }\n",
       "</style>\n",
       "<table border=\"1\" class=\"dataframe\">\n",
       "  <thead>\n",
       "    <tr style=\"text-align: right;\">\n",
       "      <th></th>\n",
       "      <th>Survived</th>\n",
       "      <th>Pclass</th>\n",
       "      <th>Name</th>\n",
       "      <th>Sex</th>\n",
       "      <th>Age</th>\n",
       "      <th>SibSp</th>\n",
       "      <th>Parch</th>\n",
       "      <th>Ticket</th>\n",
       "      <th>Fare</th>\n",
       "      <th>Embarked</th>\n",
       "    </tr>\n",
       "  </thead>\n",
       "  <tbody>\n",
       "    <tr>\n",
       "      <td>0</td>\n",
       "      <td>0</td>\n",
       "      <td>3</td>\n",
       "      <td>Braund, Mr. Owen Harris</td>\n",
       "      <td>male</td>\n",
       "      <td>22.000000</td>\n",
       "      <td>1</td>\n",
       "      <td>0</td>\n",
       "      <td>A/5 21171</td>\n",
       "      <td>7.2500</td>\n",
       "      <td>S</td>\n",
       "    </tr>\n",
       "    <tr>\n",
       "      <td>1</td>\n",
       "      <td>1</td>\n",
       "      <td>1</td>\n",
       "      <td>Cumings, Mrs. John Bradley (Florence Briggs Th...</td>\n",
       "      <td>female</td>\n",
       "      <td>38.000000</td>\n",
       "      <td>1</td>\n",
       "      <td>0</td>\n",
       "      <td>PC 17599</td>\n",
       "      <td>71.2833</td>\n",
       "      <td>C</td>\n",
       "    </tr>\n",
       "    <tr>\n",
       "      <td>2</td>\n",
       "      <td>1</td>\n",
       "      <td>3</td>\n",
       "      <td>Heikkinen, Miss. Laina</td>\n",
       "      <td>female</td>\n",
       "      <td>26.000000</td>\n",
       "      <td>0</td>\n",
       "      <td>0</td>\n",
       "      <td>STON/O2. 3101282</td>\n",
       "      <td>7.9250</td>\n",
       "      <td>S</td>\n",
       "    </tr>\n",
       "    <tr>\n",
       "      <td>3</td>\n",
       "      <td>1</td>\n",
       "      <td>1</td>\n",
       "      <td>Futrelle, Mrs. Jacques Heath (Lily May Peel)</td>\n",
       "      <td>female</td>\n",
       "      <td>35.000000</td>\n",
       "      <td>1</td>\n",
       "      <td>0</td>\n",
       "      <td>113803</td>\n",
       "      <td>53.1000</td>\n",
       "      <td>S</td>\n",
       "    </tr>\n",
       "    <tr>\n",
       "      <td>4</td>\n",
       "      <td>0</td>\n",
       "      <td>3</td>\n",
       "      <td>Allen, Mr. William Henry</td>\n",
       "      <td>male</td>\n",
       "      <td>35.000000</td>\n",
       "      <td>0</td>\n",
       "      <td>0</td>\n",
       "      <td>373450</td>\n",
       "      <td>8.0500</td>\n",
       "      <td>S</td>\n",
       "    </tr>\n",
       "    <tr>\n",
       "      <td>...</td>\n",
       "      <td>...</td>\n",
       "      <td>...</td>\n",
       "      <td>...</td>\n",
       "      <td>...</td>\n",
       "      <td>...</td>\n",
       "      <td>...</td>\n",
       "      <td>...</td>\n",
       "      <td>...</td>\n",
       "      <td>...</td>\n",
       "      <td>...</td>\n",
       "    </tr>\n",
       "    <tr>\n",
       "      <td>884</td>\n",
       "      <td>0</td>\n",
       "      <td>2</td>\n",
       "      <td>Montvila, Rev. Juozas</td>\n",
       "      <td>male</td>\n",
       "      <td>27.000000</td>\n",
       "      <td>0</td>\n",
       "      <td>0</td>\n",
       "      <td>211536</td>\n",
       "      <td>13.0000</td>\n",
       "      <td>S</td>\n",
       "    </tr>\n",
       "    <tr>\n",
       "      <td>885</td>\n",
       "      <td>1</td>\n",
       "      <td>1</td>\n",
       "      <td>Graham, Miss. Margaret Edith</td>\n",
       "      <td>female</td>\n",
       "      <td>19.000000</td>\n",
       "      <td>0</td>\n",
       "      <td>0</td>\n",
       "      <td>112053</td>\n",
       "      <td>30.0000</td>\n",
       "      <td>S</td>\n",
       "    </tr>\n",
       "    <tr>\n",
       "      <td>886</td>\n",
       "      <td>0</td>\n",
       "      <td>3</td>\n",
       "      <td>Johnston, Miss. Catherine Helen \"Carrie\"</td>\n",
       "      <td>female</td>\n",
       "      <td>29.699118</td>\n",
       "      <td>1</td>\n",
       "      <td>2</td>\n",
       "      <td>W./C. 6607</td>\n",
       "      <td>23.4500</td>\n",
       "      <td>S</td>\n",
       "    </tr>\n",
       "    <tr>\n",
       "      <td>887</td>\n",
       "      <td>1</td>\n",
       "      <td>1</td>\n",
       "      <td>Behr, Mr. Karl Howell</td>\n",
       "      <td>male</td>\n",
       "      <td>26.000000</td>\n",
       "      <td>0</td>\n",
       "      <td>0</td>\n",
       "      <td>111369</td>\n",
       "      <td>30.0000</td>\n",
       "      <td>C</td>\n",
       "    </tr>\n",
       "    <tr>\n",
       "      <td>888</td>\n",
       "      <td>0</td>\n",
       "      <td>3</td>\n",
       "      <td>Dooley, Mr. Patrick</td>\n",
       "      <td>male</td>\n",
       "      <td>32.000000</td>\n",
       "      <td>0</td>\n",
       "      <td>0</td>\n",
       "      <td>370376</td>\n",
       "      <td>7.7500</td>\n",
       "      <td>Q</td>\n",
       "    </tr>\n",
       "  </tbody>\n",
       "</table>\n",
       "<p>889 rows × 10 columns</p>\n",
       "</div>"
      ],
      "text/plain": [
       "     Survived  Pclass                                               Name  \\\n",
       "0           0       3                            Braund, Mr. Owen Harris   \n",
       "1           1       1  Cumings, Mrs. John Bradley (Florence Briggs Th...   \n",
       "2           1       3                             Heikkinen, Miss. Laina   \n",
       "3           1       1       Futrelle, Mrs. Jacques Heath (Lily May Peel)   \n",
       "4           0       3                           Allen, Mr. William Henry   \n",
       "..        ...     ...                                                ...   \n",
       "884         0       2                              Montvila, Rev. Juozas   \n",
       "885         1       1                       Graham, Miss. Margaret Edith   \n",
       "886         0       3           Johnston, Miss. Catherine Helen \"Carrie\"   \n",
       "887         1       1                              Behr, Mr. Karl Howell   \n",
       "888         0       3                                Dooley, Mr. Patrick   \n",
       "\n",
       "        Sex        Age  SibSp  Parch            Ticket     Fare Embarked  \n",
       "0      male  22.000000      1      0         A/5 21171   7.2500        S  \n",
       "1    female  38.000000      1      0          PC 17599  71.2833        C  \n",
       "2    female  26.000000      0      0  STON/O2. 3101282   7.9250        S  \n",
       "3    female  35.000000      1      0            113803  53.1000        S  \n",
       "4      male  35.000000      0      0            373450   8.0500        S  \n",
       "..      ...        ...    ...    ...               ...      ...      ...  \n",
       "884    male  27.000000      0      0            211536  13.0000        S  \n",
       "885  female  19.000000      0      0            112053  30.0000        S  \n",
       "886  female  29.699118      1      2        W./C. 6607  23.4500        S  \n",
       "887    male  26.000000      0      0            111369  30.0000        C  \n",
       "888    male  32.000000      0      0            370376   7.7500        Q  \n",
       "\n",
       "[889 rows x 10 columns]"
      ]
     },
     "execution_count": 17,
     "metadata": {},
     "output_type": "execute_result"
    }
   ],
   "source": [
    "df"
   ]
  },
  {
   "cell_type": "code",
   "execution_count": 18,
   "metadata": {},
   "outputs": [
    {
     "data": {
      "text/plain": [
       "(889, 10)"
      ]
     },
     "execution_count": 18,
     "metadata": {},
     "output_type": "execute_result"
    }
   ],
   "source": [
    "df.shape"
   ]
  },
  {
   "cell_type": "markdown",
   "metadata": {},
   "source": [
    "The dataframe now consist of 889 rows and 10 columns."
   ]
  },
  {
   "cell_type": "code",
   "execution_count": 19,
   "metadata": {},
   "outputs": [
    {
     "name": "stdout",
     "output_type": "stream",
     "text": [
      "[0 1]\n",
      "[3 1 2]\n",
      "['Braund, Mr. Owen Harris'\n",
      " 'Cumings, Mrs. John Bradley (Florence Briggs Thayer)'\n",
      " 'Heikkinen, Miss. Laina' 'Futrelle, Mrs. Jacques Heath (Lily May Peel)'\n",
      " 'Allen, Mr. William Henry' 'Moran, Mr. James' 'McCarthy, Mr. Timothy J'\n",
      " 'Palsson, Master. Gosta Leonard'\n",
      " 'Johnson, Mrs. Oscar W (Elisabeth Vilhelmina Berg)'\n",
      " 'Nasser, Mrs. Nicholas (Adele Achem)' 'Sandstrom, Miss. Marguerite Rut'\n",
      " 'Bonnell, Miss. Elizabeth' 'Saundercock, Mr. William Henry'\n",
      " 'Andersson, Mr. Anders Johan' 'Vestrom, Miss. Hulda Amanda Adolfina'\n",
      " 'Hewlett, Mrs. (Mary D Kingcome) ' 'Rice, Master. Eugene'\n",
      " 'Williams, Mr. Charles Eugene'\n",
      " 'Vander Planke, Mrs. Julius (Emelia Maria Vandemoortele)'\n",
      " 'Masselmani, Mrs. Fatima' 'Fynney, Mr. Joseph J' 'Beesley, Mr. Lawrence'\n",
      " 'McGowan, Miss. Anna \"Annie\"' 'Sloper, Mr. William Thompson'\n",
      " 'Palsson, Miss. Torborg Danira'\n",
      " 'Asplund, Mrs. Carl Oscar (Selma Augusta Emilia Johansson)'\n",
      " 'Emir, Mr. Farred Chehab' 'Fortune, Mr. Charles Alexander'\n",
      " 'O\\'Dwyer, Miss. Ellen \"Nellie\"' 'Todoroff, Mr. Lalio'\n",
      " 'Uruchurtu, Don. Manuel E'\n",
      " 'Spencer, Mrs. William Augustus (Marie Eugenie)'\n",
      " 'Glynn, Miss. Mary Agatha' 'Wheadon, Mr. Edward H'\n",
      " 'Meyer, Mr. Edgar Joseph' 'Holverson, Mr. Alexander Oskar'\n",
      " 'Mamee, Mr. Hanna' 'Cann, Mr. Ernest Charles'\n",
      " 'Vander Planke, Miss. Augusta Maria' 'Nicola-Yarred, Miss. Jamila'\n",
      " 'Ahlin, Mrs. Johan (Johanna Persdotter Larsson)'\n",
      " 'Turpin, Mrs. William John Robert (Dorothy Ann Wonnacott)'\n",
      " 'Kraeff, Mr. Theodor' 'Laroche, Miss. Simonne Marie Anne Andree'\n",
      " 'Devaney, Miss. Margaret Delia' 'Rogers, Mr. William John'\n",
      " 'Lennon, Mr. Denis' \"O'Driscoll, Miss. Bridget\" 'Samaan, Mr. Youssef'\n",
      " 'Arnold-Franchi, Mrs. Josef (Josefine Franchi)'\n",
      " 'Panula, Master. Juha Niilo' 'Nosworthy, Mr. Richard Cater'\n",
      " 'Harper, Mrs. Henry Sleeper (Myna Haxtun)'\n",
      " 'Faunthorpe, Mrs. Lizzie (Elizabeth Anne Wilkinson)'\n",
      " 'Ostby, Mr. Engelhart Cornelius' 'Woolner, Mr. Hugh' 'Rugg, Miss. Emily'\n",
      " 'Novel, Mr. Mansouer' 'West, Miss. Constance Mirium'\n",
      " 'Goodwin, Master. William Frederick' 'Sirayanian, Mr. Orsen'\n",
      " 'Harris, Mr. Henry Birkhardt' 'Skoog, Master. Harald'\n",
      " 'Stewart, Mr. Albert A' 'Moubarek, Master. Gerios'\n",
      " 'Nye, Mrs. (Elizabeth Ramell)' 'Crease, Mr. Ernest James'\n",
      " 'Andersson, Miss. Erna Alexandra' 'Kink, Mr. Vincenz'\n",
      " 'Jenkin, Mr. Stephen Curnow' 'Goodwin, Miss. Lillian Amy'\n",
      " 'Hood, Mr. Ambrose Jr' 'Chronopoulos, Mr. Apostolos' 'Bing, Mr. Lee'\n",
      " 'Moen, Mr. Sigurd Hansen' 'Staneff, Mr. Ivan' 'Moutal, Mr. Rahamin Haim'\n",
      " 'Caldwell, Master. Alden Gates' 'Dowdell, Miss. Elizabeth'\n",
      " 'Waelens, Mr. Achille' 'Sheerlinck, Mr. Jan Baptist'\n",
      " 'McDermott, Miss. Brigdet Delia' 'Carrau, Mr. Francisco M'\n",
      " 'Ilett, Miss. Bertha'\n",
      " 'Backstrom, Mrs. Karl Alfred (Maria Mathilda Gustafsson)'\n",
      " 'Ford, Mr. William Neal' 'Slocovski, Mr. Selman Francis'\n",
      " 'Fortune, Miss. Mabel Helen' 'Celotti, Mr. Francesco'\n",
      " 'Christmann, Mr. Emil' 'Andreasson, Mr. Paul Edvin'\n",
      " 'Chaffee, Mr. Herbert Fuller' 'Dean, Mr. Bertram Frank'\n",
      " 'Coxon, Mr. Daniel' 'Shorney, Mr. Charles Joseph'\n",
      " 'Goldschmidt, Mr. George B' 'Greenfield, Mr. William Bertram'\n",
      " 'Doling, Mrs. John T (Ada Julia Bone)' 'Kantor, Mr. Sinai'\n",
      " 'Petranec, Miss. Matilda' 'Petroff, Mr. Pastcho (\"Pentcho\")'\n",
      " 'White, Mr. Richard Frasar' 'Johansson, Mr. Gustaf Joel'\n",
      " 'Gustafsson, Mr. Anders Vilhelm' 'Mionoff, Mr. Stoytcho'\n",
      " 'Salkjelsvik, Miss. Anna Kristine' 'Moss, Mr. Albert Johan'\n",
      " 'Rekic, Mr. Tido' 'Moran, Miss. Bertha' 'Porter, Mr. Walter Chamberlain'\n",
      " 'Zabour, Miss. Hileni' 'Barton, Mr. David John' 'Jussila, Miss. Katriina'\n",
      " 'Attalah, Miss. Malake' 'Pekoniemi, Mr. Edvard' 'Connors, Mr. Patrick'\n",
      " 'Turpin, Mr. William John Robert' 'Baxter, Mr. Quigg Edmond'\n",
      " 'Andersson, Miss. Ellis Anna Maria' 'Hickman, Mr. Stanley George'\n",
      " 'Moore, Mr. Leonard Charles' 'Nasser, Mr. Nicholas' 'Webber, Miss. Susan'\n",
      " 'White, Mr. Percival Wayland' 'Nicola-Yarred, Master. Elias'\n",
      " 'McMahon, Mr. Martin' 'Madsen, Mr. Fridtjof Arne' 'Peter, Miss. Anna'\n",
      " 'Ekstrom, Mr. Johan' 'Drazenoic, Mr. Jozef'\n",
      " 'Coelho, Mr. Domingos Fernandeo'\n",
      " 'Robins, Mrs. Alexander A (Grace Charity Laury)'\n",
      " 'Weisz, Mrs. Leopold (Mathilde Francoise Pede)'\n",
      " 'Sobey, Mr. Samuel James Hayden' 'Richard, Mr. Emile'\n",
      " 'Newsom, Miss. Helen Monypeny' 'Futrelle, Mr. Jacques Heath'\n",
      " 'Osen, Mr. Olaf Elon' 'Giglio, Mr. Victor'\n",
      " 'Boulos, Mrs. Joseph (Sultana)' 'Nysten, Miss. Anna Sofia'\n",
      " 'Hakkarainen, Mrs. Pekka Pietari (Elin Matilda Dolck)'\n",
      " 'Burke, Mr. Jeremiah' 'Andrew, Mr. Edgardo Samuel'\n",
      " 'Nicholls, Mr. Joseph Charles'\n",
      " 'Andersson, Mr. August Edvard (\"Wennerstrom\")'\n",
      " 'Ford, Miss. Robina Maggie \"Ruby\"'\n",
      " 'Navratil, Mr. Michel (\"Louis M Hoffman\")'\n",
      " 'Byles, Rev. Thomas Roussel Davids' 'Bateman, Rev. Robert James'\n",
      " 'Pears, Mrs. Thomas (Edith Wearne)' 'Meo, Mr. Alfonzo'\n",
      " 'van Billiard, Mr. Austin Blyler' 'Olsen, Mr. Ole Martin'\n",
      " 'Williams, Mr. Charles Duane' 'Gilnagh, Miss. Katherine \"Katie\"'\n",
      " 'Corn, Mr. Harry' 'Smiljanic, Mr. Mile' 'Sage, Master. Thomas Henry'\n",
      " 'Cribb, Mr. John Hatfield'\n",
      " 'Watt, Mrs. James (Elizabeth \"Bessie\" Inglis Milne)'\n",
      " 'Bengtsson, Mr. John Viktor' 'Calic, Mr. Jovo'\n",
      " 'Panula, Master. Eino Viljami'\n",
      " 'Goldsmith, Master. Frank John William \"Frankie\"'\n",
      " 'Chibnall, Mrs. (Edith Martha Bowerman)'\n",
      " 'Skoog, Mrs. William (Anna Bernhardina Karlsson)' 'Baumann, Mr. John D'\n",
      " 'Ling, Mr. Lee' 'Van der hoef, Mr. Wyckoff' 'Rice, Master. Arthur'\n",
      " 'Johnson, Miss. Eleanor Ileen' 'Sivola, Mr. Antti Wilhelm'\n",
      " 'Smith, Mr. James Clinch' 'Klasen, Mr. Klas Albin'\n",
      " 'Lefebre, Master. Henry Forbes' 'Isham, Miss. Ann Elizabeth'\n",
      " 'Hale, Mr. Reginald' 'Leonard, Mr. Lionel' 'Sage, Miss. Constance Gladys'\n",
      " 'Pernot, Mr. Rene' 'Asplund, Master. Clarence Gustaf Hugo'\n",
      " 'Becker, Master. Richard F' 'Kink-Heilmann, Miss. Luise Gretchen'\n",
      " 'Rood, Mr. Hugh Roscoe'\n",
      " 'O\\'Brien, Mrs. Thomas (Johanna \"Hannah\" Godfrey)'\n",
      " 'Romaine, Mr. Charles Hallace (\"Mr C Rolmane\")' 'Bourke, Mr. John'\n",
      " 'Turcin, Mr. Stjepan' 'Pinsky, Mrs. (Rosa)' 'Carbines, Mr. William'\n",
      " 'Andersen-Jensen, Miss. Carla Christine Nielsine'\n",
      " 'Navratil, Master. Michel M' 'Brown, Mrs. James Joseph (Margaret Tobin)'\n",
      " 'Lurette, Miss. Elise' 'Mernagh, Mr. Robert'\n",
      " 'Olsen, Mr. Karl Siegwart Andreas' 'Madigan, Miss. Margaret \"Maggie\"'\n",
      " 'Yrois, Miss. Henriette (\"Mrs Harbeck\")' 'Vande Walle, Mr. Nestor Cyriel'\n",
      " 'Sage, Mr. Frederick' 'Johanson, Mr. Jakob Alfred' 'Youseff, Mr. Gerious'\n",
      " 'Cohen, Mr. Gurshon \"Gus\"' 'Strom, Miss. Telma Matilda'\n",
      " 'Backstrom, Mr. Karl Alfred' 'Albimona, Mr. Nassef Cassem'\n",
      " 'Carr, Miss. Helen \"Ellen\"' 'Blank, Mr. Henry' 'Ali, Mr. Ahmed'\n",
      " 'Cameron, Miss. Clear Annie' 'Perkin, Mr. John Henry'\n",
      " 'Givard, Mr. Hans Kristensen' 'Kiernan, Mr. Philip'\n",
      " 'Newell, Miss. Madeleine' 'Honkanen, Miss. Eliina'\n",
      " 'Jacobsohn, Mr. Sidney Samuel' 'Bazzani, Miss. Albina'\n",
      " 'Harris, Mr. Walter' 'Sunderland, Mr. Victor Francis'\n",
      " 'Bracken, Mr. James H' 'Green, Mr. George Henry' 'Nenkoff, Mr. Christo'\n",
      " 'Hoyt, Mr. Frederick Maxfield' 'Berglund, Mr. Karl Ivar Sven'\n",
      " 'Mellors, Mr. William John' 'Lovell, Mr. John Hall (\"Henry\")'\n",
      " 'Fahlstrom, Mr. Arne Jonas' 'Lefebre, Miss. Mathilde'\n",
      " 'Harris, Mrs. Henry Birkhardt (Irene Wallach)' 'Larsson, Mr. Bengt Edvin'\n",
      " 'Sjostedt, Mr. Ernst Adolf' 'Asplund, Miss. Lillian Gertrud'\n",
      " 'Leyson, Mr. Robert William Norman' 'Harknett, Miss. Alice Phoebe'\n",
      " 'Hold, Mr. Stephen' 'Collyer, Miss. Marjorie \"Lottie\"'\n",
      " 'Pengelly, Mr. Frederick William' 'Hunt, Mr. George Henry'\n",
      " 'Zabour, Miss. Thamine' 'Murphy, Miss. Katherine \"Kate\"'\n",
      " 'Coleridge, Mr. Reginald Charles' 'Maenpaa, Mr. Matti Alexanteri'\n",
      " 'Attalah, Mr. Sleiman' 'Minahan, Dr. William Edward'\n",
      " 'Lindahl, Miss. Agda Thorilda Viktoria' 'Hamalainen, Mrs. William (Anna)'\n",
      " 'Beckwith, Mr. Richard Leonard' 'Carter, Rev. Ernest Courtenay'\n",
      " 'Reed, Mr. James George' 'Strom, Mrs. Wilhelm (Elna Matilda Persson)'\n",
      " 'Stead, Mr. William Thomas' 'Lobb, Mr. William Arthur'\n",
      " 'Rosblom, Mrs. Viktor (Helena Wilhelmina)'\n",
      " 'Touma, Mrs. Darwis (Hanne Youssef Razi)'\n",
      " 'Thorne, Mrs. Gertrude Maybelle' 'Cherry, Miss. Gladys'\n",
      " 'Ward, Miss. Anna' 'Parrish, Mrs. (Lutie Davis)' 'Smith, Mr. Thomas'\n",
      " 'Asplund, Master. Edvin Rojj Felix' 'Taussig, Mr. Emil'\n",
      " 'Harrison, Mr. William' 'Henry, Miss. Delia' 'Reeves, Mr. David'\n",
      " 'Panula, Mr. Ernesti Arvid' 'Persson, Mr. Ernst Ulrik'\n",
      " 'Graham, Mrs. William Thompson (Edith Junkins)' 'Bissette, Miss. Amelia'\n",
      " 'Cairns, Mr. Alexander' 'Tornquist, Mr. William Henry'\n",
      " 'Mellinger, Mrs. (Elizabeth Anne Maidment)' 'Natsch, Mr. Charles H'\n",
      " 'Healy, Miss. Hanora \"Nora\"' 'Andrews, Miss. Kornelia Theodosia'\n",
      " 'Lindblom, Miss. Augusta Charlotta' 'Parkes, Mr. Francis \"Frank\"'\n",
      " 'Rice, Master. Eric' 'Abbott, Mrs. Stanton (Rosa Hunt)'\n",
      " 'Duane, Mr. Frank' 'Olsson, Mr. Nils Johan Goransson'\n",
      " 'de Pelsmaeker, Mr. Alfons' 'Dorking, Mr. Edward Arthur'\n",
      " 'Smith, Mr. Richard William' 'Stankovic, Mr. Ivan'\n",
      " 'de Mulder, Mr. Theodore' 'Naidenoff, Mr. Penko' 'Hosono, Mr. Masabumi'\n",
      " 'Connolly, Miss. Kate' 'Barber, Miss. Ellen \"Nellie\"'\n",
      " 'Bishop, Mrs. Dickinson H (Helen Walton)' 'Levy, Mr. Rene Jacques'\n",
      " 'Haas, Miss. Aloisia' 'Mineff, Mr. Ivan' 'Lewy, Mr. Ervin G'\n",
      " 'Hanna, Mr. Mansour' 'Allison, Miss. Helen Loraine'\n",
      " 'Saalfeld, Mr. Adolphe' 'Baxter, Mrs. James (Helene DeLaudeniere Chaput)'\n",
      " 'Kelly, Miss. Anna Katherine \"Annie Kate\"' 'McCoy, Mr. Bernard'\n",
      " 'Johnson, Mr. William Cahoone Jr' 'Keane, Miss. Nora A'\n",
      " 'Williams, Mr. Howard Hugh \"Harry\"' 'Allison, Master. Hudson Trevor'\n",
      " 'Fleming, Miss. Margaret'\n",
      " 'Penasco y Castellana, Mrs. Victor de Satode (Maria Josefa Perez de Soto y Vallejo)'\n",
      " 'Abelson, Mr. Samuel' 'Francatelli, Miss. Laura Mabel'\n",
      " 'Hays, Miss. Margaret Bechstein' 'Ryerson, Miss. Emily Borie'\n",
      " 'Lahtinen, Mrs. William (Anna Sylfven)' 'Hendekovic, Mr. Ignjac'\n",
      " 'Hart, Mr. Benjamin' 'Nilsson, Miss. Helmina Josefina'\n",
      " 'Kantor, Mrs. Sinai (Miriam Sternin)' 'Moraweck, Dr. Ernest'\n",
      " 'Wick, Miss. Mary Natalie'\n",
      " 'Spedden, Mrs. Frederic Oakley (Margaretta Corning Stone)'\n",
      " 'Dennis, Mr. Samuel' 'Danoff, Mr. Yoto' 'Slayter, Miss. Hilda Mary'\n",
      " 'Caldwell, Mrs. Albert Francis (Sylvia Mae Harbaugh)'\n",
      " 'Sage, Mr. George John Jr' 'Young, Miss. Marie Grice'\n",
      " 'Nysveen, Mr. Johan Hansen' 'Ball, Mrs. (Ada E Hall)'\n",
      " 'Goldsmith, Mrs. Frank John (Emily Alice Brown)'\n",
      " 'Hippach, Miss. Jean Gertrude' 'McCoy, Miss. Agnes' 'Partner, Mr. Austen'\n",
      " 'Graham, Mr. George Edward' 'Vander Planke, Mr. Leo Edmondus'\n",
      " 'Frauenthal, Mrs. Henry William (Clara Heinsheimer)' 'Denkoff, Mr. Mitto'\n",
      " 'Pears, Mr. Thomas Clinton' 'Burns, Miss. Elizabeth Margaret'\n",
      " 'Dahl, Mr. Karl Edwart' 'Blackwell, Mr. Stephen Weart'\n",
      " 'Navratil, Master. Edmond Roger' 'Fortune, Miss. Alice Elizabeth'\n",
      " 'Collander, Mr. Erik Gustaf' 'Sedgwick, Mr. Charles Frederick Waddington'\n",
      " 'Fox, Mr. Stanley Hubert' 'Brown, Miss. Amelia \"Mildred\"'\n",
      " 'Smith, Miss. Marion Elsie' 'Davison, Mrs. Thomas Henry (Mary E Finck)'\n",
      " 'Coutts, Master. William Loch \"William\"' 'Dimic, Mr. Jovan'\n",
      " 'Odahl, Mr. Nils Martin' 'Williams-Lambert, Mr. Fletcher Fellows'\n",
      " 'Elias, Mr. Tannous' 'Arnold-Franchi, Mr. Josef' 'Yousif, Mr. Wazli'\n",
      " 'Vanden Steen, Mr. Leo Peter' 'Bowerman, Miss. Elsie Edith'\n",
      " 'Funk, Miss. Annie Clemmer' 'McGovern, Miss. Mary'\n",
      " 'Mockler, Miss. Helen Mary \"Ellie\"' 'Skoog, Mr. Wilhelm'\n",
      " 'del Carlo, Mr. Sebastiano' 'Barbara, Mrs. (Catherine David)'\n",
      " 'Asim, Mr. Adola' \"O'Brien, Mr. Thomas\" 'Adahl, Mr. Mauritz Nils Martin'\n",
      " 'Warren, Mrs. Frank Manley (Anna Sophia Atkinson)'\n",
      " 'Moussa, Mrs. (Mantoura Boulos)' 'Jermyn, Miss. Annie'\n",
      " 'Aubart, Mme. Leontine Pauline' 'Harder, Mr. George Achilles'\n",
      " 'Wiklund, Mr. Jakob Alfred' 'Beavan, Mr. William Thomas'\n",
      " 'Ringhini, Mr. Sante' 'Palsson, Miss. Stina Viola'\n",
      " 'Meyer, Mrs. Edgar Joseph (Leila Saks)' 'Landergren, Miss. Aurora Adelia'\n",
      " 'Widener, Mr. Harry Elkins' 'Betros, Mr. Tannous'\n",
      " 'Gustafsson, Mr. Karl Gideon' 'Bidois, Miss. Rosalie'\n",
      " 'Nakid, Miss. Maria (\"Mary\")' 'Tikkanen, Mr. Juho'\n",
      " 'Holverson, Mrs. Alexander Oskar (Mary Aline Towner)'\n",
      " 'Plotcharsky, Mr. Vasil' 'Davies, Mr. Charles Henry'\n",
      " 'Goodwin, Master. Sidney Leonard' 'Buss, Miss. Kate'\n",
      " 'Sadlier, Mr. Matthew' 'Lehmann, Miss. Bertha'\n",
      " 'Carter, Mr. William Ernest' 'Jansson, Mr. Carl Olof'\n",
      " 'Gustafsson, Mr. Johan Birger' 'Newell, Miss. Marjorie'\n",
      " 'Sandstrom, Mrs. Hjalmar (Agnes Charlotta Bengtsson)'\n",
      " 'Johansson, Mr. Erik' 'Olsson, Miss. Elina' 'McKane, Mr. Peter David'\n",
      " 'Pain, Dr. Alfred' 'Trout, Mrs. William H (Jessie L)'\n",
      " 'Niskanen, Mr. Juha' 'Adams, Mr. John' 'Jussila, Miss. Mari Aina'\n",
      " 'Hakkarainen, Mr. Pekka Pietari' 'Oreskovic, Miss. Marija'\n",
      " 'Gale, Mr. Shadrach' 'Widegren, Mr. Carl/Charles Peter'\n",
      " 'Richards, Master. William Rowe' 'Birkeland, Mr. Hans Martin Monsen'\n",
      " 'Lefebre, Miss. Ida' 'Sdycoff, Mr. Todor' 'Hart, Mr. Henry'\n",
      " 'Minahan, Miss. Daisy E' 'Cunningham, Mr. Alfred Fleming'\n",
      " 'Sundman, Mr. Johan Julian' 'Meek, Mrs. Thomas (Annie Louise Rowley)'\n",
      " 'Drew, Mrs. James Vivian (Lulu Thorne Christian)'\n",
      " 'Silven, Miss. Lyyli Karoliina' 'Matthews, Mr. William John'\n",
      " 'Van Impe, Miss. Catharina' 'Gheorgheff, Mr. Stanio'\n",
      " 'Charters, Mr. David' 'Zimmerman, Mr. Leo'\n",
      " 'Danbom, Mrs. Ernst Gilbert (Anna Sigrid Maria Brogren)'\n",
      " 'Rosblom, Mr. Viktor Richard' 'Wiseman, Mr. Phillippe'\n",
      " 'Clarke, Mrs. Charles V (Ada Maria Winfield)'\n",
      " 'Phillips, Miss. Kate Florence (\"Mrs Kate Louise Phillips Marshall\")'\n",
      " 'Flynn, Mr. James' 'Pickard, Mr. Berk (Berk Trembisky)'\n",
      " 'Bjornstrom-Steffansson, Mr. Mauritz Hakan'\n",
      " 'Thorneycroft, Mrs. Percival (Florence Kate White)'\n",
      " 'Louch, Mrs. Charles Alexander (Alice Adelaide Slow)'\n",
      " 'Kallio, Mr. Nikolai Erland' 'Silvey, Mr. William Baird'\n",
      " 'Carter, Miss. Lucile Polk' 'Ford, Miss. Doolina Margaret \"Daisy\"'\n",
      " 'Richards, Mrs. Sidney (Emily Hocking)' 'Fortune, Mr. Mark'\n",
      " 'Kvillner, Mr. Johan Henrik Johannesson'\n",
      " 'Hart, Mrs. Benjamin (Esther Ada Bloomfield)' 'Hampe, Mr. Leon'\n",
      " 'Petterson, Mr. Johan Emil' 'Reynaldo, Ms. Encarnacion'\n",
      " 'Johannesen-Bratthammer, Mr. Bernt' 'Dodge, Master. Washington'\n",
      " 'Mellinger, Miss. Madeleine Violet' 'Seward, Mr. Frederic Kimber'\n",
      " 'Baclini, Miss. Marie Catherine' 'Peuchen, Major. Arthur Godfrey'\n",
      " 'West, Mr. Edwy Arthur' 'Hagland, Mr. Ingvald Olai Olsen'\n",
      " 'Foreman, Mr. Benjamin Laventall' 'Goldenberg, Mr. Samuel L'\n",
      " 'Peduzzi, Mr. Joseph' 'Jalsevac, Mr. Ivan' 'Millet, Mr. Francis Davis'\n",
      " 'Kenyon, Mrs. Frederick R (Marion)' 'Toomey, Miss. Ellen'\n",
      " \"O'Connor, Mr. Maurice\" 'Anderson, Mr. Harry' 'Morley, Mr. William'\n",
      " 'Gee, Mr. Arthur H' 'Milling, Mr. Jacob Christian' 'Maisner, Mr. Simon'\n",
      " 'Goncalves, Mr. Manuel Estanslas' 'Campbell, Mr. William'\n",
      " 'Smart, Mr. John Montgomery' 'Scanlan, Mr. James'\n",
      " 'Baclini, Miss. Helene Barbara' 'Keefe, Mr. Arthur' 'Cacic, Mr. Luka'\n",
      " 'West, Mrs. Edwy Arthur (Ada Mary Worth)'\n",
      " 'Jerwan, Mrs. Amin S (Marie Marthe Thuillard)'\n",
      " 'Strandberg, Miss. Ida Sofia' 'Clifford, Mr. George Quincy'\n",
      " 'Renouf, Mr. Peter Henry' 'Braund, Mr. Lewis Richard'\n",
      " 'Karlsson, Mr. Nils August' 'Hirvonen, Miss. Hildur E'\n",
      " 'Goodwin, Master. Harold Victor' 'Frost, Mr. Anthony Wood \"Archie\"'\n",
      " 'Rouse, Mr. Richard Henry' 'Turkula, Mrs. (Hedwig)'\n",
      " 'Bishop, Mr. Dickinson H' 'Lefebre, Miss. Jeannie'\n",
      " 'Hoyt, Mrs. Frederick Maxfield (Jane Anne Forby)'\n",
      " 'Kent, Mr. Edward Austin' 'Somerton, Mr. Francis William'\n",
      " 'Coutts, Master. Eden Leslie \"Neville\"'\n",
      " 'Hagland, Mr. Konrad Mathias Reiersen' 'Windelov, Mr. Einar'\n",
      " 'Molson, Mr. Harry Markland' 'Artagaveytia, Mr. Ramon'\n",
      " 'Stanley, Mr. Edward Roland' 'Yousseff, Mr. Gerious'\n",
      " 'Eustis, Miss. Elizabeth Mussey' 'Shellard, Mr. Frederick William'\n",
      " 'Allison, Mrs. Hudson J C (Bessie Waldo Daniels)' 'Svensson, Mr. Olof'\n",
      " 'Calic, Mr. Petar' 'Canavan, Miss. Mary' \"O'Sullivan, Miss. Bridget Mary\"\n",
      " 'Laitinen, Miss. Kristina Sofia' 'Maioni, Miss. Roberta'\n",
      " 'Penasco y Castellana, Mr. Victor de Satode'\n",
      " 'Quick, Mrs. Frederick Charles (Jane Richards)'\n",
      " 'Bradley, Mr. George (\"George Arthur Brayton\")'\n",
      " 'Olsen, Mr. Henry Margido' 'Lang, Mr. Fang' 'Daly, Mr. Eugene Patrick'\n",
      " 'Webber, Mr. James' 'McGough, Mr. James Robert'\n",
      " 'Rothschild, Mrs. Martin (Elizabeth L. Barrett)' 'Coleff, Mr. Satio'\n",
      " 'Walker, Mr. William Anderson' 'Lemore, Mrs. (Amelia Milley)'\n",
      " 'Ryan, Mr. Patrick'\n",
      " 'Angle, Mrs. William A (Florence \"Mary\" Agnes Hughes)'\n",
      " 'Pavlovic, Mr. Stefo' 'Perreault, Miss. Anne' 'Vovk, Mr. Janko'\n",
      " 'Lahoud, Mr. Sarkis' 'Hippach, Mrs. Louis Albert (Ida Sophia Fischer)'\n",
      " 'Kassem, Mr. Fared' 'Farrell, Mr. James' 'Ridsdale, Miss. Lucy'\n",
      " 'Farthing, Mr. John' 'Salonen, Mr. Johan Werner'\n",
      " 'Hocking, Mr. Richard George' 'Quick, Miss. Phyllis May'\n",
      " 'Toufik, Mr. Nakli' 'Elias, Mr. Joseph Jr'\n",
      " 'Peter, Mrs. Catherine (Catherine Rizk)' 'Cacic, Miss. Marija'\n",
      " 'Hart, Miss. Eva Miriam' 'Butt, Major. Archibald Willingham'\n",
      " 'LeRoy, Miss. Bertha' 'Risien, Mr. Samuel Beard'\n",
      " 'Frolicher, Miss. Hedwig Margaritha' 'Crosby, Miss. Harriet R'\n",
      " 'Andersson, Miss. Ingeborg Constanzia'\n",
      " 'Andersson, Miss. Sigrid Elisabeth' 'Beane, Mr. Edward'\n",
      " 'Douglas, Mr. Walter Donald' 'Nicholson, Mr. Arthur Ernest'\n",
      " 'Beane, Mrs. Edward (Ethel Clarke)' 'Padro y Manent, Mr. Julian'\n",
      " 'Goldsmith, Mr. Frank John' 'Davies, Master. John Morgan Jr'\n",
      " 'Thayer, Mr. John Borland Jr' 'Sharp, Mr. Percival James R'\n",
      " \"O'Brien, Mr. Timothy\" 'Leeni, Mr. Fahim (\"Philip Zenni\")'\n",
      " 'Ohman, Miss. Velin' 'Wright, Mr. George'\n",
      " 'Duff Gordon, Lady. (Lucille Christiana Sutherland) (\"Mrs Morgan\")'\n",
      " 'Robbins, Mr. Victor' 'Taussig, Mrs. Emil (Tillie Mandelbaum)'\n",
      " 'de Messemaeker, Mrs. Guillaume Joseph (Emma)' 'Morrow, Mr. Thomas Rowan'\n",
      " 'Sivic, Mr. Husein' 'Norman, Mr. Robert Douglas' 'Simmons, Mr. John'\n",
      " 'Meanwell, Miss. (Marion Ogden)' 'Davies, Mr. Alfred J'\n",
      " 'Stoytcheff, Mr. Ilia' 'Palsson, Mrs. Nils (Alma Cornelia Berglund)'\n",
      " 'Doharr, Mr. Tannous' 'Jonsson, Mr. Carl' 'Harris, Mr. George'\n",
      " 'Appleton, Mrs. Edward Dale (Charlotte Lamson)'\n",
      " 'Flynn, Mr. John Irwin (\"Irving\")' 'Kelly, Miss. Mary'\n",
      " 'Rush, Mr. Alfred George John' 'Patchett, Mr. George'\n",
      " 'Garside, Miss. Ethel' 'Silvey, Mrs. William Baird (Alice Munger)'\n",
      " 'Caram, Mrs. Joseph (Maria Elias)' 'Jussila, Mr. Eiriik'\n",
      " 'Christy, Miss. Julie Rachel'\n",
      " 'Thayer, Mrs. John Borland (Marian Longstreth Morris)'\n",
      " 'Downton, Mr. William James' 'Ross, Mr. John Hugo' 'Paulner, Mr. Uscher'\n",
      " 'Taussig, Miss. Ruth' 'Jarvis, Mr. John Denzil'\n",
      " 'Frolicher-Stehli, Mr. Maxmillian' 'Gilinski, Mr. Eliezer'\n",
      " 'Murdlin, Mr. Joseph' 'Rintamaki, Mr. Matti'\n",
      " 'Stephenson, Mrs. Walter Bertram (Martha Eustis)'\n",
      " 'Elsbury, Mr. William James' 'Bourke, Miss. Mary'\n",
      " 'Chapman, Mr. John Henry' 'Van Impe, Mr. Jean Baptiste'\n",
      " 'Leitch, Miss. Jessie Wills' 'Johnson, Mr. Alfred' 'Boulos, Mr. Hanna'\n",
      " 'Duff Gordon, Sir. Cosmo Edmund (\"Mr Morgan\")'\n",
      " 'Jacobsohn, Mrs. Sidney Samuel (Amy Frances Christy)'\n",
      " 'Slabenoff, Mr. Petco' 'Harrington, Mr. Charles H'\n",
      " 'Torber, Mr. Ernst William' 'Homer, Mr. Harry (\"Mr E Haven\")'\n",
      " 'Lindell, Mr. Edvard Bengtsson' 'Karaic, Mr. Milan'\n",
      " 'Daniel, Mr. Robert Williams'\n",
      " 'Laroche, Mrs. Joseph (Juliette Marie Louise Lafargue)'\n",
      " 'Shutes, Miss. Elizabeth W'\n",
      " 'Andersson, Mrs. Anders Johan (Alfrida Konstantia Brogren)'\n",
      " 'Jardin, Mr. Jose Neto' 'Murphy, Miss. Margaret Jane' 'Horgan, Mr. John'\n",
      " 'Brocklebank, Mr. William Alfred' 'Herman, Miss. Alice'\n",
      " 'Danbom, Mr. Ernst Gilbert'\n",
      " 'Lobb, Mrs. William Arthur (Cordelia K Stanlick)'\n",
      " 'Becker, Miss. Marion Louise' 'Gavey, Mr. Lawrence' 'Yasbeck, Mr. Antoni'\n",
      " 'Kimball, Mr. Edwin Nelson Jr' 'Nakid, Mr. Sahid'\n",
      " 'Hansen, Mr. Henry Damsgaard' 'Bowen, Mr. David John \"Dai\"'\n",
      " 'Sutton, Mr. Frederick' 'Kirkland, Rev. Charles Leonard'\n",
      " 'Longley, Miss. Gretchen Fiske' 'Bostandyeff, Mr. Guentcho'\n",
      " \"O'Connell, Mr. Patrick D\" 'Barkworth, Mr. Algernon Henry Wilson'\n",
      " 'Lundahl, Mr. Johan Svensson' 'Stahelin-Maeglin, Dr. Max'\n",
      " 'Parr, Mr. William Henry Marsh' 'Skoog, Miss. Mabel' 'Davis, Miss. Mary'\n",
      " 'Leinonen, Mr. Antti Gustaf' 'Collyer, Mr. Harvey'\n",
      " 'Panula, Mrs. Juha (Maria Emilia Ojala)' 'Thorneycroft, Mr. Percival'\n",
      " 'Jensen, Mr. Hans Peder' 'Sagesser, Mlle. Emma'\n",
      " 'Skoog, Miss. Margit Elizabeth' 'Foo, Mr. Choong'\n",
      " 'Baclini, Miss. Eugenie' 'Harper, Mr. Henry Sleeper' 'Cor, Mr. Liudevit'\n",
      " 'Simonius-Blumer, Col. Oberst Alfons' 'Willey, Mr. Edward'\n",
      " 'Stanley, Miss. Amy Zillah Elsie' 'Mitkoff, Mr. Mito'\n",
      " 'Doling, Miss. Elsie' 'Kalvik, Mr. Johannes Halvorsen'\n",
      " 'O\\'Leary, Miss. Hanora \"Norah\"' 'Hegarty, Miss. Hanora \"Nora\"'\n",
      " 'Hickman, Mr. Leonard Mark' 'Radeff, Mr. Alexander'\n",
      " 'Bourke, Mrs. John (Catherine)' 'Eitemiller, Mr. George Floyd'\n",
      " 'Newell, Mr. Arthur Webster' 'Frauenthal, Dr. Henry William'\n",
      " 'Badt, Mr. Mohamed' 'Colley, Mr. Edward Pomeroy' 'Coleff, Mr. Peju'\n",
      " 'Lindqvist, Mr. Eino William' 'Hickman, Mr. Lewis'\n",
      " 'Butler, Mr. Reginald Fenton' 'Rommetvedt, Mr. Knud Paust'\n",
      " 'Cook, Mr. Jacob' 'Taylor, Mrs. Elmer Zebley (Juliet Cummins Wright)'\n",
      " 'Brown, Mrs. Thomas William Solomon (Elizabeth Catherine Ford)'\n",
      " 'Davidson, Mr. Thornton' 'Mitchell, Mr. Henry Michael'\n",
      " 'Wilhelms, Mr. Charles' 'Watson, Mr. Ennis Hastings'\n",
      " 'Edvardsson, Mr. Gustaf Hjalmar' 'Sawyer, Mr. Frederick Charles'\n",
      " 'Turja, Miss. Anna Sofia' 'Goodwin, Mrs. Frederick (Augusta Tyler)'\n",
      " 'Cardeza, Mr. Thomas Drake Martinez' 'Peters, Miss. Katie'\n",
      " 'Hassab, Mr. Hammad' 'Olsvigen, Mr. Thor Anderson'\n",
      " 'Goodwin, Mr. Charles Edward' 'Brown, Mr. Thomas William Solomon'\n",
      " 'Laroche, Mr. Joseph Philippe Lemercier' 'Panula, Mr. Jaako Arnold'\n",
      " 'Dakic, Mr. Branko' 'Fischer, Mr. Eberhard Thelander'\n",
      " 'Madill, Miss. Georgette Alexandra' 'Dick, Mr. Albert Adrian'\n",
      " 'Karun, Miss. Manca' 'Lam, Mr. Ali' 'Saad, Mr. Khalil' 'Weir, Col. John'\n",
      " 'Chapman, Mr. Charles Henry' 'Kelly, Mr. James'\n",
      " 'Mullens, Miss. Katherine \"Katie\"' 'Thayer, Mr. John Borland'\n",
      " 'Humblen, Mr. Adolf Mathias Nicolai Olsen'\n",
      " 'Astor, Mrs. John Jacob (Madeleine Talmadge Force)'\n",
      " 'Silverthorne, Mr. Spencer Victor' 'Barbara, Miss. Saiide'\n",
      " 'Gallagher, Mr. Martin' 'Hansen, Mr. Henrik Juul'\n",
      " 'Morley, Mr. Henry Samuel (\"Mr Henry Marshall\")'\n",
      " 'Kelly, Mrs. Florence \"Fannie\"' 'Calderhead, Mr. Edward Pennington'\n",
      " 'Cleaver, Miss. Alice'\n",
      " 'Moubarek, Master. Halim Gonios (\"William George\")'\n",
      " 'Mayne, Mlle. Berthe Antonine (\"Mrs de Villiers\")' 'Klaber, Mr. Herman'\n",
      " 'Taylor, Mr. Elmer Zebley' 'Larsson, Mr. August Viktor'\n",
      " 'Greenberg, Mr. Samuel' 'Soholt, Mr. Peter Andreas Lauritz Andersen'\n",
      " 'Endres, Miss. Caroline Louise' 'Troutt, Miss. Edwina Celia \"Winnie\"'\n",
      " 'McEvoy, Mr. Michael' 'Johnson, Mr. Malkolm Joackim'\n",
      " 'Harper, Miss. Annie Jessie \"Nina\"' 'Jensen, Mr. Svend Lauritz'\n",
      " 'Gillespie, Mr. William Henry' 'Hodges, Mr. Henry Price'\n",
      " 'Chambers, Mr. Norman Campbell' 'Oreskovic, Mr. Luka'\n",
      " 'Renouf, Mrs. Peter Henry (Lillian Jefferys)' 'Mannion, Miss. Margareth'\n",
      " 'Bryhl, Mr. Kurt Arnold Gottfrid' 'Ilmakangas, Miss. Pieta Sofia'\n",
      " 'Allen, Miss. Elisabeth Walton' 'Hassan, Mr. Houssein G N'\n",
      " 'Knight, Mr. Robert J' 'Berriman, Mr. William John'\n",
      " 'Troupiansky, Mr. Moses Aaron' 'Williams, Mr. Leslie'\n",
      " 'Ford, Mrs. Edward (Margaret Ann Watson)' 'Lesurer, Mr. Gustave J'\n",
      " 'Ivanoff, Mr. Kanio' 'Nankoff, Mr. Minko' 'Hawksford, Mr. Walter James'\n",
      " 'Cavendish, Mr. Tyrell William' 'Ryerson, Miss. Susan Parker \"Suzette\"'\n",
      " 'McNamee, Mr. Neal' 'Stranden, Mr. Juho' 'Crosby, Capt. Edward Gifford'\n",
      " 'Abbott, Mr. Rossmore Edward' 'Sinkkonen, Miss. Anna'\n",
      " 'Marvin, Mr. Daniel Warner' 'Connaghton, Mr. Michael' 'Wells, Miss. Joan'\n",
      " 'Moor, Master. Meier' 'Vande Velde, Mr. Johannes Joseph'\n",
      " 'Jonkoff, Mr. Lalio' 'Herman, Mrs. Samuel (Jane Laver)'\n",
      " 'Hamalainen, Master. Viljo' 'Carlsson, Mr. August Sigfrid'\n",
      " 'Bailey, Mr. Percy Andrew' 'Theobald, Mr. Thomas Leonard'\n",
      " 'Rothes, the Countess. of (Lucy Noel Martha Dyer-Edwards)'\n",
      " 'Garfirth, Mr. John' 'Nirva, Mr. Iisakki Antino Aijo'\n",
      " 'Barah, Mr. Hanna Assi' 'Carter, Mrs. William Ernest (Lucile Polk)'\n",
      " 'Eklund, Mr. Hans Linus' 'Hogeboom, Mrs. John C (Anna Andrews)'\n",
      " 'Brewe, Dr. Arthur Jackson' 'Mangan, Miss. Mary' 'Moran, Mr. Daniel J'\n",
      " 'Gronnestad, Mr. Daniel Danielsen' 'Lievens, Mr. Rene Aime'\n",
      " 'Jensen, Mr. Niels Peder' 'Mack, Mrs. (Mary)' 'Elias, Mr. Dibo'\n",
      " 'Hocking, Mrs. Elizabeth (Eliza Needs)'\n",
      " 'Myhrman, Mr. Pehr Fabian Oliver Malkolm' 'Tobin, Mr. Roger'\n",
      " 'Emanuel, Miss. Virginia Ethel' 'Kilgannon, Mr. Thomas J'\n",
      " 'Robert, Mrs. Edward Scott (Elisabeth Walton McMillan)'\n",
      " 'Ayoub, Miss. Banoura' 'Dick, Mrs. Albert Adrian (Vera Gillespie)'\n",
      " 'Long, Mr. Milton Clyde' 'Johnston, Mr. Andrew G' 'Ali, Mr. William'\n",
      " 'Harmer, Mr. Abraham (David Lishin)' 'Sjoblom, Miss. Anna Sofia'\n",
      " 'Rice, Master. George Hugh' 'Dean, Master. Bertram Vere'\n",
      " 'Guggenheim, Mr. Benjamin' 'Keane, Mr. Andrew \"Andy\"'\n",
      " 'Gaskell, Mr. Alfred' 'Sage, Miss. Stella Anna'\n",
      " 'Hoyt, Mr. William Fisher' 'Dantcheff, Mr. Ristiu' 'Otter, Mr. Richard'\n",
      " 'Leader, Dr. Alice (Farnham)' 'Osman, Mrs. Mara'\n",
      " 'Ibrahim Shawah, Mr. Yousseff'\n",
      " 'Van Impe, Mrs. Jean Baptiste (Rosalie Paula Govaert)'\n",
      " 'Ponesell, Mr. Martin' 'Collyer, Mrs. Harvey (Charlotte Annie Tate)'\n",
      " 'Carter, Master. William Thornton II' 'Thomas, Master. Assad Alexander'\n",
      " 'Hedman, Mr. Oskar Arvid' 'Johansson, Mr. Karl Johan'\n",
      " 'Andrews, Mr. Thomas Jr' 'Pettersson, Miss. Ellen Natalia'\n",
      " 'Meyer, Mr. August' 'Chambers, Mrs. Norman Campbell (Bertha Griggs)'\n",
      " 'Alexander, Mr. William' 'Lester, Mr. James' 'Slemen, Mr. Richard James'\n",
      " 'Andersson, Miss. Ebba Iris Alfrida' 'Tomlin, Mr. Ernest Portage'\n",
      " 'Fry, Mr. Richard' 'Heininen, Miss. Wendla Maria' 'Mallet, Mr. Albert'\n",
      " 'Holm, Mr. John Fredrik Alexander' 'Skoog, Master. Karl Thorsten'\n",
      " 'Hays, Mrs. Charles Melville (Clara Jennings Gregg)' 'Lulic, Mr. Nikola'\n",
      " 'Reuchlin, Jonkheer. John George' 'Moor, Mrs. (Beila)'\n",
      " 'Panula, Master. Urho Abraham' 'Flynn, Mr. John' 'Lam, Mr. Len'\n",
      " 'Mallet, Master. Andre' 'McCormack, Mr. Thomas Joseph'\n",
      " 'Yasbeck, Mrs. Antoni (Selini Alexander)'\n",
      " 'Richards, Master. George Sibley' 'Saad, Mr. Amin'\n",
      " 'Augustsson, Mr. Albert' 'Allum, Mr. Owen George'\n",
      " 'Compton, Miss. Sara Rebecca' 'Pasic, Mr. Jakob' 'Sirota, Mr. Maurice'\n",
      " 'Chip, Mr. Chang' 'Marechal, Mr. Pierre' 'Alhomaki, Mr. Ilmari Rudolf'\n",
      " 'Mudd, Mr. Thomas Charles' 'Serepeca, Miss. Augusta'\n",
      " 'Lemberopolous, Mr. Peter L' 'Culumovic, Mr. Jeso' 'Abbing, Mr. Anthony'\n",
      " 'Sage, Mr. Douglas Bullen' 'Markoff, Mr. Marin' 'Harper, Rev. John'\n",
      " 'Goldenberg, Mrs. Samuel L (Edwiga Grabowska)'\n",
      " 'Andersson, Master. Sigvard Harald Elias' 'Svensson, Mr. Johan'\n",
      " 'Boulos, Miss. Nourelain' 'Lines, Miss. Mary Conover'\n",
      " 'Carter, Mrs. Ernest Courtenay (Lilian Hughes)'\n",
      " 'Aks, Mrs. Sam (Leah Rosen)' 'Wick, Mrs. George Dennick (Mary Hitchcock)'\n",
      " 'Daly, Mr. Peter Denis ' 'Baclini, Mrs. Solomon (Latifa Qurban)'\n",
      " 'Razi, Mr. Raihed' 'Hansen, Mr. Claus Peter'\n",
      " 'Giles, Mr. Frederick Edward'\n",
      " 'Swift, Mrs. Frederick Joel (Margaret Welles Barron)'\n",
      " 'Sage, Miss. Dorothy Edith \"Dolly\"' 'Gill, Mr. John William'\n",
      " 'Bystrom, Mrs. (Karolina)' 'Duran y More, Miss. Asuncion'\n",
      " 'Roebling, Mr. Washington Augustus II' 'van Melkebeke, Mr. Philemon'\n",
      " 'Johnson, Master. Harold Theodor' 'Balkic, Mr. Cerin'\n",
      " 'Beckwith, Mrs. Richard Leonard (Sallie Monypeny)'\n",
      " 'Carlsson, Mr. Frans Olof' 'Vander Cruyssen, Mr. Victor'\n",
      " 'Abelson, Mrs. Samuel (Hannah Wizosky)'\n",
      " 'Najib, Miss. Adele Kiamie \"Jane\"' 'Gustafsson, Mr. Alfred Ossian'\n",
      " 'Petroff, Mr. Nedelio' 'Laleff, Mr. Kristo'\n",
      " 'Potter, Mrs. Thomas Jr (Lily Alexenia Wilson)'\n",
      " 'Shelley, Mrs. William (Imanita Parrish Hall)' 'Markun, Mr. Johann'\n",
      " 'Dahlberg, Miss. Gerda Ulrika' 'Banfield, Mr. Frederick James'\n",
      " 'Sutehall, Mr. Henry Jr' 'Rice, Mrs. William (Margaret Norton)'\n",
      " 'Montvila, Rev. Juozas' 'Graham, Miss. Margaret Edith'\n",
      " 'Johnston, Miss. Catherine Helen \"Carrie\"' 'Behr, Mr. Karl Howell'\n",
      " 'Dooley, Mr. Patrick']\n",
      "['male' 'female']\n",
      "[22.         38.         26.         35.         29.69911765 54.\n",
      "  2.         27.         14.          4.         58.         20.\n",
      " 39.         55.         31.         34.         15.         28.\n",
      "  8.         19.         40.         66.         42.         21.\n",
      " 18.          3.          7.         49.         29.         65.\n",
      " 28.5         5.         11.         45.         17.         32.\n",
      " 16.         25.          0.83       30.         33.         23.\n",
      " 24.         46.         59.         71.         37.         47.\n",
      " 14.5        70.5        32.5        12.          9.         36.5\n",
      " 51.         55.5        40.5        44.          1.         61.\n",
      " 56.         50.         36.         45.5        20.5        62.\n",
      " 41.         52.         63.         23.5         0.92       43.\n",
      " 60.         10.         64.         13.         48.          0.75\n",
      " 53.         57.         80.         70.         24.5         6.\n",
      "  0.67       30.5         0.42       34.5        74.        ]\n",
      "[1 0 3 4 2 5 8]\n",
      "[0 1 2 5 3 4 6]\n",
      "['A/5 21171' 'PC 17599' 'STON/O2. 3101282' '113803' '373450' '330877'\n",
      " '17463' '349909' '347742' '237736' 'PP 9549' '113783' 'A/5. 2151'\n",
      " '347082' '350406' '248706' '382652' '244373' '345763' '2649' '239865'\n",
      " '248698' '330923' '113788' '347077' '2631' '19950' '330959' '349216'\n",
      " 'PC 17601' 'PC 17569' '335677' 'C.A. 24579' 'PC 17604' '113789' '2677'\n",
      " 'A./5. 2152' '345764' '2651' '7546' '11668' '349253' 'SC/Paris 2123'\n",
      " '330958' 'S.C./A.4. 23567' '370371' '14311' '2662' '349237' '3101295'\n",
      " 'A/4. 39886' 'PC 17572' '2926' '113509' '19947' 'C.A. 31026' '2697'\n",
      " 'C.A. 34651' 'CA 2144' '2669' '36973' '347088' 'PC 17605' '2661'\n",
      " 'C.A. 29395' 'S.P. 3464' '3101281' '315151' 'C.A. 33111' 'S.O.C. 14879'\n",
      " '2680' '1601' '348123' '349208' '374746' '248738' '364516' '345767'\n",
      " '345779' '330932' '113059' 'SO/C 14885' '3101278' 'W./C. 6608'\n",
      " 'SOTON/OQ 392086' '343275' '343276' '347466' 'W.E.P. 5734' 'C.A. 2315'\n",
      " '364500' '374910' 'PC 17754' 'PC 17759' '231919' '244367' '349245'\n",
      " '349215' '35281' '7540' '3101276' '349207' '343120' '312991' '349249'\n",
      " '371110' '110465' '2665' '324669' '4136' '2627' 'STON/O 2. 3101294'\n",
      " '370369' 'PC 17558' 'A4. 54510' '27267' '370372' 'C 17369' '2668'\n",
      " '347061' '349241' 'SOTON/O.Q. 3101307' 'A/5. 3337' '228414' 'C.A. 29178'\n",
      " 'SC/PARIS 2133' '11752' '7534' 'PC 17593' '2678' '347081'\n",
      " 'STON/O2. 3101279' '365222' '231945' 'C.A. 33112' '350043' '230080'\n",
      " '244310' 'S.O.P. 1166' '113776' 'A.5. 11206' 'A/5. 851' 'Fa 265302'\n",
      " 'PC 17597' '35851' 'SOTON/OQ 392090' '315037' 'CA. 2343' '371362'\n",
      " 'C.A. 33595' '347068' '315093' '363291' '113505' 'PC 17318' '111240'\n",
      " 'STON/O 2. 3101280' '17764' '350404' '4133' 'PC 17595' '250653' 'LINE'\n",
      " 'SC/PARIS 2131' '230136' '315153' '113767' '370365' '111428' '364849'\n",
      " '349247' '234604' '28424' '350046' 'PC 17610' '368703' '4579' '370370'\n",
      " '248747' '345770' '3101264' '2628' 'A/5 3540' '347054' '2699' '367231'\n",
      " '112277' 'SOTON/O.Q. 3101311' 'F.C.C. 13528' 'A/5 21174' '250646'\n",
      " '367229' '35273' 'STON/O2. 3101283' '243847' '11813' 'W/C 14208'\n",
      " 'SOTON/OQ 392089' '220367' '21440' '349234' '19943' 'PP 4348' 'SW/PP 751'\n",
      " 'A/5 21173' '236171' '347067' '237442' 'C.A. 29566' 'W./C. 6609' '26707'\n",
      " 'C.A. 31921' '28665' 'SCO/W 1585' '367230' 'W./C. 14263'\n",
      " 'STON/O 2. 3101275' '2694' '19928' '347071' '250649' '11751' '244252'\n",
      " '362316' '113514' 'A/5. 3336' '370129' '2650' 'PC 17585' '110152'\n",
      " 'PC 17755' '230433' '384461' '110413' '112059' '382649' 'C.A. 17248'\n",
      " '347083' 'PC 17582' 'PC 17760' '113798' '250644' 'PC 17596' '370375'\n",
      " '13502' '347073' '239853' 'C.A. 2673' '336439' '347464' '345778'\n",
      " 'A/5. 10482' '113056' '349239' '345774' '349206' '237798' '370373'\n",
      " '19877' '11967' 'SC/Paris 2163' '349236' '349233' 'PC 17612' '2693'\n",
      " '113781' '19988' '9234' '367226' '226593' 'A/5 2466' '17421' 'PC 17758'\n",
      " 'P/PP 3381' 'PC 17485' '11767' 'PC 17608' '250651' '349243'\n",
      " 'F.C.C. 13529' '347470' '29011' '36928' '16966' 'A/5 21172' '349219'\n",
      " '234818' '345364' '28551' '111361' '113043' 'PC 17611' '349225' '7598'\n",
      " '113784' '248740' '244361' '229236' '248733' '31418' '386525'\n",
      " 'C.A. 37671' '315088' '7267' '113510' '2695' '2647' '345783' '237671'\n",
      " '330931' '330980' 'SC/PARIS 2167' '2691' 'SOTON/O.Q. 3101310' 'C 7076'\n",
      " '110813' '2626' '14313' 'PC 17477' '11765' '3101267' '323951' 'C 7077'\n",
      " '113503' '2648' '347069' 'PC 17757' '2653' 'STON/O 2. 3101293' '349227'\n",
      " '27849' '367655' 'SC 1748' '113760' '350034' '3101277' '350052' '350407'\n",
      " '28403' '244278' '240929' 'STON/O 2. 3101289' '341826' '4137' '315096'\n",
      " '28664' '347064' '29106' '312992' '349222' '394140' 'STON/O 2. 3101269'\n",
      " '343095' '28220' '250652' '28228' '345773' '349254' 'A/5. 13032' '315082'\n",
      " '347080' 'A/4. 34244' '2003' '250655' '364851' 'SOTON/O.Q. 392078'\n",
      " '110564' '376564' 'SC/AH 3085' 'STON/O 2. 3101274' '13507' 'C.A. 18723'\n",
      " '345769' '347076' '230434' '65306' '33638' '113794' '2666' '113786'\n",
      " '65303' '113051' '17453' 'A/5 2817' '349240' '13509' '17464'\n",
      " 'F.C.C. 13531' '371060' '19952' '364506' '111320' '234360' 'A/S 2816'\n",
      " 'SOTON/O.Q. 3101306' '113792' '36209' '323592' '315089' 'SC/AH Basle 541'\n",
      " '7553' '31027' '3460' '350060' '3101298' '239854' 'A/5 3594' '4134'\n",
      " '11771' 'A.5. 18509' '65304' 'SOTON/OQ 3101317' '113787' 'PC 17609'\n",
      " 'A/4 45380' '36947' 'C.A. 6212' '350035' '315086' '364846' '330909'\n",
      " '4135' '26360' '111427' 'C 4001' '382651' 'SOTON/OQ 3101316' 'PC 17473'\n",
      " 'PC 17603' '349209' '36967' 'C.A. 34260' '226875' '349242' '12749'\n",
      " '349252' '2624' '2700' '367232' 'W./C. 14258' 'PC 17483' '3101296'\n",
      " '29104' '2641' '2690' '315084' '113050' 'PC 17761' '364498' '13568'\n",
      " 'WE/P 5735' '2908' '693' 'SC/PARIS 2146' '244358' '330979' '2620'\n",
      " '347085' '113807' '11755' '345572' '372622' '349251' '218629'\n",
      " 'SOTON/OQ 392082' 'SOTON/O.Q. 392087' 'A/4 48871' '349205' '2686'\n",
      " '350417' 'S.W./PP 752' '11769' 'PC 17474' '14312' 'A/4. 20589' '358585'\n",
      " '243880' '2689' 'STON/O 2. 3101286' '237789' '13049' '3411' '237565'\n",
      " '13567' '14973' 'A./5. 3235' 'STON/O 2. 3101273' 'A/5 3902' '364848'\n",
      " 'SC/AH 29037' '248727' '2664' '349214' '113796' '364511' '111426'\n",
      " '349910' '349246' '113804' 'SOTON/O.Q. 3101305' '370377' '364512'\n",
      " '220845' '31028' '2659' '11753' '350029' '54636' '36963' '219533'\n",
      " '349224' '334912' '27042' '347743' '13214' '112052' '237668'\n",
      " 'STON/O 2. 3101292' '350050' '349231' '13213' 'S.O./P.P. 751' 'CA. 2314'\n",
      " '349221' '8475' '330919' '365226' '349223' '29751' '2623' '5727' '349210'\n",
      " 'STON/O 2. 3101285' '234686' '312993' 'A/5 3536' '19996' '29750'\n",
      " 'F.C. 12750' 'C.A. 24580' '244270' '239856' '349912' '342826' '4138'\n",
      " '330935' '6563' '349228' '350036' '24160' '17474' '349256' '2672'\n",
      " '113800' '248731' '363592' '35852' '348121' 'PC 17475' '36864' '350025'\n",
      " '223596' 'PC 17476' 'PC 17482' '113028' '7545' '250647' '348124' '34218'\n",
      " '36568' '347062' '350048' '12233' '250643' '113806' '315094' '36866'\n",
      " '236853' 'STON/O2. 3101271' '239855' '28425' '233639' '349201' '349218'\n",
      " '16988' '376566' 'STON/O 2. 3101288' '250648' '113773' '335097' '29103'\n",
      " '392096' '345780' '349204' '350042' '29108' '363294' 'SOTON/O2 3101272'\n",
      " '2663' '347074' '112379' '364850' '8471' '345781' '350047' 'S.O./P.P. 3'\n",
      " '2674' '29105' '347078' '383121' '36865' '2687' '113501' 'W./C. 6607'\n",
      " 'SOTON/O.Q. 3101312' '374887' '3101265' '12460' 'PC 17600' '349203'\n",
      " '28213' '17465' '349244' '2685' '2625' '347089' '347063' '112050'\n",
      " '347087' '248723' '3474' '28206' '364499' '112058' 'STON/O2. 3101290'\n",
      " 'S.C./PARIS 2079' 'C 7075' '315098' '19972' '368323' '367228' '2671'\n",
      " '347468' '2223' 'PC 17756' '315097' '392092' '11774' 'SOTON/O2 3101287'\n",
      " '2683' '315090' 'C.A. 5547' '349213' '347060' 'PC 17592' '392091'\n",
      " '113055' '2629' '350026' '28134' '17466' '233866' '236852'\n",
      " 'SC/PARIS 2149' 'PC 17590' '345777' '349248' '695' '345765' '2667'\n",
      " '349212' '349217' '349257' '7552' 'C.A./SOTON 34068' 'SOTON/OQ 392076'\n",
      " '211536' '112053' '111369' '370376']\n",
      "[  7.25    71.2833   7.925   53.1      8.05     8.4583  51.8625  21.075\n",
      "  11.1333  30.0708  16.7     26.55    31.275    7.8542  16.      29.125\n",
      "  13.      18.       7.225   26.       8.0292  35.5     31.3875 263.\n",
      "   7.8792   7.8958  27.7208 146.5208   7.75    10.5     82.1708  52.\n",
      "   7.2292  11.2417   9.475   21.      41.5792  15.5     21.6792  17.8\n",
      "  39.6875   7.8     76.7292  61.9792  27.75    46.9     83.475   27.9\n",
      "  15.2458   8.1583   8.6625  73.5     14.4542  56.4958   7.65    29.\n",
      "  12.475    9.       9.5      7.7875  47.1     15.85    34.375   61.175\n",
      "  20.575   34.6542  63.3583  23.      77.2875   8.6542   7.775   24.15\n",
      "   9.825   14.4583 247.5208   7.1417  22.3583   6.975    7.05    14.5\n",
      "  15.0458  26.2833   9.2167  79.2      6.75    11.5     36.75     7.7958\n",
      "  12.525   66.6      7.3125  61.3792   7.7333  69.55    16.1     15.75\n",
      "  20.525   55.      25.925   33.5     30.6958  25.4667  28.7125   0.\n",
      "  15.05    39.      22.025   50.       8.4042   6.4958  10.4625  18.7875\n",
      "  31.     113.275   27.      76.2917  90.       9.35    13.5      7.55\n",
      "  26.25    12.275    7.125   52.5542  20.2125  86.5    512.3292  79.65\n",
      " 153.4625 135.6333  19.5     29.7     77.9583  20.25    78.85    91.0792\n",
      "  12.875    8.85   151.55    30.5     23.25    12.35   110.8833 108.9\n",
      "  24.      56.9292  83.1583 262.375   14.     164.8667 134.5      6.2375\n",
      "  57.9792  28.5    133.65    15.9      9.225   35.      75.25    69.3\n",
      "  55.4417 211.5      4.0125 227.525   15.7417   7.7292  12.     120.\n",
      "  12.65    18.75     6.8583  32.5      7.875   14.4     55.9      8.1125\n",
      "  81.8583  19.2583  19.9667  89.1042  38.5      7.725   13.7917   9.8375\n",
      "   7.0458   7.5208  12.2875   9.5875  49.5042  78.2667  15.1      7.6292\n",
      "  22.525   26.2875  59.4      7.4958  34.0208  93.5    221.7792 106.425\n",
      "  49.5     71.      13.8625   7.8292  39.6     17.4     51.4792  26.3875\n",
      "  30.      40.125    8.7125  15.      33.      42.4     15.55    65.\n",
      "  32.3208   7.0542   8.4333  25.5875   9.8417   8.1375  10.1708 211.3375\n",
      "  57.      13.4167   7.7417   9.4833   7.7375   8.3625  23.45    25.9292\n",
      "   8.6833   8.5167   7.8875  37.0042   6.45     6.95     8.3      6.4375\n",
      "  39.4     14.1083  13.8583  50.4958   5.       9.8458  10.5167]\n",
      "['S' 'C' 'Q']\n"
     ]
    }
   ],
   "source": [
    "for i in df:\n",
    "    print(df[i].unique())"
   ]
  },
  {
   "cell_type": "markdown",
   "metadata": {},
   "source": [
    "Here, we used loop to iterate over each columns unique values instead of iterating per column."
   ]
  },
  {
   "cell_type": "code",
   "execution_count": 20,
   "metadata": {},
   "outputs": [
    {
     "data": {
      "text/plain": [
       "Index(['Survived', 'Pclass', 'Age', 'SibSp', 'Parch', 'Fare'], dtype='object')"
      ]
     },
     "execution_count": 20,
     "metadata": {},
     "output_type": "execute_result"
    }
   ],
   "source": [
    "num_col=df.select_dtypes(include=['int64','float']).columns\n",
    "num_col"
   ]
  },
  {
   "cell_type": "markdown",
   "metadata": {},
   "source": [
    "There are 6 Numerical columns in dataset and we store it in a variable named 'num_col'."
   ]
  },
  {
   "cell_type": "code",
   "execution_count": 21,
   "metadata": {},
   "outputs": [
    {
     "data": {
      "text/plain": [
       "Index(['Name', 'Sex', 'Ticket', 'Embarked'], dtype='object')"
      ]
     },
     "execution_count": 21,
     "metadata": {},
     "output_type": "execute_result"
    }
   ],
   "source": [
    "cat_col=df.select_dtypes(include=['O']).columns\n",
    "cat_col"
   ]
  },
  {
   "cell_type": "markdown",
   "metadata": {},
   "source": [
    "There are 4 Numerical columns in dataset and we store it in a variable name 'cat_col'"
   ]
  },
  {
   "cell_type": "code",
   "execution_count": 22,
   "metadata": {},
   "outputs": [
    {
     "data": {
      "image/png": "[encoded data removed]",
      "text/plain": [
       "<Figure size 1080x1008 with 6 Axes>"
      ]
     },
     "metadata": {
      "needs_background": "light"
     },
     "output_type": "display_data"
    }
   ],
   "source": [
    "plt.figure(figsize=(15,14))\n",
    "count=1\n",
    "for i in num_col:\n",
    "    plt.subplot(3,4,count)\n",
    "    sns.scatterplot(x=i,y='Fare',data=df)\n",
    "    count+=1\n",
    "plt.show()\n"
   ]
  },
  {
   "cell_type": "markdown",
   "metadata": {},
   "source": [
    "Iterating over each numerical column to plot scatterplot between all Numerical columns.\n",
    "And, There are no co-relation between any numerical columns."
   ]
  },
  {
   "cell_type": "markdown",
   "metadata": {},
   "source": [
    "### How many people boarded on Titanic where Male?"
   ]
  },
  {
   "cell_type": "code",
   "execution_count": 23,
   "metadata": {
    "scrolled": true
   },
   "outputs": [
    {
     "data": {
      "text/plain": [
       "577"
      ]
     },
     "execution_count": 23,
     "metadata": {},
     "output_type": "execute_result"
    }
   ],
   "source": [
    "df[df['Sex']=='male']['Sex'].count()"
   ]
  },
  {
   "cell_type": "markdown",
   "metadata": {},
   "source": [
    "There were 577 Male boarded on Titanic."
   ]
  },
  {
   "cell_type": "markdown",
   "metadata": {},
   "source": [
    "### What was the average age of people onboard?"
   ]
  },
  {
   "cell_type": "code",
   "execution_count": 24,
   "metadata": {},
   "outputs": [
    {
     "data": {
      "text/plain": [
       "29.653446370674192"
      ]
     },
     "execution_count": 24,
     "metadata": {},
     "output_type": "execute_result"
    }
   ],
   "source": [
    "df['Age'].mean()"
   ]
  },
  {
   "cell_type": "markdown",
   "metadata": {},
   "source": [
    "The average age of people onboard was 29 years."
   ]
  },
  {
   "cell_type": "markdown",
   "metadata": {},
   "source": [
    "### How many people where there from each class?"
   ]
  },
  {
   "cell_type": "code",
   "execution_count": 25,
   "metadata": {},
   "outputs": [
    {
     "data": {
      "text/plain": [
       "3    491\n",
       "1    214\n",
       "2    184\n",
       "Name: Pclass, dtype: int64"
      ]
     },
     "execution_count": 25,
     "metadata": {},
     "output_type": "execute_result"
    }
   ],
   "source": [
    "df['Pclass'].value_counts()"
   ]
  },
  {
   "cell_type": "markdown",
   "metadata": {},
   "source": [
    "From class 1 there were 214 people, From class 2 there were 184 people and from class 3 there were 491 people onboard."
   ]
  },
  {
   "cell_type": "markdown",
   "metadata": {},
   "source": [
    "### What was the highest paid price for the ticket of titanic?"
   ]
  },
  {
   "cell_type": "code",
   "execution_count": 26,
   "metadata": {},
   "outputs": [
    {
     "data": {
      "text/plain": [
       "512.3292"
      ]
     },
     "execution_count": 26,
     "metadata": {},
     "output_type": "execute_result"
    }
   ],
   "source": [
    "df['Fare'].max()"
   ]
  },
  {
   "cell_type": "markdown",
   "metadata": {},
   "source": [
    "The highest paid price for ticket was approx $512 "
   ]
  },
  {
   "cell_type": "markdown",
   "metadata": {},
   "source": [
    "### What was the lowest paid price for the ticket of titanic?"
   ]
  },
  {
   "cell_type": "code",
   "execution_count": 27,
   "metadata": {},
   "outputs": [
    {
     "data": {
      "text/plain": [
       "0.0"
      ]
     },
     "execution_count": 27,
     "metadata": {},
     "output_type": "execute_result"
    }
   ],
   "source": [
    "df['Fare'].min()"
   ]
  },
  {
   "cell_type": "markdown",
   "metadata": {},
   "source": [
    "The lowest paid price for ticket was $0."
   ]
  },
  {
   "cell_type": "markdown",
   "metadata": {},
   "source": [
    "### Find the people with fare $0."
   ]
  },
  {
   "cell_type": "code",
   "execution_count": 28,
   "metadata": {},
   "outputs": [
    {
     "data": {
      "text/html": [
       "<div>\n",
       "<style scoped>\n",
       "    .dataframe tbody tr th:only-of-type {\n",
       "        vertical-align: middle;\n",
       "    }\n",
       "\n",
       "    .dataframe tbody tr th {\n",
       "        vertical-align: top;\n",
       "    }\n",
       "\n",
       "    .dataframe thead th {\n",
       "        text-align: right;\n",
       "    }\n",
       "</style>\n",
       "<table border=\"1\" class=\"dataframe\">\n",
       "  <thead>\n",
       "    <tr style=\"text-align: right;\">\n",
       "      <th></th>\n",
       "      <th>Survived</th>\n",
       "      <th>Pclass</th>\n",
       "      <th>Name</th>\n",
       "      <th>Sex</th>\n",
       "      <th>Age</th>\n",
       "      <th>SibSp</th>\n",
       "      <th>Parch</th>\n",
       "      <th>Ticket</th>\n",
       "      <th>Fare</th>\n",
       "      <th>Embarked</th>\n",
       "    </tr>\n",
       "  </thead>\n",
       "  <tbody>\n",
       "    <tr>\n",
       "      <td>178</td>\n",
       "      <td>0</td>\n",
       "      <td>3</td>\n",
       "      <td>Leonard, Mr. Lionel</td>\n",
       "      <td>male</td>\n",
       "      <td>36.000000</td>\n",
       "      <td>0</td>\n",
       "      <td>0</td>\n",
       "      <td>LINE</td>\n",
       "      <td>0.0</td>\n",
       "      <td>S</td>\n",
       "    </tr>\n",
       "    <tr>\n",
       "      <td>262</td>\n",
       "      <td>0</td>\n",
       "      <td>1</td>\n",
       "      <td>Harrison, Mr. William</td>\n",
       "      <td>male</td>\n",
       "      <td>40.000000</td>\n",
       "      <td>0</td>\n",
       "      <td>0</td>\n",
       "      <td>112059</td>\n",
       "      <td>0.0</td>\n",
       "      <td>S</td>\n",
       "    </tr>\n",
       "    <tr>\n",
       "      <td>270</td>\n",
       "      <td>1</td>\n",
       "      <td>3</td>\n",
       "      <td>Tornquist, Mr. William Henry</td>\n",
       "      <td>male</td>\n",
       "      <td>25.000000</td>\n",
       "      <td>0</td>\n",
       "      <td>0</td>\n",
       "      <td>LINE</td>\n",
       "      <td>0.0</td>\n",
       "      <td>S</td>\n",
       "    </tr>\n",
       "    <tr>\n",
       "      <td>276</td>\n",
       "      <td>0</td>\n",
       "      <td>2</td>\n",
       "      <td>Parkes, Mr. Francis \"Frank\"</td>\n",
       "      <td>male</td>\n",
       "      <td>29.699118</td>\n",
       "      <td>0</td>\n",
       "      <td>0</td>\n",
       "      <td>239853</td>\n",
       "      <td>0.0</td>\n",
       "      <td>S</td>\n",
       "    </tr>\n",
       "    <tr>\n",
       "      <td>301</td>\n",
       "      <td>0</td>\n",
       "      <td>3</td>\n",
       "      <td>Johnson, Mr. William Cahoone Jr</td>\n",
       "      <td>male</td>\n",
       "      <td>19.000000</td>\n",
       "      <td>0</td>\n",
       "      <td>0</td>\n",
       "      <td>LINE</td>\n",
       "      <td>0.0</td>\n",
       "      <td>S</td>\n",
       "    </tr>\n",
       "    <tr>\n",
       "      <td>412</td>\n",
       "      <td>0</td>\n",
       "      <td>2</td>\n",
       "      <td>Cunningham, Mr. Alfred Fleming</td>\n",
       "      <td>male</td>\n",
       "      <td>29.699118</td>\n",
       "      <td>0</td>\n",
       "      <td>0</td>\n",
       "      <td>239853</td>\n",
       "      <td>0.0</td>\n",
       "      <td>S</td>\n",
       "    </tr>\n",
       "    <tr>\n",
       "      <td>465</td>\n",
       "      <td>0</td>\n",
       "      <td>2</td>\n",
       "      <td>Campbell, Mr. William</td>\n",
       "      <td>male</td>\n",
       "      <td>29.699118</td>\n",
       "      <td>0</td>\n",
       "      <td>0</td>\n",
       "      <td>239853</td>\n",
       "      <td>0.0</td>\n",
       "      <td>S</td>\n",
       "    </tr>\n",
       "    <tr>\n",
       "      <td>480</td>\n",
       "      <td>0</td>\n",
       "      <td>2</td>\n",
       "      <td>Frost, Mr. Anthony Wood \"Archie\"</td>\n",
       "      <td>male</td>\n",
       "      <td>29.699118</td>\n",
       "      <td>0</td>\n",
       "      <td>0</td>\n",
       "      <td>239854</td>\n",
       "      <td>0.0</td>\n",
       "      <td>S</td>\n",
       "    </tr>\n",
       "    <tr>\n",
       "      <td>596</td>\n",
       "      <td>0</td>\n",
       "      <td>3</td>\n",
       "      <td>Johnson, Mr. Alfred</td>\n",
       "      <td>male</td>\n",
       "      <td>49.000000</td>\n",
       "      <td>0</td>\n",
       "      <td>0</td>\n",
       "      <td>LINE</td>\n",
       "      <td>0.0</td>\n",
       "      <td>S</td>\n",
       "    </tr>\n",
       "    <tr>\n",
       "      <td>632</td>\n",
       "      <td>0</td>\n",
       "      <td>1</td>\n",
       "      <td>Parr, Mr. William Henry Marsh</td>\n",
       "      <td>male</td>\n",
       "      <td>29.699118</td>\n",
       "      <td>0</td>\n",
       "      <td>0</td>\n",
       "      <td>112052</td>\n",
       "      <td>0.0</td>\n",
       "      <td>S</td>\n",
       "    </tr>\n",
       "    <tr>\n",
       "      <td>673</td>\n",
       "      <td>0</td>\n",
       "      <td>2</td>\n",
       "      <td>Watson, Mr. Ennis Hastings</td>\n",
       "      <td>male</td>\n",
       "      <td>29.699118</td>\n",
       "      <td>0</td>\n",
       "      <td>0</td>\n",
       "      <td>239856</td>\n",
       "      <td>0.0</td>\n",
       "      <td>S</td>\n",
       "    </tr>\n",
       "    <tr>\n",
       "      <td>731</td>\n",
       "      <td>0</td>\n",
       "      <td>2</td>\n",
       "      <td>Knight, Mr. Robert J</td>\n",
       "      <td>male</td>\n",
       "      <td>29.699118</td>\n",
       "      <td>0</td>\n",
       "      <td>0</td>\n",
       "      <td>239855</td>\n",
       "      <td>0.0</td>\n",
       "      <td>S</td>\n",
       "    </tr>\n",
       "    <tr>\n",
       "      <td>805</td>\n",
       "      <td>0</td>\n",
       "      <td>1</td>\n",
       "      <td>Andrews, Mr. Thomas Jr</td>\n",
       "      <td>male</td>\n",
       "      <td>39.000000</td>\n",
       "      <td>0</td>\n",
       "      <td>0</td>\n",
       "      <td>112050</td>\n",
       "      <td>0.0</td>\n",
       "      <td>S</td>\n",
       "    </tr>\n",
       "    <tr>\n",
       "      <td>814</td>\n",
       "      <td>0</td>\n",
       "      <td>1</td>\n",
       "      <td>Fry, Mr. Richard</td>\n",
       "      <td>male</td>\n",
       "      <td>29.699118</td>\n",
       "      <td>0</td>\n",
       "      <td>0</td>\n",
       "      <td>112058</td>\n",
       "      <td>0.0</td>\n",
       "      <td>S</td>\n",
       "    </tr>\n",
       "    <tr>\n",
       "      <td>821</td>\n",
       "      <td>0</td>\n",
       "      <td>1</td>\n",
       "      <td>Reuchlin, Jonkheer. John George</td>\n",
       "      <td>male</td>\n",
       "      <td>38.000000</td>\n",
       "      <td>0</td>\n",
       "      <td>0</td>\n",
       "      <td>19972</td>\n",
       "      <td>0.0</td>\n",
       "      <td>S</td>\n",
       "    </tr>\n",
       "  </tbody>\n",
       "</table>\n",
       "</div>"
      ],
      "text/plain": [
       "     Survived  Pclass                              Name   Sex        Age  \\\n",
       "178         0       3               Leonard, Mr. Lionel  male  36.000000   \n",
       "262         0       1             Harrison, Mr. William  male  40.000000   \n",
       "270         1       3      Tornquist, Mr. William Henry  male  25.000000   \n",
       "276         0       2       Parkes, Mr. Francis \"Frank\"  male  29.699118   \n",
       "301         0       3   Johnson, Mr. William Cahoone Jr  male  19.000000   \n",
       "412         0       2    Cunningham, Mr. Alfred Fleming  male  29.699118   \n",
       "465         0       2             Campbell, Mr. William  male  29.699118   \n",
       "480         0       2  Frost, Mr. Anthony Wood \"Archie\"  male  29.699118   \n",
       "596         0       3               Johnson, Mr. Alfred  male  49.000000   \n",
       "632         0       1     Parr, Mr. William Henry Marsh  male  29.699118   \n",
       "673         0       2        Watson, Mr. Ennis Hastings  male  29.699118   \n",
       "731         0       2              Knight, Mr. Robert J  male  29.699118   \n",
       "805         0       1            Andrews, Mr. Thomas Jr  male  39.000000   \n",
       "814         0       1                  Fry, Mr. Richard  male  29.699118   \n",
       "821         0       1   Reuchlin, Jonkheer. John George  male  38.000000   \n",
       "\n",
       "     SibSp  Parch  Ticket  Fare Embarked  \n",
       "178      0      0    LINE   0.0        S  \n",
       "262      0      0  112059   0.0        S  \n",
       "270      0      0    LINE   0.0        S  \n",
       "276      0      0  239853   0.0        S  \n",
       "301      0      0    LINE   0.0        S  \n",
       "412      0      0  239853   0.0        S  \n",
       "465      0      0  239853   0.0        S  \n",
       "480      0      0  239854   0.0        S  \n",
       "596      0      0    LINE   0.0        S  \n",
       "632      0      0  112052   0.0        S  \n",
       "673      0      0  239856   0.0        S  \n",
       "731      0      0  239855   0.0        S  \n",
       "805      0      0  112050   0.0        S  \n",
       "814      0      0  112058   0.0        S  \n",
       "821      0      0   19972   0.0        S  "
      ]
     },
     "execution_count": 28,
     "metadata": {},
     "output_type": "execute_result"
    }
   ],
   "source": [
    "df[df['Fare']==0]"
   ]
  },
  {
   "cell_type": "markdown",
   "metadata": {},
   "source": [
    "There were 15 people from all classes with fare 0$."
   ]
  },
  {
   "cell_type": "markdown",
   "metadata": {},
   "source": [
    "### What was the highest price of class 3 passengers?"
   ]
  },
  {
   "cell_type": "code",
   "execution_count": 29,
   "metadata": {},
   "outputs": [
    {
     "data": {
      "text/plain": [
       "69.55"
      ]
     },
     "execution_count": 29,
     "metadata": {},
     "output_type": "execute_result"
    }
   ],
   "source": [
    "df.groupby('Pclass').get_group(3)['Fare'].max()"
   ]
  },
  {
   "cell_type": "markdown",
   "metadata": {},
   "source": [
    "The highest price for class 3 passengers was $69.55"
   ]
  },
  {
   "cell_type": "markdown",
   "metadata": {},
   "source": [
    "### What was the lowest price of class 3 passengers?"
   ]
  },
  {
   "cell_type": "code",
   "execution_count": 30,
   "metadata": {},
   "outputs": [
    {
     "data": {
      "text/plain": [
       "0.0"
      ]
     },
     "execution_count": 30,
     "metadata": {},
     "output_type": "execute_result"
    }
   ],
   "source": [
    "df.groupby('Pclass').get_group(3)['Fare'].min()"
   ]
  },
  {
   "cell_type": "markdown",
   "metadata": {},
   "source": [
    "The lowest price for class 3 passengers were 0$"
   ]
  },
  {
   "cell_type": "markdown",
   "metadata": {},
   "source": [
    "### What was the highest price for class 1 passengers?"
   ]
  },
  {
   "cell_type": "code",
   "execution_count": 31,
   "metadata": {},
   "outputs": [
    {
     "data": {
      "text/plain": [
       "512.3292"
      ]
     },
     "execution_count": 31,
     "metadata": {},
     "output_type": "execute_result"
    }
   ],
   "source": [
    "df.groupby('Pclass').get_group(1)['Fare'].max()"
   ]
  },
  {
   "cell_type": "markdown",
   "metadata": {},
   "source": [
    "The highest price for class 1 passengers was $512.3 approx."
   ]
  },
  {
   "cell_type": "markdown",
   "metadata": {},
   "source": [
    "### What was the lowest price for class 1 passengers?"
   ]
  },
  {
   "cell_type": "code",
   "execution_count": 32,
   "metadata": {},
   "outputs": [
    {
     "data": {
      "text/plain": [
       "0.0"
      ]
     },
     "execution_count": 32,
     "metadata": {},
     "output_type": "execute_result"
    }
   ],
   "source": [
    "df.groupby('Pclass').get_group(1)['Fare'].min()"
   ]
  },
  {
   "cell_type": "markdown",
   "metadata": {},
   "source": [
    "The lowest price for class 1 passengers was $0."
   ]
  },
  {
   "cell_type": "markdown",
   "metadata": {},
   "source": [
    "### What was the highest price for class 2 passengers?"
   ]
  },
  {
   "cell_type": "code",
   "execution_count": 33,
   "metadata": {},
   "outputs": [
    {
     "data": {
      "text/plain": [
       "73.5"
      ]
     },
     "execution_count": 33,
     "metadata": {},
     "output_type": "execute_result"
    }
   ],
   "source": [
    "df.groupby('Pclass').get_group(2)['Fare'].max()"
   ]
  },
  {
   "cell_type": "markdown",
   "metadata": {},
   "source": [
    "The highest price for class 2 passengers was $73.5 approx."
   ]
  },
  {
   "cell_type": "markdown",
   "metadata": {},
   "source": [
    "### How many male survived from sinking of titanic?"
   ]
  },
  {
   "cell_type": "code",
   "execution_count": 34,
   "metadata": {},
   "outputs": [
    {
     "data": {
      "text/plain": [
       "Survived    109\n",
       "dtype: int64"
      ]
     },
     "execution_count": 34,
     "metadata": {},
     "output_type": "execute_result"
    }
   ],
   "source": [
    "df[(df['Sex']=='male')&(df['Survived']==1)].count()[0:1]"
   ]
  },
  {
   "cell_type": "markdown",
   "metadata": {},
   "source": [
    "There were 109 male survivals from sinking of titanic."
   ]
  },
  {
   "cell_type": "markdown",
   "metadata": {},
   "source": [
    "### How many Female survived from sinking of titanic?"
   ]
  },
  {
   "cell_type": "code",
   "execution_count": 35,
   "metadata": {},
   "outputs": [
    {
     "data": {
      "text/plain": [
       "Survived    231\n",
       "dtype: int64"
      ]
     },
     "execution_count": 35,
     "metadata": {},
     "output_type": "execute_result"
    }
   ],
   "source": [
    "df[(df['Sex']=='female')&(df['Survived']==1)].count()[0:1]"
   ]
  },
  {
   "cell_type": "markdown",
   "metadata": {},
   "source": [
    "There were 231 female survival from titanic's sinking."
   ]
  },
  {
   "cell_type": "markdown",
   "metadata": {},
   "source": [
    "### How many people survived?"
   ]
  },
  {
   "cell_type": "code",
   "execution_count": 36,
   "metadata": {},
   "outputs": [
    {
     "data": {
      "text/plain": [
       "Survived    340\n",
       "dtype: int64"
      ]
     },
     "execution_count": 36,
     "metadata": {},
     "output_type": "execute_result"
    }
   ],
   "source": [
    "df[df['Survived']==1].count()[0:1]"
   ]
  },
  {
   "cell_type": "markdown",
   "metadata": {},
   "source": [
    "304 people survived from titanic's accident."
   ]
  },
  {
   "cell_type": "markdown",
   "metadata": {},
   "source": [
    "### How many children were on-board on titanic?"
   ]
  },
  {
   "cell_type": "code",
   "execution_count": 37,
   "metadata": {},
   "outputs": [
    {
     "data": {
      "text/plain": [
       "Survived    139\n",
       "Pclass      139\n",
       "Name        139\n",
       "Sex         139\n",
       "Age         139\n",
       "SibSp       139\n",
       "Parch       139\n",
       "Ticket      139\n",
       "Fare        139\n",
       "Embarked    139\n",
       "dtype: int64"
      ]
     },
     "execution_count": 37,
     "metadata": {},
     "output_type": "execute_result"
    }
   ],
   "source": [
    "df[df['Age']<=18].count()"
   ]
  },
  {
   "cell_type": "markdown",
   "metadata": {},
   "source": [
    "There were 139 children board on titanic."
   ]
  },
  {
   "cell_type": "markdown",
   "metadata": {},
   "source": [
    "### How many of children were less than 10 years and how many from them survived and how many of them didn't survive?"
   ]
  },
  {
   "cell_type": "code",
   "execution_count": 38,
   "metadata": {},
   "outputs": [
    {
     "data": {
      "text/plain": [
       "Survived    64\n",
       "Pclass      64\n",
       "Name        64\n",
       "Sex         64\n",
       "Age         64\n",
       "SibSp       64\n",
       "Parch       64\n",
       "Ticket      64\n",
       "Fare        64\n",
       "Embarked    64\n",
       "dtype: int64"
      ]
     },
     "execution_count": 38,
     "metadata": {},
     "output_type": "execute_result"
    }
   ],
   "source": [
    "df[df['Age']<=10].count()"
   ]
  },
  {
   "cell_type": "code",
   "execution_count": 39,
   "metadata": {},
   "outputs": [
    {
     "data": {
      "text/plain": [
       "Survived    38\n",
       "dtype: int64"
      ]
     },
     "execution_count": 39,
     "metadata": {},
     "output_type": "execute_result"
    }
   ],
   "source": [
    "df[(df['Age']<=10)&(df['Survived']==1)].count()[0:1]"
   ]
  },
  {
   "cell_type": "code",
   "execution_count": 40,
   "metadata": {},
   "outputs": [
    {
     "data": {
      "text/plain": [
       "Survived    26\n",
       "Pclass      26\n",
       "Name        26\n",
       "Sex         26\n",
       "Age         26\n",
       "SibSp       26\n",
       "Parch       26\n",
       "Ticket      26\n",
       "Fare        26\n",
       "Embarked    26\n",
       "dtype: int64"
      ]
     },
     "execution_count": 40,
     "metadata": {},
     "output_type": "execute_result"
    }
   ],
   "source": [
    "df[(df['Age']<=10)&(df['Survived']==0)].count()"
   ]
  },
  {
   "cell_type": "markdown",
   "metadata": {},
   "source": [
    "64 children were less than 10 years on titanic ship.Out of which only 38 survived and 26 of them didn't survived."
   ]
  },
  {
   "cell_type": "markdown",
   "metadata": {},
   "source": [
    "### How many from surviving people were female child less than 10 years?"
   ]
  },
  {
   "cell_type": "code",
   "execution_count": 41,
   "metadata": {},
   "outputs": [
    {
     "data": {
      "text/plain": [
       "Survived    19\n",
       "dtype: int64"
      ]
     },
     "execution_count": 41,
     "metadata": {},
     "output_type": "execute_result"
    }
   ],
   "source": [
    "df[(df['Age']<=10)&(df['Survived']==1)&(df['Sex']=='female')].count()[0:1]"
   ]
  },
  {
   "cell_type": "markdown",
   "metadata": {},
   "source": [
    "From surviving people there were 19 female child with age less than 10 years."
   ]
  },
  {
   "cell_type": "markdown",
   "metadata": {},
   "source": [
    "### How many people from not surviving were male child less than 10 years?"
   ]
  },
  {
   "cell_type": "code",
   "execution_count": 42,
   "metadata": {},
   "outputs": [
    {
     "data": {
      "text/plain": [
       "Survived    14\n",
       "Pclass      14\n",
       "Name        14\n",
       "Sex         14\n",
       "Age         14\n",
       "SibSp       14\n",
       "Parch       14\n",
       "Ticket      14\n",
       "Fare        14\n",
       "Embarked    14\n",
       "dtype: int64"
      ]
     },
     "execution_count": 42,
     "metadata": {},
     "output_type": "execute_result"
    }
   ],
   "source": [
    "df[(df['Age']<=10)&(df['Survived']==0)&(df['Sex']=='male')].count()"
   ]
  },
  {
   "cell_type": "markdown",
   "metadata": {},
   "source": [
    "There were 14 people not surviving who were male and age was less than 10 years."
   ]
  },
  {
   "cell_type": "markdown",
   "metadata": {},
   "source": [
    "### What was the surviving rate on titanic?"
   ]
  },
  {
   "cell_type": "code",
   "execution_count": 43,
   "metadata": {},
   "outputs": [
    {
     "data": {
      "text/plain": [
       "Survived    38.245219\n",
       "dtype: float64"
      ]
     },
     "execution_count": 43,
     "metadata": {},
     "output_type": "execute_result"
    }
   ],
   "source": [
    "df[df['Survived']==1].count()[0:1]/len(df)*100"
   ]
  },
  {
   "cell_type": "markdown",
   "metadata": {},
   "source": [
    "The surviving rate on titanic was 38.25%"
   ]
  },
  {
   "cell_type": "markdown",
   "metadata": {},
   "source": [
    "### What was the death rate on titanic?"
   ]
  },
  {
   "cell_type": "code",
   "execution_count": 44,
   "metadata": {},
   "outputs": [
    {
     "data": {
      "text/plain": [
       "Survived    61.754781\n",
       "dtype: float64"
      ]
     },
     "execution_count": 44,
     "metadata": {},
     "output_type": "execute_result"
    }
   ],
   "source": [
    "df[df['Survived']==0].count()[0:1]/len(df)*100"
   ]
  },
  {
   "cell_type": "markdown",
   "metadata": {},
   "source": [
    "The Death rate on titanic was 61.75%"
   ]
  },
  {
   "cell_type": "markdown",
   "metadata": {},
   "source": [
    "### Out of passengers died on titanic what was the percentage of male and female?"
   ]
  },
  {
   "cell_type": "code",
   "execution_count": 45,
   "metadata": {},
   "outputs": [
    {
     "data": {
      "image/png": "[encoded data removed]",
      "text/plain": [
       "<Figure size 432x432 with 1 Axes>"
      ]
     },
     "metadata": {},
     "output_type": "display_data"
    }
   ],
   "source": [
    "plt.figure(figsize=(6,6))\n",
    "df[df['Survived']==0]['Sex'].value_counts().plot.pie(autopct='%1.2f%%',labels=['Male','Female'],explode=(0,0.15),colors=['Green','Orange'])\n",
    "plt.title('Passengers died')\n",
    "plt.show()"
   ]
  },
  {
   "cell_type": "markdown",
   "metadata": {},
   "source": [
    "Out of all passengers who died on titanic there were 85.25% Male and 14.75% people."
   ]
  },
  {
   "cell_type": "markdown",
   "metadata": {},
   "source": [
    "### What was the count of people who coludn't survive from each class?"
   ]
  },
  {
   "cell_type": "code",
   "execution_count": 46,
   "metadata": {},
   "outputs": [
    {
     "data": {
      "text/plain": [
       "3    372\n",
       "2     97\n",
       "1     80\n",
       "Name: Pclass, dtype: int64"
      ]
     },
     "execution_count": 46,
     "metadata": {},
     "output_type": "execute_result"
    }
   ],
   "source": [
    "df[df['Survived']==0]['Pclass'].value_counts()"
   ]
  },
  {
   "cell_type": "markdown",
   "metadata": {},
   "source": [
    "The count of people who couldn't survive from each class are:\n",
    "from class 1 - 80 people couldn't survive\n",
    "from class 2 - 97 people couldn't survive\n",
    "from class 3 - 372 people couldn't survive"
   ]
  },
  {
   "cell_type": "markdown",
   "metadata": {},
   "source": [
    "### How many passengers who couldn't survive were male from each class?"
   ]
  },
  {
   "cell_type": "code",
   "execution_count": 47,
   "metadata": {},
   "outputs": [
    {
     "data": {
      "text/plain": [
       "3    300\n",
       "2     91\n",
       "1     77\n",
       "Name: Pclass, dtype: int64"
      ]
     },
     "execution_count": 47,
     "metadata": {},
     "output_type": "execute_result"
    }
   ],
   "source": [
    "df[(df['Survived']==0)&(df['Sex']=='male')]['Pclass'].value_counts()"
   ]
  },
  {
   "cell_type": "markdown",
   "metadata": {},
   "source": [
    "From class 1 there were 77 people who were male and were not able to survive.\n",
    "From class 2 there were 91 people who were male and were not able to survive.\n",
    "From class 3 there were 300 people who were male and were not able to survive.\n"
   ]
  },
  {
   "cell_type": "markdown",
   "metadata": {},
   "source": [
    "### How many people from each class survived and were male?"
   ]
  },
  {
   "cell_type": "code",
   "execution_count": 48,
   "metadata": {},
   "outputs": [
    {
     "data": {
      "text/plain": [
       "3    47\n",
       "1    45\n",
       "2    17\n",
       "Name: Pclass, dtype: int64"
      ]
     },
     "execution_count": 48,
     "metadata": {},
     "output_type": "execute_result"
    }
   ],
   "source": [
    "df[(df['Survived']==1)&(df['Sex']=='male')]['Pclass'].value_counts()"
   ]
  },
  {
   "cell_type": "markdown",
   "metadata": {},
   "source": [
    "From class 1 there were 45 people who were male and were able to survive.\n",
    "From class 2 there were 17 people who were male and were able to survive.\n",
    "From class 3 there were 47 people who were male and were able to survive.\n"
   ]
  },
  {
   "cell_type": "markdown",
   "metadata": {},
   "source": [
    "### What was the average age of people who survived the crash?"
   ]
  },
  {
   "cell_type": "code",
   "execution_count": 49,
   "metadata": {},
   "outputs": [
    {
     "data": {
      "text/plain": [
       "30.415099646415896"
      ]
     },
     "execution_count": 49,
     "metadata": {},
     "output_type": "execute_result"
    }
   ],
   "source": [
    "df[df['Survived']==0]['Age'].mean()"
   ]
  },
  {
   "cell_type": "markdown",
   "metadata": {},
   "source": [
    "The average age of people surviving the crash was around 30 years."
   ]
  },
  {
   "cell_type": "code",
   "execution_count": 50,
   "metadata": {},
   "outputs": [
    {
     "name": "stdout",
     "output_type": "stream",
     "text": [
      "Object `titanic` not found.\n"
     ]
    }
   ],
   "source": [
    "What was the rate of passengers 'class' travelling through titanic?"
   ]
  },
  {
   "cell_type": "markdown",
   "metadata": {},
   "source": [
    "### What was the rate of passengers 'class' travelling through titanic?"
   ]
  },
  {
   "cell_type": "code",
   "execution_count": 52,
   "metadata": {},
   "outputs": [
    {
     "data": {
      "image/png": "[encoded data removed]",
      "text/plain": [
       "<Figure size 432x432 with 1 Axes>"
      ]
     },
     "metadata": {},
     "output_type": "display_data"
    }
   ],
   "source": [
    "plt.figure(figsize=(6,6))\n",
    "df['Pclass'].value_counts().plot.pie(autopct='%1.2f%%',labels=['Class I Passengers','Class II Passengers','Class III Passengers'])\n",
    "plt.title('Passengers Travelling on Titanic')\n",
    "plt.show()"
   ]
  },
  {
   "cell_type": "markdown",
   "metadata": {},
   "source": [
    "Among the people travelling through the titanic there were 55.23% of people from class 1,\n",
    " 24.07% of people from class 2, 20.70% of people from class 3."
   ]
  },
  {
   "cell_type": "markdown",
   "metadata": {},
   "source": [
    "### Most number of people embarked were from which place?"
   ]
  },
  {
   "cell_type": "code",
   "execution_count": null,
   "metadata": {},
   "outputs": [],
   "source": [
    "df[df['Pclass']==1]['Embarked'].mode()"
   ]
  },
  {
   "cell_type": "markdown",
   "metadata": {},
   "source": [
    "###### The most number of passengers embarked were from 'Southampton'."
   ]
  },
  {
   "cell_type": "markdown",
   "metadata": {},
   "source": [
    "### What was the count of male survived from each city?"
   ]
  },
  {
   "cell_type": "code",
   "execution_count": 53,
   "metadata": {},
   "outputs": [
    {
     "data": {
      "image/png": "[encoded data removed]",
      "text/plain": [
       "<Figure size 432x288 with 1 Axes>"
      ]
     },
     "metadata": {
      "needs_background": "light"
     },
     "output_type": "display_data"
    }
   ],
   "source": [
    "df[(df['Sex']=='male')&(df['Survived']==1)]['Embarked'].value_counts().plot.bar(color=['Red','Blue','Green'])\n",
    "plt.title('Male Survived from each place')\n",
    "plt.xticks(rotation=360,ticks=[0,1,2],labels=['Southampton','Cherbourg','Queenstown'])\n",
    "plt.show()"
   ]
  },
  {
   "cell_type": "markdown",
   "metadata": {},
   "source": [
    "The Male survived from Southampton were 77, from Cherbourg were 29 and male survived from Queenstown were 3."
   ]
  },
  {
   "cell_type": "markdown",
   "metadata": {},
   "source": [
    "### What was the average fare of each class?"
   ]
  },
  {
   "cell_type": "code",
   "execution_count": 61,
   "metadata": {},
   "outputs": [
    {
     "data": {
      "text/plain": [
       "<matplotlib.axes._subplots.AxesSubplot at 0x188e1a91548>"
      ]
     },
     "execution_count": 61,
     "metadata": {},
     "output_type": "execute_result"
    },
    {
     "data": {
      "image/png": "[encoded data removed]",
      "text/plain": [
       "<Figure size 432x288 with 1 Axes>"
      ]
     },
     "metadata": {
      "needs_background": "light"
     },
     "output_type": "display_data"
    }
   ],
   "source": [
    "df.groupby('Pclass')['Fare'].mean()\n",
    "sns.countplot(round(df.groupby('Pclass')['Fare'].mean(),2))"
   ]
  },
  {
   "cell_type": "markdown",
   "metadata": {},
   "source": [
    "The average fare of class 1 was $84.19,\n",
    "The average fare of class 2 was $20.66,\n",
    "and average fare of class 3 was $13.68."
   ]
  }
 ],
 "metadata": {
  "kernelspec": {
   "display_name": "Python 3",
   "language": "python",
   "name": "python3"
  },
  "language_info": {
   "codemirror_mode": {
    "name": "ipython",
    "version": 3
   },
   "file_extension": ".py",
   "mimetype": "text/x-python",
   "name": "python",
   "nbconvert_exporter": "python",
   "pygments_lexer": "ipython3",
   "version": "3.7.4"
  }
 },
 "nbformat": 4,
 "nbformat_minor": 2
}
